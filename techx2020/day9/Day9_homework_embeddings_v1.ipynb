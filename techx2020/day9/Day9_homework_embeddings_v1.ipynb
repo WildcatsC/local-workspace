{
 "cells": [
  {
   "cell_type": "markdown",
   "metadata": {
    "slideshow": {
     "slide_type": "slide"
    }
   },
   "source": [
    "***\n",
    "***\n",
    "\n",
    "## The Geometry of Culture\n",
    "\n",
    "Analyzing Meaning through Word Embeddings\n",
    "\n",
    "***\n",
    "***\n",
    "\n",
    "Code and data associated with the ASR paper on the Geometry of Culture. The full paper can be found here: https://journals.sagepub.com/doi/full/10.1177/0003122419877135\n",
    "\n",
    "Austin C. Kozlowski; Matt Taddy; James A. Evans\n",
    "\n",
    "Word embeddings represent **semantic relations** between words as **geometric relationships** between vectors in a high-dimensional space, operationalizing a relational model of meaning consistent with contemporary theories of identity and culture. "
   ]
  },
  {
   "cell_type": "markdown",
   "metadata": {
    "slideshow": {
     "slide_type": "subslide"
    }
   },
   "source": [
    "## Download this repo\n",
    "https://github.com/KnowledgeLab/GeometryofCulture\n",
    "\n",
    "下载\n",
    "- affluence_pairs.csv\n",
    "\n",
    "- gender_pairs.csv\n",
    "\n",
    "- race_pairs.csv"
   ]
  },
  {
   "cell_type": "markdown",
   "metadata": {
    "slideshow": {
     "slide_type": "subslide"
    }
   },
   "source": [
    "\n",
    "- Dimensions induced by word differences (e.g. man - woman, rich - poor, black - white, liberal - conservative) in these vector spaces closely correspond to dimensions of cultural meaning, \n",
    "- Macro-cultural investigation with a longitudinal analysis of the coevolution of gender and class associations in the United States over the 20th century \n",
    "\n",
    "The success of these high-dimensional models motivates a move towards \"high-dimensional theorizing\" of meanings, identities and cultural processes."
   ]
  },
  {
   "cell_type": "markdown",
   "metadata": {
    "slideshow": {
     "slide_type": "subslide"
    }
   },
   "source": [
    "$$\n",
    "\\text{similarity} = \\cos(\\theta) = {\\mathbf{A} \\cdot \\mathbf{B} \\over \\|\\mathbf{A}\\| \\|\\mathbf{B}\\|} = \\frac{ \\sum\\limits_{i=1}^{n}{A_i  B_i} }{ \\sqrt{\\sum\\limits_{i=1}^{n}{A_i^2}}  \\sqrt{\\sum\\limits_{i=1}^{n}{B_i^2}} },\n",
    "$$\n",
    "\n",
    "where $A_i$ and $B_i$ are components of vector $A$ and $B$ respectively."
   ]
  },
  {
   "cell_type": "code",
   "execution_count": 19,
   "metadata": {
    "ExecuteTime": {
     "end_time": "2020-08-14T05:04:59.325063Z",
     "start_time": "2020-08-14T05:04:59.318970Z"
    },
    "slideshow": {
     "slide_type": "subslide"
    }
   },
   "outputs": [
    {
     "data": {
      "text/plain": [
       "-0.4999999999999999"
      ]
     },
     "execution_count": 19,
     "metadata": {},
     "output_type": "execute_result"
    }
   ],
   "source": [
    "from numpy import dot\n",
    "from numpy.linalg import norm\n",
    "\n",
    "def cos_sim(a, b):\n",
    "    return dot(a, b)/(norm(a)*norm(b))\n",
    "\n",
    "cos_sim([1, 0, -1], [-1,-1, 0])"
   ]
  },
  {
   "cell_type": "code",
   "execution_count": 20,
   "metadata": {
    "ExecuteTime": {
     "end_time": "2020-08-14T05:05:01.584412Z",
     "start_time": "2020-08-14T05:05:01.439890Z"
    },
    "slideshow": {
     "slide_type": "subslide"
    }
   },
   "outputs": [
    {
     "data": {
      "text/plain": [
       "array([[-0.5]])"
      ]
     },
     "execution_count": 20,
     "metadata": {},
     "output_type": "execute_result"
    }
   ],
   "source": [
    "from sklearn.metrics.pairwise import cosine_similarity\n",
    "\n",
    "cosine_similarity([[1, 0, -1]], [[-1,-1, 0]])"
   ]
  },
  {
   "cell_type": "markdown",
   "metadata": {
    "slideshow": {
     "slide_type": "subslide"
    }
   },
   "source": [
    "### Google News Word2Vec\n",
    "\n",
    "You can download Google’s pre-trained model here.\n",
    "\n",
    "- It’s 1.5GB! \n",
    "- It includes word vectors for a vocabulary of 3 million words and phrases \n",
    "- It is trained on roughly 100 billion words from a Google News dataset. \n",
    "- The vector length is 300 features.\n",
    "\n",
    "http://mccormickml.com/2016/04/12/googles-pretrained-word2vec-model-in-python/"
   ]
  },
  {
   "cell_type": "markdown",
   "metadata": {
    "slideshow": {
     "slide_type": "subslide"
    }
   },
   "source": [
    "Using the **Gensim** library in python, we can \n",
    "- find the most similar words to the resulting vector. \n",
    "- add and subtract word vectors, \n"
   ]
  },
  {
   "cell_type": "code",
   "execution_count": 1,
   "metadata": {
    "ExecuteTime": {
     "end_time": "2020-08-14T03:46:06.885174Z",
     "start_time": "2020-08-14T03:45:43.187009Z"
    },
    "slideshow": {
     "slide_type": "subslide"
    }
   },
   "outputs": [],
   "source": [
    "import gensim\n",
    "# Load Google's pre-trained Word2Vec model.\n",
    "filepath = '/Users/datalab/bigdata/GoogleNews-vectors-negative300.bin'\n",
    "model = gensim.models.KeyedVectors.load_word2vec_format(filepath, binary=True) "
   ]
  },
  {
   "cell_type": "code",
   "execution_count": 3,
   "metadata": {
    "ExecuteTime": {
     "end_time": "2020-08-14T03:46:24.610657Z",
     "start_time": "2020-08-14T03:46:24.606517Z"
    },
    "slideshow": {
     "slide_type": "subslide"
    }
   },
   "outputs": [
    {
     "data": {
      "text/plain": [
       "array([ 0.24316406, -0.07714844, -0.10302734, -0.10742188,  0.11816406,\n",
       "       -0.10742188, -0.11425781,  0.02563477,  0.11181641,  0.04858398],\n",
       "      dtype=float32)"
      ]
     },
     "execution_count": 3,
     "metadata": {},
     "output_type": "execute_result"
    }
   ],
   "source": [
    "model['woman'][:10]"
   ]
  },
  {
   "cell_type": "code",
   "execution_count": 7,
   "metadata": {
    "ExecuteTime": {
     "end_time": "2020-08-14T03:48:06.918378Z",
     "start_time": "2020-08-14T03:48:06.713168Z"
    },
    "slideshow": {
     "slide_type": "subslide"
    }
   },
   "outputs": [
    {
     "data": {
      "text/plain": [
       "[('Plato_Apology', 0.5661361217498779),\n",
       " ('philosopher_Socrates', 0.561074435710907),\n",
       " ('Aristotle', 0.5599992275238037),\n",
       " ('Parmenides', 0.541626513004303),\n",
       " ('Sophists', 0.5381807088851929),\n",
       " ('Sócrates', 0.533310055732727),\n",
       " ('Plato', 0.5317621827125549),\n",
       " ('philosopher_Aristotle', 0.5256754159927368),\n",
       " ('Plato_Socrates', 0.524064838886261),\n",
       " ('philosopher_Plato', 0.5164784789085388)]"
      ]
     },
     "execution_count": 7,
     "metadata": {},
     "output_type": "execute_result"
    }
   ],
   "source": [
    "model.most_similar('Socrates')"
   ]
  },
  {
   "cell_type": "code",
   "execution_count": 10,
   "metadata": {
    "ExecuteTime": {
     "end_time": "2020-08-14T03:49:03.222758Z",
     "start_time": "2020-08-14T03:49:03.218521Z"
    },
    "slideshow": {
     "slide_type": "subslide"
    }
   },
   "outputs": [
    {
     "data": {
      "text/plain": [
       "0.76640123"
      ]
     },
     "execution_count": 10,
     "metadata": {},
     "output_type": "execute_result"
    }
   ],
   "source": [
    "model.similarity('woman', 'man')"
   ]
  },
  {
   "cell_type": "code",
   "execution_count": 24,
   "metadata": {
    "ExecuteTime": {
     "end_time": "2020-08-14T05:05:13.891241Z",
     "start_time": "2020-08-14T05:05:13.887119Z"
    },
    "slideshow": {
     "slide_type": "fragment"
    }
   },
   "outputs": [
    {
     "data": {
      "text/plain": [
       "0.76640123"
      ]
     },
     "execution_count": 24,
     "metadata": {},
     "output_type": "execute_result"
    }
   ],
   "source": [
    "cos_sim(model['woman'], model['man'])"
   ]
  },
  {
   "cell_type": "code",
   "execution_count": 25,
   "metadata": {
    "ExecuteTime": {
     "end_time": "2020-08-14T05:05:18.768602Z",
     "start_time": "2020-08-14T05:05:17.725021Z"
    },
    "slideshow": {
     "slide_type": "subslide"
    }
   },
   "outputs": [
    {
     "data": {
      "text/plain": [
       "[('queen', 0.7118192911148071),\n",
       " ('monarch', 0.6189674139022827),\n",
       " ('princess', 0.5902431607246399),\n",
       " ('crown_prince', 0.5499460697174072),\n",
       " ('prince', 0.5377321243286133)]"
      ]
     },
     "execution_count": 25,
     "metadata": {},
     "output_type": "execute_result"
    }
   ],
   "source": [
    "model.most_similar(positive=['woman', 'king'], negative=['man'], topn=5)"
   ]
  },
  {
   "cell_type": "code",
   "execution_count": 52,
   "metadata": {
    "ExecuteTime": {
     "end_time": "2020-08-14T05:35:16.629282Z",
     "start_time": "2020-08-14T05:35:16.624343Z"
    },
    "slideshow": {
     "slide_type": "subslide"
    }
   },
   "outputs": [],
   "source": [
    "from numpy import dot  #Dot product#\n",
    "from numpy.linalg import norm\n",
    "from sklearn.metrics.pairwise import cosine_similarity\n",
    "from scipy import spatial\n",
    "\n",
    "\n",
    "def cos_sim(a, b):\n",
    "    return dot(a, b)/(norm(a)*norm(b))\n",
    "\n",
    "def cos(x, y):\n",
    "    return 1 - spatial.distance.cosine(x, y)\n",
    "\n",
    "def nrm(x):\n",
    "    # Normalize vector#\n",
    "    return x/norm(x)\n",
    "\n",
    "def dimension(x, y):\n",
    "    # Calculate semantic dimension from antonym pair#\n",
    "    return nrm(nrm(x)-nrm(y))\n"
   ]
  },
  {
   "cell_type": "code",
   "execution_count": 82,
   "metadata": {
    "ExecuteTime": {
     "end_time": "2020-08-14T08:55:39.115821Z",
     "start_time": "2020-08-14T08:55:39.106495Z"
    },
    "slideshow": {
     "slide_type": "subslide"
    }
   },
   "outputs": [],
   "source": [
    "###IMPORT LISTS OF TERMS TO PROJECT AND ANTONYM PAIRS#####\n",
    "import pandas as pd\n",
    "ant_pairs_aff = pd.read_csv(\"./GeometryofCulture/code/word_pairs/affluence_pairs.csv\",header=None)\n",
    "ant_pairs_gen = pd.read_csv(\"./GeometryofCulture/code/word_pairs/gender_pairs.csv\",header=None)\n",
    "ant_pairs_race = pd.read_csv(\"./GeometryofCulture/code/word_pairs/race_pairs.csv\",header=None)"
   ]
  },
  {
   "cell_type": "code",
   "execution_count": 89,
   "metadata": {
    "ExecuteTime": {
     "end_time": "2020-08-14T08:59:18.067098Z",
     "start_time": "2020-08-14T08:59:18.011151Z"
    }
   },
   "outputs": [],
   "source": [
    "pd.read_csv?"
   ]
  },
  {
   "cell_type": "code",
   "execution_count": 90,
   "metadata": {
    "ExecuteTime": {
     "end_time": "2020-08-14T09:01:52.475160Z",
     "start_time": "2020-08-14T09:01:52.463105Z"
    }
   },
   "outputs": [
    {
     "data": {
      "text/html": [
       "<div>\n",
       "<style scoped>\n",
       "    .dataframe tbody tr th:only-of-type {\n",
       "        vertical-align: middle;\n",
       "    }\n",
       "\n",
       "    .dataframe tbody tr th {\n",
       "        vertical-align: top;\n",
       "    }\n",
       "\n",
       "    .dataframe thead th {\n",
       "        text-align: right;\n",
       "    }\n",
       "</style>\n",
       "<table border=\"1\" class=\"dataframe\">\n",
       "  <thead>\n",
       "    <tr style=\"text-align: right;\">\n",
       "      <th></th>\n",
       "      <th>word</th>\n",
       "      <th>gender_mean</th>\n",
       "      <th>class_mean</th>\n",
       "      <th>race_mean</th>\n",
       "    </tr>\n",
       "  </thead>\n",
       "  <tbody>\n",
       "    <tr>\n",
       "      <th>0</th>\n",
       "      <td>basketball</td>\n",
       "      <td>72.49233</td>\n",
       "      <td>37.48029</td>\n",
       "      <td>81.05358</td>\n",
       "    </tr>\n",
       "    <tr>\n",
       "      <th>1</th>\n",
       "      <td>baseball</td>\n",
       "      <td>77.60552</td>\n",
       "      <td>46.90747</td>\n",
       "      <td>38.39533</td>\n",
       "    </tr>\n",
       "    <tr>\n",
       "      <th>2</th>\n",
       "      <td>boxing</td>\n",
       "      <td>86.39916</td>\n",
       "      <td>36.92365</td>\n",
       "      <td>64.95531</td>\n",
       "    </tr>\n",
       "    <tr>\n",
       "      <th>3</th>\n",
       "      <td>softball</td>\n",
       "      <td>32.61073</td>\n",
       "      <td>45.31939</td>\n",
       "      <td>26.82060</td>\n",
       "    </tr>\n",
       "    <tr>\n",
       "      <th>4</th>\n",
       "      <td>volleyball</td>\n",
       "      <td>31.83629</td>\n",
       "      <td>54.05517</td>\n",
       "      <td>25.81080</td>\n",
       "    </tr>\n",
       "  </tbody>\n",
       "</table>\n",
       "</div>"
      ],
      "text/plain": [
       "         word  gender_mean  class_mean  race_mean\n",
       "0  basketball     72.49233    37.48029   81.05358\n",
       "1    baseball     77.60552    46.90747   38.39533\n",
       "2      boxing     86.39916    36.92365   64.95531\n",
       "3    softball     32.61073    45.31939   26.82060\n",
       "4  volleyball     31.83629    54.05517   25.81080"
      ]
     },
     "execution_count": 90,
     "metadata": {},
     "output_type": "execute_result"
    }
   ],
   "source": [
    "df_survey = pd.read_csv(\"./GeometryofCulture//survey_data/survey_means_weighted.csv\", skiprows = 1,\n",
    "                       names = ['word','gender_mean','class_mean','race_mean'])\n",
    "df_survey.head()\n"
   ]
  },
  {
   "cell_type": "markdown",
   "metadata": {
    "ExecuteTime": {
     "end_time": "2020-08-14T05:35:19.253721Z",
     "start_time": "2020-08-14T05:35:19.248336Z"
    },
    "slideshow": {
     "slide_type": "skip"
    }
   },
   "source": [
    "```R\n",
    "make_dim<-function(embedding,pairs){\n",
    "                    word_dims<-data.frame(matrix(NA,nrow(pairs),300))\n",
    "                    for (j in 1:nrow(pairs)){\n",
    "                    rp_word1<-pairs[j,1]\n",
    "                    rp_word2<-pairs[j,2]\n",
    "                    tryCatch(word_dims[j,]<-dimension(embedding[rp_word1,],\n",
    "                        embedding[rp_word2,]),\n",
    "                        error=function(e){})\n",
    "                    }\n",
    "                    dim_ave<-colMeans(word_dims, na.rm = TRUE)\n",
    "                    dim_ave_n<-nrm(dim_ave)\n",
    "                    return(dim_ave_n)\n",
    "                    }\n",
    "```"
   ]
  },
  {
   "cell_type": "code",
   "execution_count": 91,
   "metadata": {
    "ExecuteTime": {
     "end_time": "2020-08-14T09:02:01.586808Z",
     "start_time": "2020-08-14T09:02:01.571266Z"
    }
   },
   "outputs": [
    {
     "data": {
      "text/html": [
       "<div>\n",
       "<style scoped>\n",
       "    .dataframe tbody tr th:only-of-type {\n",
       "        vertical-align: middle;\n",
       "    }\n",
       "\n",
       "    .dataframe tbody tr th {\n",
       "        vertical-align: top;\n",
       "    }\n",
       "\n",
       "    .dataframe thead th {\n",
       "        text-align: right;\n",
       "    }\n",
       "</style>\n",
       "<table border=\"1\" class=\"dataframe\">\n",
       "  <thead>\n",
       "    <tr style=\"text-align: right;\">\n",
       "      <th></th>\n",
       "      <th>word</th>\n",
       "      <th>gender_mean</th>\n",
       "      <th>class_mean</th>\n",
       "      <th>race_mean</th>\n",
       "    </tr>\n",
       "  </thead>\n",
       "  <tbody>\n",
       "    <tr>\n",
       "      <th>0</th>\n",
       "      <td>basketball</td>\n",
       "      <td>72.49233</td>\n",
       "      <td>37.48029</td>\n",
       "      <td>81.05358</td>\n",
       "    </tr>\n",
       "    <tr>\n",
       "      <th>1</th>\n",
       "      <td>baseball</td>\n",
       "      <td>77.60552</td>\n",
       "      <td>46.90747</td>\n",
       "      <td>38.39533</td>\n",
       "    </tr>\n",
       "    <tr>\n",
       "      <th>2</th>\n",
       "      <td>boxing</td>\n",
       "      <td>86.39916</td>\n",
       "      <td>36.92365</td>\n",
       "      <td>64.95531</td>\n",
       "    </tr>\n",
       "    <tr>\n",
       "      <th>3</th>\n",
       "      <td>softball</td>\n",
       "      <td>32.61073</td>\n",
       "      <td>45.31939</td>\n",
       "      <td>26.82060</td>\n",
       "    </tr>\n",
       "    <tr>\n",
       "      <th>4</th>\n",
       "      <td>volleyball</td>\n",
       "      <td>31.83629</td>\n",
       "      <td>54.05517</td>\n",
       "      <td>25.81080</td>\n",
       "    </tr>\n",
       "    <tr>\n",
       "      <th>5</th>\n",
       "      <td>tennis</td>\n",
       "      <td>42.65294</td>\n",
       "      <td>75.34252</td>\n",
       "      <td>25.93527</td>\n",
       "    </tr>\n",
       "    <tr>\n",
       "      <th>6</th>\n",
       "      <td>golf</td>\n",
       "      <td>64.92760</td>\n",
       "      <td>82.92412</td>\n",
       "      <td>21.00702</td>\n",
       "    </tr>\n",
       "    <tr>\n",
       "      <th>7</th>\n",
       "      <td>hockey</td>\n",
       "      <td>84.42197</td>\n",
       "      <td>40.18831</td>\n",
       "      <td>18.71368</td>\n",
       "    </tr>\n",
       "    <tr>\n",
       "      <th>8</th>\n",
       "      <td>soccer</td>\n",
       "      <td>64.12531</td>\n",
       "      <td>44.74304</td>\n",
       "      <td>35.91770</td>\n",
       "    </tr>\n",
       "    <tr>\n",
       "      <th>9</th>\n",
       "      <td>hairdresser</td>\n",
       "      <td>20.69020</td>\n",
       "      <td>25.58188</td>\n",
       "      <td>50.86118</td>\n",
       "    </tr>\n",
       "    <tr>\n",
       "      <th>10</th>\n",
       "      <td>lawyer</td>\n",
       "      <td>61.77906</td>\n",
       "      <td>83.59479</td>\n",
       "      <td>35.66758</td>\n",
       "    </tr>\n",
       "    <tr>\n",
       "      <th>11</th>\n",
       "      <td>doctor</td>\n",
       "      <td>60.06721</td>\n",
       "      <td>86.58565</td>\n",
       "      <td>37.82003</td>\n",
       "    </tr>\n",
       "    <tr>\n",
       "      <th>12</th>\n",
       "      <td>plumber</td>\n",
       "      <td>80.25067</td>\n",
       "      <td>22.84663</td>\n",
       "      <td>39.27434</td>\n",
       "    </tr>\n",
       "    <tr>\n",
       "      <th>13</th>\n",
       "      <td>scientist</td>\n",
       "      <td>61.87003</td>\n",
       "      <td>75.96935</td>\n",
       "      <td>32.74435</td>\n",
       "    </tr>\n",
       "    <tr>\n",
       "      <th>14</th>\n",
       "      <td>engineer</td>\n",
       "      <td>69.79498</td>\n",
       "      <td>73.64344</td>\n",
       "      <td>32.92745</td>\n",
       "    </tr>\n",
       "    <tr>\n",
       "      <th>15</th>\n",
       "      <td>banker</td>\n",
       "      <td>59.90740</td>\n",
       "      <td>72.64936</td>\n",
       "      <td>32.65704</td>\n",
       "    </tr>\n",
       "    <tr>\n",
       "      <th>16</th>\n",
       "      <td>nanny</td>\n",
       "      <td>17.65112</td>\n",
       "      <td>26.94414</td>\n",
       "      <td>41.04066</td>\n",
       "    </tr>\n",
       "    <tr>\n",
       "      <th>17</th>\n",
       "      <td>carpenter</td>\n",
       "      <td>80.93670</td>\n",
       "      <td>27.46218</td>\n",
       "      <td>42.08532</td>\n",
       "    </tr>\n",
       "    <tr>\n",
       "      <th>18</th>\n",
       "      <td>journalist</td>\n",
       "      <td>47.79544</td>\n",
       "      <td>54.51160</td>\n",
       "      <td>39.90278</td>\n",
       "    </tr>\n",
       "    <tr>\n",
       "      <th>19</th>\n",
       "      <td>nurse</td>\n",
       "      <td>26.29599</td>\n",
       "      <td>45.08054</td>\n",
       "      <td>43.68505</td>\n",
       "    </tr>\n",
       "    <tr>\n",
       "      <th>20</th>\n",
       "      <td>jazz</td>\n",
       "      <td>57.35235</td>\n",
       "      <td>62.31129</td>\n",
       "      <td>64.47241</td>\n",
       "    </tr>\n",
       "    <tr>\n",
       "      <th>21</th>\n",
       "      <td>bluegrass</td>\n",
       "      <td>59.70648</td>\n",
       "      <td>33.35516</td>\n",
       "      <td>27.63540</td>\n",
       "    </tr>\n",
       "    <tr>\n",
       "      <th>22</th>\n",
       "      <td>punk</td>\n",
       "      <td>68.89970</td>\n",
       "      <td>28.03863</td>\n",
       "      <td>25.61954</td>\n",
       "    </tr>\n",
       "    <tr>\n",
       "      <th>23</th>\n",
       "      <td>hiphop</td>\n",
       "      <td>70.36341</td>\n",
       "      <td>27.69916</td>\n",
       "      <td>80.38662</td>\n",
       "    </tr>\n",
       "    <tr>\n",
       "      <th>24</th>\n",
       "      <td>rap</td>\n",
       "      <td>77.08481</td>\n",
       "      <td>23.63341</td>\n",
       "      <td>84.40913</td>\n",
       "    </tr>\n",
       "    <tr>\n",
       "      <th>25</th>\n",
       "      <td>opera</td>\n",
       "      <td>30.27255</td>\n",
       "      <td>84.88982</td>\n",
       "      <td>18.43137</td>\n",
       "    </tr>\n",
       "    <tr>\n",
       "      <th>26</th>\n",
       "      <td>techno</td>\n",
       "      <td>55.59327</td>\n",
       "      <td>41.66504</td>\n",
       "      <td>31.80039</td>\n",
       "    </tr>\n",
       "    <tr>\n",
       "      <th>27</th>\n",
       "      <td>hamburger</td>\n",
       "      <td>67.21136</td>\n",
       "      <td>30.87822</td>\n",
       "      <td>49.86356</td>\n",
       "    </tr>\n",
       "    <tr>\n",
       "      <th>28</th>\n",
       "      <td>cheesecake</td>\n",
       "      <td>37.24012</td>\n",
       "      <td>57.44231</td>\n",
       "      <td>40.98562</td>\n",
       "    </tr>\n",
       "    <tr>\n",
       "      <th>29</th>\n",
       "      <td>salad</td>\n",
       "      <td>29.50207</td>\n",
       "      <td>57.14181</td>\n",
       "      <td>37.81654</td>\n",
       "    </tr>\n",
       "    <tr>\n",
       "      <th>30</th>\n",
       "      <td>steak</td>\n",
       "      <td>74.79743</td>\n",
       "      <td>65.75380</td>\n",
       "      <td>44.73505</td>\n",
       "    </tr>\n",
       "    <tr>\n",
       "      <th>31</th>\n",
       "      <td>wine</td>\n",
       "      <td>32.28771</td>\n",
       "      <td>72.63448</td>\n",
       "      <td>32.88507</td>\n",
       "    </tr>\n",
       "    <tr>\n",
       "      <th>32</th>\n",
       "      <td>beer</td>\n",
       "      <td>76.73858</td>\n",
       "      <td>29.18468</td>\n",
       "      <td>45.83547</td>\n",
       "    </tr>\n",
       "    <tr>\n",
       "      <th>33</th>\n",
       "      <td>pastry</td>\n",
       "      <td>34.25504</td>\n",
       "      <td>57.02082</td>\n",
       "      <td>38.23769</td>\n",
       "    </tr>\n",
       "    <tr>\n",
       "      <th>34</th>\n",
       "      <td>motorcycle</td>\n",
       "      <td>78.09129</td>\n",
       "      <td>40.79480</td>\n",
       "      <td>35.71057</td>\n",
       "    </tr>\n",
       "    <tr>\n",
       "      <th>35</th>\n",
       "      <td>minivan</td>\n",
       "      <td>31.53552</td>\n",
       "      <td>34.76901</td>\n",
       "      <td>36.71924</td>\n",
       "    </tr>\n",
       "    <tr>\n",
       "      <th>36</th>\n",
       "      <td>skateboard</td>\n",
       "      <td>71.73591</td>\n",
       "      <td>27.84433</td>\n",
       "      <td>33.28712</td>\n",
       "    </tr>\n",
       "    <tr>\n",
       "      <th>37</th>\n",
       "      <td>suv</td>\n",
       "      <td>56.46473</td>\n",
       "      <td>55.58908</td>\n",
       "      <td>43.94845</td>\n",
       "    </tr>\n",
       "    <tr>\n",
       "      <th>38</th>\n",
       "      <td>truck</td>\n",
       "      <td>78.91742</td>\n",
       "      <td>34.28461</td>\n",
       "      <td>40.08299</td>\n",
       "    </tr>\n",
       "    <tr>\n",
       "      <th>39</th>\n",
       "      <td>bicycle</td>\n",
       "      <td>53.63020</td>\n",
       "      <td>34.87230</td>\n",
       "      <td>44.11113</td>\n",
       "    </tr>\n",
       "    <tr>\n",
       "      <th>40</th>\n",
       "      <td>limousine</td>\n",
       "      <td>54.79961</td>\n",
       "      <td>87.28196</td>\n",
       "      <td>33.15888</td>\n",
       "    </tr>\n",
       "    <tr>\n",
       "      <th>41</th>\n",
       "      <td>blouse</td>\n",
       "      <td>13.86655</td>\n",
       "      <td>54.48048</td>\n",
       "      <td>44.10218</td>\n",
       "    </tr>\n",
       "    <tr>\n",
       "      <th>42</th>\n",
       "      <td>pants</td>\n",
       "      <td>61.52048</td>\n",
       "      <td>47.87089</td>\n",
       "      <td>49.03491</td>\n",
       "    </tr>\n",
       "    <tr>\n",
       "      <th>43</th>\n",
       "      <td>necklace</td>\n",
       "      <td>22.38490</td>\n",
       "      <td>60.73257</td>\n",
       "      <td>45.81803</td>\n",
       "    </tr>\n",
       "    <tr>\n",
       "      <th>44</th>\n",
       "      <td>tuxedo</td>\n",
       "      <td>87.36133</td>\n",
       "      <td>84.54303</td>\n",
       "      <td>38.43134</td>\n",
       "    </tr>\n",
       "    <tr>\n",
       "      <th>45</th>\n",
       "      <td>briefcase</td>\n",
       "      <td>71.59772</td>\n",
       "      <td>73.14077</td>\n",
       "      <td>38.03526</td>\n",
       "    </tr>\n",
       "    <tr>\n",
       "      <th>46</th>\n",
       "      <td>shirt</td>\n",
       "      <td>55.09586</td>\n",
       "      <td>46.58241</td>\n",
       "      <td>48.94017</td>\n",
       "    </tr>\n",
       "    <tr>\n",
       "      <th>47</th>\n",
       "      <td>dress</td>\n",
       "      <td>10.09335</td>\n",
       "      <td>57.52888</td>\n",
       "      <td>44.54394</td>\n",
       "    </tr>\n",
       "    <tr>\n",
       "      <th>48</th>\n",
       "      <td>suit</td>\n",
       "      <td>78.95429</td>\n",
       "      <td>74.72621</td>\n",
       "      <td>40.26133</td>\n",
       "    </tr>\n",
       "    <tr>\n",
       "      <th>49</th>\n",
       "      <td>socks</td>\n",
       "      <td>53.15930</td>\n",
       "      <td>46.93888</td>\n",
       "      <td>48.06988</td>\n",
       "    </tr>\n",
       "    <tr>\n",
       "      <th>50</th>\n",
       "      <td>shorts</td>\n",
       "      <td>50.21759</td>\n",
       "      <td>40.74440</td>\n",
       "      <td>48.08671</td>\n",
       "    </tr>\n",
       "    <tr>\n",
       "      <th>51</th>\n",
       "      <td>Jake</td>\n",
       "      <td>88.12366</td>\n",
       "      <td>51.34486</td>\n",
       "      <td>24.33859</td>\n",
       "    </tr>\n",
       "    <tr>\n",
       "      <th>52</th>\n",
       "      <td>Shanice</td>\n",
       "      <td>14.56900</td>\n",
       "      <td>35.08187</td>\n",
       "      <td>82.21732</td>\n",
       "    </tr>\n",
       "    <tr>\n",
       "      <th>53</th>\n",
       "      <td>Aaliyah</td>\n",
       "      <td>15.66787</td>\n",
       "      <td>40.41475</td>\n",
       "      <td>78.23722</td>\n",
       "    </tr>\n",
       "    <tr>\n",
       "      <th>54</th>\n",
       "      <td>Connor</td>\n",
       "      <td>83.58592</td>\n",
       "      <td>59.13945</td>\n",
       "      <td>20.59342</td>\n",
       "    </tr>\n",
       "    <tr>\n",
       "      <th>55</th>\n",
       "      <td>Jamal</td>\n",
       "      <td>87.80617</td>\n",
       "      <td>33.63767</td>\n",
       "      <td>86.35431</td>\n",
       "    </tr>\n",
       "    <tr>\n",
       "      <th>56</th>\n",
       "      <td>Molly</td>\n",
       "      <td>11.40538</td>\n",
       "      <td>52.93874</td>\n",
       "      <td>20.65734</td>\n",
       "    </tr>\n",
       "    <tr>\n",
       "      <th>57</th>\n",
       "      <td>Tyrone</td>\n",
       "      <td>89.98954</td>\n",
       "      <td>33.37189</td>\n",
       "      <td>86.50137</td>\n",
       "    </tr>\n",
       "    <tr>\n",
       "      <th>58</th>\n",
       "      <td>Amy</td>\n",
       "      <td>11.52517</td>\n",
       "      <td>54.33826</td>\n",
       "      <td>22.09146</td>\n",
       "    </tr>\n",
       "  </tbody>\n",
       "</table>\n",
       "</div>"
      ],
      "text/plain": [
       "           word  gender_mean  class_mean  race_mean\n",
       "0    basketball     72.49233    37.48029   81.05358\n",
       "1      baseball     77.60552    46.90747   38.39533\n",
       "2        boxing     86.39916    36.92365   64.95531\n",
       "3      softball     32.61073    45.31939   26.82060\n",
       "4    volleyball     31.83629    54.05517   25.81080\n",
       "5        tennis     42.65294    75.34252   25.93527\n",
       "6          golf     64.92760    82.92412   21.00702\n",
       "7        hockey     84.42197    40.18831   18.71368\n",
       "8        soccer     64.12531    44.74304   35.91770\n",
       "9   hairdresser     20.69020    25.58188   50.86118\n",
       "10       lawyer     61.77906    83.59479   35.66758\n",
       "11       doctor     60.06721    86.58565   37.82003\n",
       "12      plumber     80.25067    22.84663   39.27434\n",
       "13    scientist     61.87003    75.96935   32.74435\n",
       "14     engineer     69.79498    73.64344   32.92745\n",
       "15       banker     59.90740    72.64936   32.65704\n",
       "16        nanny     17.65112    26.94414   41.04066\n",
       "17    carpenter     80.93670    27.46218   42.08532\n",
       "18   journalist     47.79544    54.51160   39.90278\n",
       "19        nurse     26.29599    45.08054   43.68505\n",
       "20         jazz     57.35235    62.31129   64.47241\n",
       "21    bluegrass     59.70648    33.35516   27.63540\n",
       "22         punk     68.89970    28.03863   25.61954\n",
       "23       hiphop     70.36341    27.69916   80.38662\n",
       "24          rap     77.08481    23.63341   84.40913\n",
       "25        opera     30.27255    84.88982   18.43137\n",
       "26       techno     55.59327    41.66504   31.80039\n",
       "27    hamburger     67.21136    30.87822   49.86356\n",
       "28   cheesecake     37.24012    57.44231   40.98562\n",
       "29        salad     29.50207    57.14181   37.81654\n",
       "30        steak     74.79743    65.75380   44.73505\n",
       "31         wine     32.28771    72.63448   32.88507\n",
       "32         beer     76.73858    29.18468   45.83547\n",
       "33       pastry     34.25504    57.02082   38.23769\n",
       "34   motorcycle     78.09129    40.79480   35.71057\n",
       "35      minivan     31.53552    34.76901   36.71924\n",
       "36   skateboard     71.73591    27.84433   33.28712\n",
       "37          suv     56.46473    55.58908   43.94845\n",
       "38        truck     78.91742    34.28461   40.08299\n",
       "39      bicycle     53.63020    34.87230   44.11113\n",
       "40    limousine     54.79961    87.28196   33.15888\n",
       "41       blouse     13.86655    54.48048   44.10218\n",
       "42        pants     61.52048    47.87089   49.03491\n",
       "43     necklace     22.38490    60.73257   45.81803\n",
       "44       tuxedo     87.36133    84.54303   38.43134\n",
       "45    briefcase     71.59772    73.14077   38.03526\n",
       "46        shirt     55.09586    46.58241   48.94017\n",
       "47        dress     10.09335    57.52888   44.54394\n",
       "48         suit     78.95429    74.72621   40.26133\n",
       "49        socks     53.15930    46.93888   48.06988\n",
       "50       shorts     50.21759    40.74440   48.08671\n",
       "51         Jake     88.12366    51.34486   24.33859\n",
       "52      Shanice     14.56900    35.08187   82.21732\n",
       "53      Aaliyah     15.66787    40.41475   78.23722\n",
       "54       Connor     83.58592    59.13945   20.59342\n",
       "55        Jamal     87.80617    33.63767   86.35431\n",
       "56        Molly     11.40538    52.93874   20.65734\n",
       "57       Tyrone     89.98954    33.37189   86.50137\n",
       "58          Amy     11.52517    54.33826   22.09146"
      ]
     },
     "execution_count": 91,
     "metadata": {},
     "output_type": "execute_result"
    }
   ],
   "source": [
    "df_survey"
   ]
  },
  {
   "cell_type": "code",
   "execution_count": 106,
   "metadata": {
    "ExecuteTime": {
     "end_time": "2020-08-14T09:14:07.515034Z",
     "start_time": "2020-08-14T09:14:07.143764Z"
    },
    "slideshow": {
     "slide_type": "subslide"
    }
   },
   "outputs": [
    {
     "data": {
      "image/png": "[encoded data removed]",
      "text/plain": [
       "<Figure size 1080x1080 with 1 Axes>"
      ]
     },
     "metadata": {
      "needs_background": "light"
     },
     "output_type": "display_data"
    }
   ],
   "source": [
    "from mpl_toolkits.mplot3d import Axes3D \n",
    "\n",
    "fig = plt.figure(figsize = [15, 15])\n",
    "ax = fig.add_subplot(111, projection='3d') \n",
    "# For each set of style and range settings, plot n random points in the box\n",
    "# defined by x in [23, 32], y in [0, 100], z in [zlow, zhigh].\n",
    "ax.scatter(df_survey['gender_mean'], df_survey['class_mean'], df_survey['race_mean'])\n",
    "for k, i in enumerate(df_survey['word']):\n",
    "    ax.text(df_survey['gender_mean'][k], df_survey['class_mean'][k], df_survey['race_mean'][k], \n",
    "        i,  size=15, zorder=1, color='k')\n",
    "ax.set_xlabel('Gender', fontsize = 16)\n",
    "ax.set_ylabel('Affluence', fontsize = 16)\n",
    "ax.set_zlabel('Race', fontsize = 16)\n",
    "ax.set_title('Survey', fontsize = 20)\n",
    "plt.show()"
   ]
  },
  {
   "cell_type": "code",
   "execution_count": 68,
   "metadata": {
    "ExecuteTime": {
     "end_time": "2020-08-14T05:43:51.808816Z",
     "start_time": "2020-08-14T05:43:51.804442Z"
    },
    "slideshow": {
     "slide_type": "subslide"
    }
   },
   "outputs": [],
   "source": [
    "def make_dim(model, df):\n",
    "    word_dims = []\n",
    "    for i in df.index:\n",
    "        rp_word1 = df[0][i]\n",
    "        rp_word2 = df[1][i]\n",
    "        try:\n",
    "            word_dims.append( dimension(model[rp_word1], model[rp_word2]) )\n",
    "        except:\n",
    "            pass\n",
    "    dim_ave = pd.DataFrame(word_dims).mean().tolist()\n",
    "    dim_ave_= nrm(dim_ave)\n",
    "    return dim_ave\n",
    "    "
   ]
  },
  {
   "cell_type": "code",
   "execution_count": 73,
   "metadata": {
    "ExecuteTime": {
     "end_time": "2020-08-14T05:45:48.352084Z",
     "start_time": "2020-08-14T05:45:48.298841Z"
    },
    "slideshow": {
     "slide_type": "subslide"
    }
   },
   "outputs": [],
   "source": [
    "aff_dim = make_dim(model, ant_pairs_aff)\n",
    "gender_dim = make_dim(model, ant_pairs_gen)\n",
    "race_dim = make_dim(model, ant_pairs_race)\n"
   ]
  },
  {
   "cell_type": "code",
   "execution_count": 75,
   "metadata": {
    "ExecuteTime": {
     "end_time": "2020-08-14T05:45:59.641849Z",
     "start_time": "2020-08-14T05:45:59.637310Z"
    },
    "slideshow": {
     "slide_type": "subslide"
    }
   },
   "outputs": [
    {
     "data": {
      "text/plain": [
       "(-0.014282578052009498, -0.10834102639266807, -0.06033891833467253)"
      ]
     },
     "execution_count": 75,
     "metadata": {},
     "output_type": "execute_result"
    }
   ],
   "source": [
    "cos(aff_dim,gender_dim), cos(aff_dim,race_dim), cos(gender_dim,race_dim)"
   ]
  },
  {
   "cell_type": "code",
   "execution_count": 83,
   "metadata": {
    "ExecuteTime": {
     "end_time": "2020-08-14T05:53:15.147398Z",
     "start_time": "2020-08-14T05:53:15.141404Z"
    },
    "slideshow": {
     "slide_type": "subslide"
    }
   },
   "outputs": [],
   "source": [
    "wlist=[\"camping\",\"baseball\",\"boxing\",\"volleyball\",\"softball\",\"golf\",\"tennis\",\"soccer\",\"basketball\",\"hockey\"]\n",
    "\n",
    "aff_proj = [cos(aff_dim, model[i]) for i in wlist]\n",
    "gender_proj = [cos(gender_dim, model[i]) for i in wlist]\n",
    "race_proj = [cos(race_dim, model[i]) for i in wlist]"
   ]
  },
  {
   "cell_type": "code",
   "execution_count": 85,
   "metadata": {
    "ExecuteTime": {
     "end_time": "2020-08-14T05:53:33.837101Z",
     "start_time": "2020-08-14T05:53:33.832589Z"
    },
    "slideshow": {
     "slide_type": "subslide"
    }
   },
   "outputs": [
    {
     "data": {
      "text/plain": [
       "array([ 0.07256063,  0.12535858,  0.07870991,  0.0066219 , -0.00821159],\n",
       "      dtype=float32)"
      ]
     },
     "execution_count": 85,
     "metadata": {},
     "output_type": "execute_result"
    }
   ],
   "source": [
    "dimension(model['man'], model['woman'])[:5]"
   ]
  },
  {
   "cell_type": "code",
   "execution_count": 95,
   "metadata": {
    "ExecuteTime": {
     "end_time": "2020-08-14T05:58:55.051974Z",
     "start_time": "2020-08-14T05:58:54.882736Z"
    },
    "slideshow": {
     "slide_type": "subslide"
    }
   },
   "outputs": [
    {
     "data": {
      "image/png": "[encoded data removed]",
      "text/plain": [
       "<Figure size 576x576 with 1 Axes>"
      ]
     },
     "metadata": {},
     "output_type": "display_data"
    }
   ],
   "source": [
    "import matplotlib.pyplot as plt\n",
    "import matplotlib\n",
    "matplotlib.style.use('ggplot')\n",
    "\n",
    "plt.figure(figsize  = [8, 8])\n",
    "plt.plot(gender_proj, aff_proj, 'ro')\n",
    "for k, i in enumerate(wlist):\n",
    "    plt.text(gender_proj[k], aff_proj[k], i, fontsize = 16)\n",
    "plt.xlim([-0.25, 0.25])\n",
    "plt.ylim([-0.25, 0.25])\n",
    "\n",
    "plt.show()"
   ]
  },
  {
   "cell_type": "code",
   "execution_count": 96,
   "metadata": {
    "ExecuteTime": {
     "end_time": "2020-08-14T06:00:48.733815Z",
     "start_time": "2020-08-14T06:00:48.574819Z"
    },
    "slideshow": {
     "slide_type": "subslide"
    }
   },
   "outputs": [
    {
     "data": {
      "image/png": "[encoded data removed]",
      "text/plain": [
       "<Figure size 576x576 with 1 Axes>"
      ]
     },
     "metadata": {},
     "output_type": "display_data"
    }
   ],
   "source": [
    "plt.figure(figsize  = [8, 8])\n",
    "plt.plot(gender_proj, race_proj, 'ro')\n",
    "for k, i in enumerate(wlist):\n",
    "    plt.text(gender_proj[k], race_proj[k], i, fontsize = 16)\n",
    "plt.xlim([-0.25, 0.25])\n",
    "plt.ylim([-0.25, 0.25])\n",
    "\n",
    "plt.show()"
   ]
  },
  {
   "cell_type": "markdown",
   "metadata": {
    "slideshow": {
     "slide_type": "subslide"
    }
   },
   "source": [
    "Now that we’ve looked at trained word embeddings, \n",
    "\n",
    "- let’s learn more about the training process. \n",
    "- But before we get to word2vec, we need to look at a conceptual parent of word embeddings: **the neural language model**.\n",
    "\n"
   ]
  },
  {
   "cell_type": "markdown",
   "metadata": {
    "slideshow": {
     "slide_type": "slide"
    }
   },
   "source": [
    "# Gensim Word2vec "
   ]
  },
  {
   "cell_type": "code",
   "execution_count": 16,
   "metadata": {
    "ExecuteTime": {
     "end_time": "2020-08-14T06:38:40.740911Z",
     "start_time": "2020-08-14T06:38:39.309264Z"
    },
    "slideshow": {
     "slide_type": "fragment"
    }
   },
   "outputs": [],
   "source": [
    "import gensim as gensim\n",
    "from gensim.models import Word2Vec\n",
    "from gensim.models.keyedvectors import KeyedVectors\n",
    "from gensim.models.word2vec import LineSentence"
   ]
  },
  {
   "cell_type": "code",
   "execution_count": 126,
   "metadata": {
    "ExecuteTime": {
     "end_time": "2020-08-14T10:12:58.024151Z",
     "start_time": "2020-08-14T10:12:58.014152Z"
    },
    "slideshow": {
     "slide_type": "subslide"
    }
   },
   "outputs": [],
   "source": [
    "# 下载理想国英文版本txt文件，网址为：http://www.gutenberg.org/cache/epub/150/pg150.txt\n",
    "\n",
    "with open(\"pg150.txt\", 'r') as f:\n",
    "    lines = f.readlines()\n"
   ]
  },
  {
   "cell_type": "code",
   "execution_count": 133,
   "metadata": {
    "ExecuteTime": {
     "end_time": "2020-08-14T10:13:34.464311Z",
     "start_time": "2020-08-14T10:13:34.460746Z"
    },
    "slideshow": {
     "slide_type": "subslide"
    }
   },
   "outputs": [
    {
     "data": {
      "text/plain": [
       "16960"
      ]
     },
     "execution_count": 133,
     "metadata": {},
     "output_type": "execute_result"
    }
   ],
   "source": [
    "len(lines)"
   ]
  },
  {
   "cell_type": "code",
   "execution_count": 134,
   "metadata": {
    "ExecuteTime": {
     "end_time": "2020-08-14T10:13:35.161141Z",
     "start_time": "2020-08-14T10:13:35.075057Z"
    }
   },
   "outputs": [],
   "source": [
    "import string\n",
    "\n",
    "def clean_text(s):\n",
    "    for c in string.punctuation:\n",
    "        s= s.replace(c,\"\")\n",
    "    return s\n",
    "\n",
    "lines = [clean_text(line) for line in lines]"
   ]
  },
  {
   "cell_type": "code",
   "execution_count": 174,
   "metadata": {
    "ExecuteTime": {
     "end_time": "2020-08-14T10:28:46.324960Z",
     "start_time": "2020-08-14T10:28:46.321399Z"
    }
   },
   "outputs": [
    {
     "data": {
      "text/plain": [
       "'!\"#$%&\\'()*+,-./:;<=>?@[\\\\]^_`{|}~'"
      ]
     },
     "execution_count": 174,
     "metadata": {},
     "output_type": "execute_result"
    }
   ],
   "source": [
    "string.punctuation"
   ]
  },
  {
   "cell_type": "code",
   "execution_count": 172,
   "metadata": {
    "ExecuteTime": {
     "end_time": "2020-08-14T10:28:34.691778Z",
     "start_time": "2020-08-14T10:28:34.679738Z"
    }
   },
   "outputs": [
    {
     "data": {
      "text/plain": [
       "4523"
      ]
     },
     "execution_count": 172,
     "metadata": {},
     "output_type": "execute_result"
    }
   ],
   "source": [
    "book = []\n",
    "paragraph = ''\n",
    "for i in lines:\n",
    "    if i !='\\n':\n",
    "        paragraph = paragraph + ' '+ i\n",
    "    else:\n",
    "        book.append(paragraph)\n",
    "        paragraph = ''\n",
    "    \n",
    "\n",
    "len(book)"
   ]
  },
  {
   "cell_type": "code",
   "execution_count": 173,
   "metadata": {
    "ExecuteTime": {
     "end_time": "2020-08-14T10:28:35.255807Z",
     "start_time": "2020-08-14T10:28:35.241579Z"
    }
   },
   "outputs": [],
   "source": [
    "book = [i.strip().replace('\\n', '').split(' ') for i in book]\n",
    "book = [i for i in book if i[0]]\n"
   ]
  },
  {
   "cell_type": "code",
   "execution_count": 143,
   "metadata": {
    "ExecuteTime": {
     "end_time": "2020-08-14T10:16:30.275977Z",
     "start_time": "2020-08-14T10:16:28.127434Z"
    },
    "slideshow": {
     "slide_type": "subslide"
    }
   },
   "outputs": [],
   "source": [
    "# 调用gensim Word2Vec的算法进行训练。\n",
    "# 参数分别为：size: 嵌入后的词向量维度；window: 上下文的宽度，min_count为考虑计算的单词的最低词频阈值\n",
    "model = Word2Vec(book, size = 100, window = 3 , min_count = 0)"
   ]
  },
  {
   "cell_type": "code",
   "execution_count": 176,
   "metadata": {
    "ExecuteTime": {
     "end_time": "2020-08-14T10:30:41.268688Z",
     "start_time": "2020-08-14T10:30:41.263267Z"
    }
   },
   "outputs": [
    {
     "data": {
      "text/plain": [
       "array([-0.61977464, -0.2789243 ,  0.39779395, -0.1521341 ,  0.19450915,\n",
       "        0.26730332,  0.13636921,  0.01279074, -0.250142  ,  0.176398  ,\n",
       "       -0.82600456, -0.02069568, -0.39612505, -0.07211145,  0.28334576,\n",
       "       -0.21025997, -0.06018108, -0.2703659 ,  0.2543907 , -0.07402172,\n",
       "        0.02277775, -0.3101242 , -0.15688632, -0.43599615, -0.08127858,\n",
       "        0.02526959,  0.15285605, -0.10695933, -1.0990864 ,  0.50576496,\n",
       "        0.33032408,  0.31920555,  0.5328262 , -0.18723547,  0.39299726,\n",
       "        0.2909096 , -0.63782084, -0.50308   , -0.7109864 , -0.42286614,\n",
       "       -0.16806383, -0.24568759,  0.39323896, -0.08858129, -0.07306071,\n",
       "        0.10967018,  0.09954332,  0.22106184, -0.36907125,  0.5014113 ,\n",
       "       -0.17050767,  0.02704148,  0.18014228, -0.23702276, -0.22526625,\n",
       "        0.72360724,  0.21799144, -0.24428567,  0.33379462,  0.18194786,\n",
       "       -0.0972083 , -0.00797158, -0.65299904, -0.17891935,  0.18754293,\n",
       "        0.28530613, -0.19684072,  0.24156635, -0.4839683 ,  0.65828085,\n",
       "       -0.36660564,  0.31051165, -0.11049075, -0.40401417,  0.24208885,\n",
       "       -0.09470423,  0.06200933, -0.20715699, -0.16554463, -0.61947423,\n",
       "        0.22561269, -0.05060836, -0.67644525,  0.356293  , -0.73097605,\n",
       "        0.22926582,  0.05454996,  0.1395295 ,  0.04443834,  0.11776256,\n",
       "        0.21191476,  0.26055536, -0.1722997 , -0.46336415, -0.21674833,\n",
       "       -0.06152577, -0.31997296, -0.08303435, -0.3550324 ,  0.36030856],\n",
       "      dtype=float32)"
      ]
     },
     "execution_count": 176,
     "metadata": {},
     "output_type": "execute_result"
    }
   ],
   "source": [
    "model.wv['Socrates']"
   ]
  },
  {
   "cell_type": "code",
   "execution_count": 145,
   "metadata": {
    "ExecuteTime": {
     "end_time": "2020-08-14T10:16:32.777937Z",
     "start_time": "2020-08-14T10:16:32.765513Z"
    }
   },
   "outputs": [
    {
     "data": {
      "text/plain": [
       "[('indeed', 0.9995828866958618),\n",
       " ('quite', 0.9995291233062744),\n",
       " ('so', 0.9994574785232544),\n",
       " ('You', 0.9993287324905396),\n",
       " ('certainly', 0.9993119835853577),\n",
       " ('No', 0.9993115663528442),\n",
       " ('right', 0.9992585778236389),\n",
       " ('Glaucon', 0.9992482662200928),\n",
       " ('Polemarchus', 0.9992305040359497),\n",
       " ('sure', 0.9990183711051941)]"
      ]
     },
     "execution_count": 145,
     "metadata": {},
     "output_type": "execute_result"
    }
   ],
   "source": [
    "model.wv.most_similar('Socrates', topn = 10)"
   ]
  },
  {
   "cell_type": "code",
   "execution_count": 167,
   "metadata": {
    "ExecuteTime": {
     "end_time": "2020-08-14T10:23:31.826548Z",
     "start_time": "2020-08-14T10:23:31.820453Z"
    }
   },
   "outputs": [
    {
     "data": {
      "text/plain": [
       "[('out', 0.9998725652694702),\n",
       " ('great', 0.999868631362915),\n",
       " ('greater', 0.9998423457145691),\n",
       " ('greatest', 0.9998365640640259),\n",
       " ('himself', 0.9998359680175781),\n",
       " ('mind', 0.9998278617858887),\n",
       " ('beauty', 0.9998177886009216),\n",
       " ('science', 0.9998157620429993),\n",
       " ('against', 0.9998141527175903),\n",
       " ('over', 0.9998131990432739)]"
      ]
     },
     "execution_count": 167,
     "metadata": {},
     "output_type": "execute_result"
    }
   ],
   "source": [
    "model.wv.most_similar('reason', topn = 10)"
   ]
  },
  {
   "cell_type": "code",
   "execution_count": 146,
   "metadata": {
    "ExecuteTime": {
     "end_time": "2020-08-14T10:16:39.915697Z",
     "start_time": "2020-08-14T10:16:39.909779Z"
    }
   },
   "outputs": [
    {
     "data": {
      "text/plain": [
       "[('injustice', 0.999813973903656),\n",
       " ('best', 0.9997889995574951),\n",
       " ('reason', 0.999771237373352),\n",
       " ('these', 0.9997555017471313),\n",
       " ('opinion', 0.9997439384460449),\n",
       " ('great', 0.9997347593307495),\n",
       " ('out', 0.9997308254241943),\n",
       " ('after', 0.9997212886810303),\n",
       " ('others', 0.9997150301933289),\n",
       " ('third', 0.999714732170105)]"
      ]
     },
     "execution_count": 146,
     "metadata": {},
     "output_type": "execute_result"
    }
   ],
   "source": [
    "model.wv.most_similar('justice', topn = 10)"
   ]
  },
  {
   "cell_type": "code",
   "execution_count": 165,
   "metadata": {
    "ExecuteTime": {
     "end_time": "2020-08-14T10:21:42.307487Z",
     "start_time": "2020-08-14T10:21:42.301936Z"
    }
   },
   "outputs": [
    {
     "data": {
      "text/plain": [
       "[('nature', 0.9998851418495178),\n",
       " ('life', 0.9998245239257812),\n",
       " ('part', 0.9998000264167786),\n",
       " ('interest', 0.9996935129165649),\n",
       " ('art', 0.9996891021728516),\n",
       " ('either', 0.9996746778488159),\n",
       " ('each', 0.9996728897094727),\n",
       " ('lover', 0.999637246131897),\n",
       " ('into', 0.9996317625045776),\n",
       " ('wealth', 0.9995990991592407)]"
      ]
     },
     "execution_count": 165,
     "metadata": {},
     "output_type": "execute_result"
    }
   ],
   "source": [
    "model.wv.most_similar('knowledge', topn = 10)"
   ]
  },
  {
   "cell_type": "code",
   "execution_count": 148,
   "metadata": {
    "ExecuteTime": {
     "end_time": "2020-08-14T10:16:50.782184Z",
     "start_time": "2020-08-14T10:16:50.711453Z"
    },
    "slideshow": {
     "slide_type": "subslide"
    }
   },
   "outputs": [
    {
     "name": "stderr",
     "output_type": "stream",
     "text": [
      "/opt/anaconda3/lib/python3.7/site-packages/ipykernel_launcher.py:8: DeprecationWarning: Call to deprecated `__getitem__` (Method will be removed in 4.0.0, use self.wv.__getitem__() instead).\n",
      "  \n"
     ]
    }
   ],
   "source": [
    "# 将词向量投影到二维空间\n",
    "import numpy as np\n",
    "from sklearn.decomposition import PCA\n",
    "\n",
    "rawWordVec = []\n",
    "word2ind = {}\n",
    "for i, w in enumerate(model.wv.vocab):\n",
    "    rawWordVec.append(model[w])\n",
    "    word2ind[w] = i\n",
    "rawWordVec = np.array(rawWordVec)\n",
    "X_reduced = PCA(n_components=2).fit_transform(rawWordVec)"
   ]
  },
  {
   "cell_type": "code",
   "execution_count": 150,
   "metadata": {
    "ExecuteTime": {
     "end_time": "2020-08-14T10:16:53.953577Z",
     "start_time": "2020-08-14T10:16:53.948589Z"
    }
   },
   "outputs": [],
   "source": [
    "ind2word = {j:i for i,j in word2ind.items()}"
   ]
  },
  {
   "cell_type": "code",
   "execution_count": 151,
   "metadata": {
    "ExecuteTime": {
     "end_time": "2020-08-14T10:16:54.826981Z",
     "start_time": "2020-08-14T10:16:54.790078Z"
    }
   },
   "outputs": [
    {
     "name": "stdout",
     "output_type": "stream",
     "text": [
      "of 5.775449 -2.365114\n",
      "by 5.7966013 -0.686989\n",
      "at 5.7140913 -0.6895864\n",
      "is 5.2666035 -0.22650619\n",
      "for 5.440587 -0.34015343\n",
      "the 5.7026706 -2.0213323\n",
      "no 5.131916 -0.08794426\n",
      "and 6.025783 -1.380838\n",
      "with 5.9404025 -0.60730803\n",
      " 6.1095376 0.7562497\n",
      "may 5.1396465 0.6410318\n",
      "or 5.845921 -1.4204043\n",
      "this 5.316845 -0.03274336\n",
      "his 5.7643585 -0.82136303\n",
      "them 5.337402 -0.65124035\n",
      "are 5.481497 -0.13986424\n",
      "to 5.5692005 -0.39530832\n",
      "in 5.608388 -1.4282805\n",
      "more 5.2522154 -0.37258935\n",
      "as 5.4510064 0.1744433\n",
      "other 5.2715945 -1.3242022\n",
      "has 5.456502 -0.26779988\n",
      "an 5.6519847 -0.41095412\n",
      "which 5.4807644 -0.8213325\n",
      "not 5.171643 0.9786585\n",
      "only 5.078563 -0.20989203\n",
      "but 5.4977016 0.33104333\n",
      "all 5.0754914 -0.68958926\n",
      "a 5.6950903 -0.8660045\n",
      "any 5.3072963 -1.0395184\n",
      "be 5.3477116 0.0684813\n",
      "was 5.24336 0.5035284\n",
      "who 5.5104465 -0.58971226\n",
      "from 5.8926296 -0.73592716\n",
      "than 5.106923 -0.7418656\n",
      "have 5.23742 0.5617677\n",
      "into 5.4926925 -0.6235462\n",
      "on 5.6597075 -0.7053441\n",
      "he 5.485511 2.0886707\n",
      "we 5.488679 1.0635062\n",
      "that 5.4981356 1.2675906\n",
      "would 5.2045736 1.062264\n",
      "they 5.4864492 0.16152637\n",
      "our 5.445579 -0.4640628\n",
      "when 5.441571 0.14367965\n",
      "their 5.7762036 -0.9391434\n",
      "I 5.605021 3.0273948\n",
      "about 5.182307 -0.28227097\n",
      "will 5.2734876 0.3145505\n",
      "if 5.090351 0.91476715\n",
      "you 5.384561 2.0147753\n"
     ]
    }
   ],
   "source": [
    "for k,i in enumerate(X_reduced):\n",
    "    if i[0] > 5:\n",
    "        word = ind2word[k]\n",
    "        print(word, i[0], i[1])"
   ]
  },
  {
   "cell_type": "code",
   "execution_count": 158,
   "metadata": {
    "ExecuteTime": {
     "end_time": "2020-08-14T10:18:30.302434Z",
     "start_time": "2020-08-14T10:18:30.275717Z"
    }
   },
   "outputs": [
    {
     "name": "stdout",
     "output_type": "stream",
     "text": [
      "of 5.775449 -2.365114\n",
      "the 5.7026706 -2.0213323\n",
      "and 6.025783 -1.380838\n",
      "or 5.845921 -1.4204043\n",
      "in 5.608388 -1.4282805\n",
      "State 4.0419846 -1.0099387\n",
      "other 5.2715945 -1.3242022\n",
      "any 5.3072963 -1.0395184\n"
     ]
    }
   ],
   "source": [
    "for k,i in enumerate(X_reduced):\n",
    "    if i[1] < -1:\n",
    "        word = ind2word[k]\n",
    "        print(word, i[0], i[1])"
   ]
  },
  {
   "cell_type": "code",
   "execution_count": 171,
   "metadata": {
    "ExecuteTime": {
     "end_time": "2020-08-14T10:25:33.932654Z",
     "start_time": "2020-08-14T10:25:33.367789Z"
    }
   },
   "outputs": [
    {
     "data": {
      "image/png": "[encoded data removed]",
      "text/plain": [
       "<Figure size 1080x1080 with 1 Axes>"
      ]
     },
     "metadata": {
      "needs_background": "light"
     },
     "output_type": "display_data"
    }
   ],
   "source": [
    "# 绘制星空图\n",
    "# 绘制所有单词向量的二维空间投影\n",
    "import matplotlib.pyplot as plt\n",
    "\n",
    "fig = plt.figure(figsize = (15, 15))\n",
    "ax = fig.gca()\n",
    "ax.set_facecolor('black')\n",
    "ax.plot(X_reduced[:, 0], X_reduced[:, 1], '.', markersize = 1, alpha = 0.5, color = 'white')\n",
    "# 绘制几个特殊单词的向量\n",
    "words = ['Socrates','Glaucon', 'Polemarchus', 'justice', 'city', 'country', 'brave',\n",
    "         'we','they','you','his', 'her', 'their','I','he',\n",
    "         'Yes','No','said','true', 'false','science', 'beauty',\n",
    "         'love', 'life', 'kind', 'opinion','state','State','lover',\n",
    "         'great','mind',\n",
    "         'god','world','tyrant','reason','wealth', 'poverty', 'poor', 'rich',\n",
    "         'of','the', 'life', 'knowledge','happiness', 'nature', 'art','intrest', \n",
    "         'good','public', 'bad', 'war', 'man', 'woman', 'king'] # change here\n",
    "for w in words:\n",
    "    if w in word2ind:\n",
    "        ind = word2ind[w]\n",
    "        xy = X_reduced[ind]\n",
    "        plt.plot(xy[0], xy[1], 'o', alpha =1, color = 'red')\n",
    "        plt.text(xy[0], xy[1], w,  alpha = 1, color = 'yellow')"
   ]
  },
  {
   "cell_type": "markdown",
   "metadata": {
    "slideshow": {
     "slide_type": "slide"
    }
   },
   "source": [
    "# END"
   ]
  }
 ],
 "metadata": {
  "celltoolbar": "Slideshow",
  "kernelspec": {
   "display_name": "Python 3",
   "language": "python",
   "name": "python3"
  },
  "language_info": {
   "codemirror_mode": {
    "name": "ipython",
    "version": 3
   },
   "file_extension": ".py",
   "mimetype": "text/x-python",
   "name": "python",
   "nbconvert_exporter": "python",
   "pygments_lexer": "ipython3",
   "version": "3.7.6"
  },
  "latex_envs": {
   "LaTeX_envs_menu_present": true,
   "autoclose": false,
   "autocomplete": true,
   "bibliofile": "biblio.bib",
   "cite_by": "apalike",
   "current_citInitial": 1,
   "eqLabelWithNumbers": true,
   "eqNumInitial": 1,
   "hotkeys": {
    "equation": "Ctrl-E",
    "itemize": "Ctrl-I"
   },
   "labels_anchors": false,
   "latex_user_defs": false,
   "report_style_numbering": false,
   "user_envs_cfg": false
  },
  "toc": {
   "base_numbering": 1,
   "nav_menu": {},
   "number_sections": false,
   "sideBar": false,
   "skip_h1_title": false,
   "title_cell": "Table of Contents",
   "title_sidebar": "Contents",
   "toc_cell": false,
   "toc_position": {
    "height": "517px",
    "left": "953px",
    "top": "134px",
    "width": "255px"
   },
   "toc_section_display": false,
   "toc_window_display": false
  }
 },
 "nbformat": 4,
 "nbformat_minor": 4
}
