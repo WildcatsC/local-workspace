{
 "cells": [
  {
   "cell_type": "markdown",
   "metadata": {},
   "source": [
    "# TechX 2020 计算社科预习 Quiz 1 V1.0 (Score: 15/16)"
   ]
  },
  {
   "cell_type": "markdown",
   "metadata": {},
   "source": [
    "这个测试的目的不是为了难倒大家，而是为了检验预习成果，方便我们调整接下来的预习和课程安排。同时，我们也希望你们能通过这几个练习学到的知识，并学到的coding技巧。因此，我们有如下要求：\n",
    "1. 虽然我们不允许大家向别人请教 quiz 中的问题，但是你们可以在互联网上搜索已有的资源：这也是在TechX的学习过程中大家会一直做的。（PS 请别直接抄代码！请理解之后自己实现）\n",
    "2. 有些题目里会给出一些变量/数据，但是我们批改的时候可能会改动它们以检测你程序的可拓展性。\n",
    "3. 请在北京时间7.19 24:00之前提交（提交方式群里会再通知），如有事无法按时请私信胡启天。\n",
    "4. 如果感觉题目有问题或表述不清请直接在群里提出。我们有可能根据大家的提问发布V2.0 的 Quiz。"
   ]
  },
  {
   "cell_type": "markdown",
   "metadata": {},
   "source": [
    "## 1. 打印数字 (Score: 2/2)\n",
    "打印出以下文字（不能使用九个print()）"
   ]
  },
  {
   "cell_type": "code",
   "execution_count": 1,
   "metadata": {
    "jupyter": {
     "outputs_hidden": true
    }
   },
   "outputs": [
    {
     "data": {
      "text/plain": [
       "999999999"
      ]
     },
     "execution_count": 1,
     "metadata": {},
     "output_type": "execute_result"
    }
   ],
   "source": [
    "1\n",
    "22\n",
    "333\n",
    "4444\n",
    "55555\n",
    "666666\n",
    "7777777\n",
    "88888888\n",
    "999999999"
   ]
  },
  {
   "cell_type": "code",
   "execution_count": 1,
   "metadata": {},
   "outputs": [
    {
     "name": "stdout",
     "output_type": "stream",
     "text": [
      "1\n",
      "22\n",
      "333\n",
      "4444\n",
      "55555\n",
      "666666\n",
      "7777777\n",
      "88888888\n",
      "999999999\n"
     ]
    }
   ],
   "source": [
    "for i in range(1,10):\n",
    "    print(str(i)*i)"
   ]
  },
  {
   "cell_type": "markdown",
   "metadata": {},
   "source": [
    "## 2. 统计词语 (Score: 2/2)\n",
    "请统计下面这段文字里出现次数最多的五个英文单词及其出现次数。创建一个key为词语，对应value为该词出现的次数的dictionary来记录这五个词。如有并列不用深究，输出前五个即可。"
   ]
  },
  {
   "cell_type": "markdown",
   "metadata": {},
   "source": [
    "asd f asdf dsa fs df asdf asd fsd f dsf d fs adf asdf s dfas df asdf d f dsf ds fsa fsd f asdf as df ds afd g asdf asdfa sdf sd fsd f sdf sd fs df sda f sadf asd f sdf sd fd fd  sd asd sa s as as d asd a ds f sdf asd fa sdf as df asdf as d sdf sdf sd  sd ds sd f df ds fs adfasd f d fdf d  d d d dd df sadf a sdf asdf asdf\n"
   ]
  },
  {
   "cell_type": "code",
   "execution_count": 2,
   "metadata": {},
   "outputs": [
    {
     "name": "stdout",
     "output_type": "stream",
     "text": [
      "[('f', 10), ('asdf', 9), ('d', 9), ('sdf', 8), ('df', 7)]\n"
     ]
    }
   ],
   "source": [
    "from operator import itemgetter\n",
    "text = \"asd f asdf dsa fs df asdf asd fsd f dsf d fs adf asdf s dfas df asdf d f dsf ds fsa fsd f asdf as df ds afd g asdf asdfa sdf sd fsd f sdf sd fs df sda f sadf asd f sdf sd fd fd sd asd sa s as as d asd a ds f sdf asd fa sdf as df asdf as d sdf sdf sd sd ds sd f df ds fs adfasd f d fdf d d d d dd df sadf a sdf asdf asdf\"\n",
    "list_words = text.split(\" \")\n",
    "dict_words = {}\n",
    "for each in list_words:\n",
    "    if each in dict_words:\n",
    "        dict_words[each] += 1\n",
    "    else:\n",
    "        dict_words[each] = 1\n",
    "#dict_words.sort(itemgetter = 1)\n",
    "list_ranking = sorted(dict_words.items(),key=itemgetter(1),reverse=True)\n",
    "list_ranking = list_ranking[:5]\n",
    "print(list_ranking)"
   ]
  },
  {
   "cell_type": "markdown",
   "metadata": {},
   "source": [
    "## 3. list equal? (Score: 2/2)\n",
    "Write a function that checks if two lists are equal"
   ]
  },
  {
   "cell_type": "code",
   "execution_count": 3,
   "metadata": {},
   "outputs": [],
   "source": [
    "lista = [3,4,5]\n",
    "listb = [3,4,5] # the lists could be different"
   ]
  },
  {
   "cell_type": "code",
   "execution_count": 4,
   "metadata": {},
   "outputs": [
    {
     "data": {
      "text/plain": [
       "True"
      ]
     },
     "execution_count": 4,
     "metadata": {},
     "output_type": "execute_result"
    }
   ],
   "source": [
    "def is_equal(list_a, list_b):\n",
    "    if len(list_a) != len(list_b):\n",
    "        return False\n",
    "    else:\n",
    "        for each in list_a:\n",
    "            if(list_b[list_a.index(each)] != each):\n",
    "                return False\n",
    "    return True\n",
    "\n",
    "is_equal(lista, listb)"
   ]
  },
  {
   "cell_type": "markdown",
   "metadata": {},
   "source": [
    "## 4. Leap year?  (Score: 2/2)\n",
    "Usually years that are divisible by 4 are leap years, for example 1996. However, years that are divisible by 100 (for example, 1900) are not leap years, but years that are divisible by 400 are leap years (for example, 2000). Write a function that takes in a year and computes whether that year is a leap year. \n"
   ]
  },
  {
   "cell_type": "code",
   "execution_count": 5,
   "metadata": {},
   "outputs": [],
   "source": [
    "year = 1937 "
   ]
  },
  {
   "cell_type": "code",
   "execution_count": 6,
   "metadata": {},
   "outputs": [
    {
     "data": {
      "text/plain": [
       "False"
      ]
     },
     "execution_count": 6,
     "metadata": {},
     "output_type": "execute_result"
    }
   ],
   "source": [
    "def is_leap_year(int_year):\n",
    "    if int_year % 400 == 0:\n",
    "        return True\n",
    "    elif int_year % 100 == 0:\n",
    "        return False\n",
    "    elif int_year % 4 == 0:\n",
    "        return True\n",
    "    else:\n",
    "        return False\n",
    "\n",
    "is_leap_year(1900)"
   ]
  },
  {
   "cell_type": "markdown",
   "metadata": {},
   "source": [
    "## 5. Day of Year? (Score: 1/2)\n",
    "输入某年某月某日，判断这一天是这一年的第几天？(提示：请使用上一题的函数)"
   ]
  },
  {
   "cell_type": "code",
   "execution_count": 14,
   "metadata": {},
   "outputs": [],
   "source": [
    "year = 2038\n",
    "month = 2\n",
    "day = 3"
   ]
  },
  {
   "cell_type": "code",
   "execution_count": 15,
   "metadata": {},
   "outputs": [
    {
     "data": {
      "text/plain": [
       "62"
      ]
     },
     "execution_count": 15,
     "metadata": {},
     "output_type": "execute_result"
    }
   ],
   "source": [
    "def day_of_year(year, month, day):\n",
    "    days_of_the_months = [31, 28, 31, 30, 31, 30, 31, 31, 30, 31, 30, 31]\n",
    "    if is_leap_year(year):\n",
    "        days_of_the_months[1] = 29\n",
    "    ans = 0\n",
    "    for i in range(month):           # Minor logic error\n",
    "        ans += days_of_the_months[i]\n",
    "    ans += day\n",
    "    return ans\n",
    "\n",
    "day_of_year(year, month, day)"
   ]
  },
  {
   "cell_type": "markdown",
   "metadata": {},
   "source": [
    "## 6. Calculate Product (Score: 2/2)\n",
    "Write a function that takes two positive integers returns their product without using the symbol “*”\n",
    "1.  Use iteration (for loop)\n",
    "2.  Use recursion (extra exercise) -- 非必做，感兴趣的同学请自行搜索什么是recursion/递归"
   ]
  },
  {
   "cell_type": "code",
   "execution_count": 9,
   "metadata": {},
   "outputs": [],
   "source": [
    "a = 8\n",
    "b = 20"
   ]
  },
  {
   "cell_type": "code",
   "execution_count": 10,
   "metadata": {},
   "outputs": [
    {
     "data": {
      "text/plain": [
       "160"
      ]
     },
     "execution_count": 10,
     "metadata": {},
     "output_type": "execute_result"
    }
   ],
   "source": [
    "def multiply_using_iteration(a, b):\n",
    "    ans = 0\n",
    "    for i in range(b):\n",
    "        ans += a\n",
    "    return ans\n",
    "\n",
    "#multiply_using_iteration(a, b)\n",
    "\n",
    "def multiply_using_recursion(a, b):\n",
    "    if b == 1:\n",
    "        return a\n",
    "    else:\n",
    "        return a + multiply_using_recursion(a, b-1)\n",
    "    \n",
    "multiply_using_iteration(a, b)"
   ]
  },
  {
   "cell_type": "markdown",
   "metadata": {},
   "source": [
    "## 7. Reverse and Combine (Score: 2/2)\n",
    "Write a function named reverse_combine() to reverse and combine two strings with the same length.  Ex: reverse_combine(“12345”, “abcde”) returns “5e4d3c2b1a”\n"
   ]
  },
  {
   "cell_type": "code",
   "execution_count": 12,
   "metadata": {},
   "outputs": [
    {
     "data": {
      "text/plain": [
       "'5e4d3c2b1a'"
      ]
     },
     "execution_count": 12,
     "metadata": {},
     "output_type": "execute_result"
    }
   ],
   "source": [
    "def reverse_combine(str_a, str_b):\n",
    "    L = len(str_a)\n",
    "    ans = \"\"\n",
    "    for i in range(L-1, -1, -1):\n",
    "        ans += str_a[i]\n",
    "        ans += str_b[i]\n",
    "    return ans\n",
    "\n",
    "reverse_combine(\"12345\", \"abcde\")"
   ]
  },
  {
   "cell_type": "markdown",
   "metadata": {},
   "source": [
    "## 8. 二进制转换 (Score: 2/2)\n",
    "编写一个将十进制转换为二进制的函数，要求采用“除2取余”的方式，结果与调用 bin() 一样返回字符串形式（提示：请了解Python中 %   /  // 三种除法的区别）\n",
    "不要求加上bin()输出后面的'0b'。"
   ]
  },
  {
   "cell_type": "code",
   "execution_count": 13,
   "metadata": {},
   "outputs": [],
   "source": [
    "def bin(num):\n",
    "    ans = \"\"\n",
    "    while(num >= 2):\n",
    "        ans += str(num % 2)\n",
    "        num //= 2\n",
    "    ans += str(num)\n",
    "    return '0b' + ans[::-1]"
   ]
  },
  {
   "cell_type": "code",
   "execution_count": 62,
   "metadata": {},
   "outputs": [
    {
     "data": {
      "text/plain": [
       "'0b1'"
      ]
     },
     "execution_count": 62,
     "metadata": {},
     "output_type": "execute_result"
    }
   ],
   "source": [
    "bin(1)"
   ]
  },
  {
   "cell_type": "code",
   "execution_count": 63,
   "metadata": {},
   "outputs": [
    {
     "data": {
      "text/plain": [
       "'0b10'"
      ]
     },
     "execution_count": 63,
     "metadata": {},
     "output_type": "execute_result"
    }
   ],
   "source": [
    "bin(2)"
   ]
  },
  {
   "cell_type": "code",
   "execution_count": 64,
   "metadata": {},
   "outputs": [
    {
     "data": {
      "text/plain": [
       "'0b11'"
      ]
     },
     "execution_count": 64,
     "metadata": {},
     "output_type": "execute_result"
    }
   ],
   "source": [
    "bin(3)"
   ]
  },
  {
   "cell_type": "code",
   "execution_count": 70,
   "metadata": {},
   "outputs": [
    {
     "data": {
      "text/plain": [
       "'0b1000'"
      ]
     },
     "execution_count": 70,
     "metadata": {},
     "output_type": "execute_result"
    }
   ],
   "source": [
    "bin(8)"
   ]
  },
  {
   "cell_type": "markdown",
   "metadata": {},
   "source": [
    "# 反馈\n",
    "如果你对这个quiz的难度，预习的进度，以及课程目前以来的任何方面有任何建议或者问题都欢迎写在下面！"
   ]
  },
  {
   "cell_type": "code",
   "execution_count": null,
   "metadata": {},
   "outputs": [],
   "source": []
  }
 ],
 "metadata": {
  "kernelspec": {
   "display_name": "Python 3",
   "language": "python",
   "name": "python3"
  },
  "language_info": {
   "codemirror_mode": {
    "name": "ipython",
    "version": 3
   },
   "file_extension": ".py",
   "mimetype": "text/x-python",
   "name": "python",
   "nbconvert_exporter": "python",
   "pygments_lexer": "ipython3",
   "version": "3.7.3"
  }
 },
 "nbformat": 4,
 "nbformat_minor": 4
}
