{
 "cells": [
  {
   "cell_type": "code",
   "execution_count": 14,
   "metadata": {},
   "outputs": [
    {
     "name": "stdout",
     "output_type": "stream",
     "text": [
      "d\n",
      "s\n",
      "f\n",
      "a\n",
      "g\n"
     ]
    }
   ],
   "source": [
    "txt='asd f asdf dsa fs df asdf asd fsd f dsf d fs adf asdf s dfas df asdf df dsf ds fsa fsd f asdf as df ds afd g asdf asdfa sdf sd fsd f sdf sd fs df sda f sadf asd f sdf sd fd fd sd asd sa s as as d asd a ds f sdf asd fa sdf as df asdf as d sdf sdf sd sd ds sd f df ds fs adfasd f d fdf d d d d dd df sadf a sdf asdf asdf'\n",
    "txt=txt.split(' ')\n",
    "text=''.join(txt)\n",
    "text=list(text)\n",
    "count=dict()\n",
    "list_key=count.keys()\n",
    "for every in text:\n",
    "    if every in list_key:\n",
    "        count[every]+=1\n",
    "    else:\n",
    "        count[every]=1\n",
    "pairs=count.items()\n",
    "pairs=sorted(pairs,key=lambda word:word[1],reverse=True)\n",
    "for i in range(5):\n",
    "    print(pairs[i][0])"
   ]
  }
 ],
 "metadata": {
  "kernelspec": {
   "display_name": "Python 3",
   "language": "python",
   "name": "python3"
  },
  "language_info": {
   "codemirror_mode": {
    "name": "ipython",
    "version": 3
   },
   "file_extension": ".py",
   "mimetype": "text/x-python",
   "name": "python",
   "nbconvert_exporter": "python",
   "pygments_lexer": "ipython3",
   "version": "3.7.3"
  }
 },
 "nbformat": 4,
 "nbformat_minor": 2
}
