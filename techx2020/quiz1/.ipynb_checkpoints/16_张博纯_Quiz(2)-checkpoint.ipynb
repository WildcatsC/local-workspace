{
 "cells": [
  {
   "cell_type": "code",
   "execution_count": 1,
   "metadata": {},
   "outputs": [],
   "source": [
    "def leap_year(year):\n",
    "    year=int(year)\n",
    "    if year%400==0:\n",
    "        return True\n",
    "    elif year%4==0 and year%100!=0:\n",
    "        return True\n",
    "    else:\n",
    "        return False\n",
    "\n",
    "def day():\n",
    "    month_list={'1':31,'2':28,'3':31,'4':30,'5':31,'6':30,'7':31,'8':31,'9':30,'10':31,'11':30,'12':31}\n",
    "    year=input('year=')\n",
    "    month=input('month=')\n",
    "    day=input('day=')\n",
    "    if leap_year(year):\n",
    "            month_list['2']=29\n",
    "    else:\n",
    "        pass\n",
    "    if 0<int(month)<=12 and 0<int(day)<=month_list[month]:\n",
    "        pairs=list(month_list.items())\n",
    "        day_add=0\n",
    "        for i in range(len(pairs)):\n",
    "            if pairs[i][0]!=month:\n",
    "                day_add=day_add+pairs[i][1]\n",
    "            else:\n",
    "                break\n",
    "        day_add+=int(day)\n",
    "        print(str(day_add)+'th')\n",
    "    else:\n",
    "        print('date not exists')"
   ]
  }
 ],
 "metadata": {
  "kernelspec": {
   "display_name": "Python 3",
   "language": "python",
   "name": "python3"
  },
  "language_info": {
   "codemirror_mode": {
    "name": "ipython",
    "version": 3
   },
   "file_extension": ".py",
   "mimetype": "text/x-python",
   "name": "python",
   "nbconvert_exporter": "python",
   "pygments_lexer": "ipython3",
   "version": "3.7.3"
  }
 },
 "nbformat": 4,
 "nbformat_minor": 2
}
