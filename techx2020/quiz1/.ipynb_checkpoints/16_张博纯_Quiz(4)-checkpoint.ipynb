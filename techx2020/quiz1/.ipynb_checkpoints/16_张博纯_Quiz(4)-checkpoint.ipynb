{
 "cells": [
  {
   "cell_type": "code",
   "execution_count": 1,
   "metadata": {},
   "outputs": [],
   "source": [
    "def reverse_combine(tuple):\n",
    "    if len(tuple[0])==len(tuple[1]):\n",
    "        result=''\n",
    "        num=len(tuple[1])\n",
    "        for i in range(num):\n",
    "            result+=tuple[0][num-i-1]\n",
    "            result+=tuple[1][num-i-1]\n",
    "        print(result)\n",
    "    else:\n",
    "        print('format not correct')"
   ]
  }
 ],
 "metadata": {
  "kernelspec": {
   "display_name": "Python 3",
   "language": "python",
   "name": "python3"
  },
  "language_info": {
   "codemirror_mode": {
    "name": "ipython",
    "version": 3
   },
   "file_extension": ".py",
   "mimetype": "text/x-python",
   "name": "python",
   "nbconvert_exporter": "python",
   "pygments_lexer": "ipython3",
   "version": "3.7.3"
  }
 },
 "nbformat": 4,
 "nbformat_minor": 2
}
