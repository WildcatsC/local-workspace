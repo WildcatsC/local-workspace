{
 "cells": [
  {
   "cell_type": "code",
   "execution_count": 1,
   "metadata": {},
   "outputs": [],
   "source": [
    "def multiplication():\n",
    "    a=int(input('a='))\n",
    "    b=int(input('b=')) \n",
    "    for i in range(a):\n",
    "        b+=b\n",
    "    print(b)\n",
    "\n",
    "def multiplication_extra():\n",
    "    a=int(input('a='))\n",
    "    b=int(input('b='))\n",
    "    if b!=0:\n",
    "        print(a/(1/b))\n",
    "    else:\n",
    "        print(0)"
   ]
  },
  {
   "cell_type": "code",
   "execution_count": null,
   "metadata": {},
   "outputs": [],
   "source": []
  }
 ],
 "metadata": {
  "kernelspec": {
   "display_name": "Python 3",
   "language": "python",
   "name": "python3"
  },
  "language_info": {
   "codemirror_mode": {
    "name": "ipython",
    "version": 3
   },
   "file_extension": ".py",
   "mimetype": "text/x-python",
   "name": "python",
   "nbconvert_exporter": "python",
   "pygments_lexer": "ipython3",
   "version": "3.7.3"
  }
 },
 "nbformat": 4,
 "nbformat_minor": 2
}
