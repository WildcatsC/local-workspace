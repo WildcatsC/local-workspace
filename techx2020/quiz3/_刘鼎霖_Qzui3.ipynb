{
 "cells": [
  {
   "cell_type": "markdown",
   "metadata": {},
   "source": [
    "# TechX 2020 计算社科预习 Quiz 3 V1.0"
   ]
  },
  {
   "cell_type": "markdown",
   "metadata": {},
   "source": [
    "这个测试的目的不是为了难倒大家，而是为了检验预习成果，方便我们调整接下来的预习和课程安排。同时，我们也希望你们能通过这几个练习学到的知识，并学到的coding技巧。因此，我们有如下要求：\n",
    "1. 虽然我们不允许大家向别人请教 quiz 中的问题，但是你们可以在互联网上搜索已有的资源：这也是在TechX的学习过程中大家会一直做的。（PS 请别直接抄代码！请理解之后自己实现）\n",
    "2. 有些题目里会给出一些变量/数据，但是我们批改的时候可能会改动它们以检测你程序的可拓展性。\n",
    "3. 请在北京时间 8.2 24:00之前在教学立方提交，如有事无法按时请私信自己的对应AL（在预习文档里 https://shimo.im/docs/eIy4MXRYkLoZvE2Z ）。\n",
    "4. 如果感觉题目有问题或表述不清请直接在群里提出。我们有可能根据大家的提问发布V2.0 的 Quiz。"
   ]
  },
  {
   "cell_type": "markdown",
   "metadata": {},
   "source": [
    "## 0. Setup"
   ]
  },
  {
   "cell_type": "markdown",
   "metadata": {},
   "source": [
    "请在下面导入numpy(用np代替)，pandas（用pd代替）, 以及 matplotlib的相关包"
   ]
  },
  {
   "cell_type": "code",
   "execution_count": 2,
   "metadata": {},
   "outputs": [],
   "source": [
    "import numpy as np\n",
    "import pandas as pd\n",
    "import matplotlib.pyplot as plt"
   ]
  },
  {
   "cell_type": "markdown",
   "metadata": {},
   "source": [
    "# 1. Plotting\n",
    "下面所有的图都需要有以下元素：\n",
    "1. 标题\n",
    "2. 坐标轴的annotation\n",
    "3. 相关 legends"
   ]
  },
  {
   "cell_type": "markdown",
   "metadata": {},
   "source": [
    "a. 用pandas导入 Data Science Handbook notebooks/data/中的 state-population.csv 文件，把它命名为df"
   ]
  },
  {
   "cell_type": "code",
   "execution_count": 5,
   "metadata": {},
   "outputs": [
    {
     "data": {
      "text/html": [
       "<div>\n",
       "<style scoped>\n",
       "    .dataframe tbody tr th:only-of-type {\n",
       "        vertical-align: middle;\n",
       "    }\n",
       "\n",
       "    .dataframe tbody tr th {\n",
       "        vertical-align: top;\n",
       "    }\n",
       "\n",
       "    .dataframe thead th {\n",
       "        text-align: right;\n",
       "    }\n",
       "</style>\n",
       "<table border=\"1\" class=\"dataframe\">\n",
       "  <thead>\n",
       "    <tr style=\"text-align: right;\">\n",
       "      <th></th>\n",
       "      <th>state/region</th>\n",
       "      <th>ages</th>\n",
       "      <th>year</th>\n",
       "      <th>population</th>\n",
       "    </tr>\n",
       "  </thead>\n",
       "  <tbody>\n",
       "    <tr>\n",
       "      <th>0</th>\n",
       "      <td>AL</td>\n",
       "      <td>under18</td>\n",
       "      <td>2012</td>\n",
       "      <td>1117489.0</td>\n",
       "    </tr>\n",
       "    <tr>\n",
       "      <th>1</th>\n",
       "      <td>AL</td>\n",
       "      <td>total</td>\n",
       "      <td>2012</td>\n",
       "      <td>4817528.0</td>\n",
       "    </tr>\n",
       "    <tr>\n",
       "      <th>2</th>\n",
       "      <td>AL</td>\n",
       "      <td>under18</td>\n",
       "      <td>2010</td>\n",
       "      <td>1130966.0</td>\n",
       "    </tr>\n",
       "    <tr>\n",
       "      <th>3</th>\n",
       "      <td>AL</td>\n",
       "      <td>total</td>\n",
       "      <td>2010</td>\n",
       "      <td>4785570.0</td>\n",
       "    </tr>\n",
       "    <tr>\n",
       "      <th>4</th>\n",
       "      <td>AL</td>\n",
       "      <td>under18</td>\n",
       "      <td>2011</td>\n",
       "      <td>1125763.0</td>\n",
       "    </tr>\n",
       "    <tr>\n",
       "      <th>...</th>\n",
       "      <td>...</td>\n",
       "      <td>...</td>\n",
       "      <td>...</td>\n",
       "      <td>...</td>\n",
       "    </tr>\n",
       "    <tr>\n",
       "      <th>2539</th>\n",
       "      <td>USA</td>\n",
       "      <td>total</td>\n",
       "      <td>2010</td>\n",
       "      <td>309326295.0</td>\n",
       "    </tr>\n",
       "    <tr>\n",
       "      <th>2540</th>\n",
       "      <td>USA</td>\n",
       "      <td>under18</td>\n",
       "      <td>2011</td>\n",
       "      <td>73902222.0</td>\n",
       "    </tr>\n",
       "    <tr>\n",
       "      <th>2541</th>\n",
       "      <td>USA</td>\n",
       "      <td>total</td>\n",
       "      <td>2011</td>\n",
       "      <td>311582564.0</td>\n",
       "    </tr>\n",
       "    <tr>\n",
       "      <th>2542</th>\n",
       "      <td>USA</td>\n",
       "      <td>under18</td>\n",
       "      <td>2012</td>\n",
       "      <td>73708179.0</td>\n",
       "    </tr>\n",
       "    <tr>\n",
       "      <th>2543</th>\n",
       "      <td>USA</td>\n",
       "      <td>total</td>\n",
       "      <td>2012</td>\n",
       "      <td>313873685.0</td>\n",
       "    </tr>\n",
       "  </tbody>\n",
       "</table>\n",
       "<p>2544 rows × 4 columns</p>\n",
       "</div>"
      ],
      "text/plain": [
       "     state/region     ages  year   population\n",
       "0              AL  under18  2012    1117489.0\n",
       "1              AL    total  2012    4817528.0\n",
       "2              AL  under18  2010    1130966.0\n",
       "3              AL    total  2010    4785570.0\n",
       "4              AL  under18  2011    1125763.0\n",
       "...           ...      ...   ...          ...\n",
       "2539          USA    total  2010  309326295.0\n",
       "2540          USA  under18  2011   73902222.0\n",
       "2541          USA    total  2011  311582564.0\n",
       "2542          USA  under18  2012   73708179.0\n",
       "2543          USA    total  2012  313873685.0\n",
       "\n",
       "[2544 rows x 4 columns]"
      ]
     },
     "execution_count": 5,
     "metadata": {},
     "output_type": "execute_result"
    }
   ],
   "source": [
    "df =pd.read_csv(r\"E:\\plot\\state-population.csv\")\n",
    "df"
   ]
  },
  {
   "cell_type": "markdown",
   "metadata": {},
   "source": [
    "b. 在df的时间范围里，请选择合适的数据图展示 California 与 Texas 的总人口变化，并用你喜欢的颜色区分他们两个。"
   ]
  },
  {
   "cell_type": "code",
   "execution_count": 44,
   "metadata": {},
   "outputs": [],
   "source": [
    "ca = df[(df[\"ages\"]==\"total\")&(df[\"state/region\"]==\"CA\")][[\"year\",\"population\"]].set_index(\"year\")\n",
    "tx =df[(df[\"ages\"]==\"total\")&(df[\"state/region\"]==\"TX\")][[\"year\",\"population\"]].set_index(\"year\")"
   ]
  },
  {
   "cell_type": "code",
   "execution_count": 48,
   "metadata": {},
   "outputs": [
    {
     "data": {
      "text/plain": [
       "<matplotlib.legend.Legend at 0x25bfe3062b0>"
      ]
     },
     "execution_count": 48,
     "metadata": {},
     "output_type": "execute_result"
    },
    {
     "data": {
      "image/png": "[encoded data removed]",
      "text/plain": [
       "<Figure size 432x288 with 1 Axes>"
      ]
     },
     "metadata": {
      "needs_background": "light"
     },
     "output_type": "display_data"
    }
   ],
   "source": [
    "plt.plot(ca,label=\"CA\")\n",
    "plt.plot(tx,label=\"TX\")\n",
    "plt.legend()"
   ]
  },
  {
   "cell_type": "markdown",
   "metadata": {},
   "source": [
    "c. 选用合适的bin number来展示 2010 年美国各州的18岁以下人口的频率直方图(histogram)。"
   ]
  },
  {
   "cell_type": "code",
   "execution_count": 57,
   "metadata": {},
   "outputs": [],
   "source": [
    "bin_data= df[(df[\"ages\"]==\"under18\")&(df[\"year\"]==2010)][:-1]"
   ]
  },
  {
   "cell_type": "code",
   "execution_count": 61,
   "metadata": {},
   "outputs": [
    {
     "data": {
      "text/plain": [
       "(array([5., 6., 2., 2., 1., 1., 4., 4.]),\n",
       " array([100000, 200000, 300000, 400000, 500000, 600000, 700000, 800000,\n",
       "        900000]),\n",
       " <a list of 8 Patch objects>)"
      ]
     },
     "execution_count": 61,
     "metadata": {},
     "output_type": "execute_result"
    },
    {
     "data": {
      "image/png": "[encoded data removed]",
      "text/plain": [
       "<Figure size 432x288 with 1 Axes>"
      ]
     },
     "metadata": {
      "needs_background": "light"
     },
     "output_type": "display_data"
    }
   ],
   "source": [
    "bins=np.arange(100000,1000000,100000)\n",
    "plt.hist(bin_data[\"population\"],bins)"
   ]
  },
  {
   "cell_type": "markdown",
   "metadata": {},
   "source": [
    "d. 用scatter plot展示2005-2010美国各州平均总人口与平均增长率的关系（请注意平均增长率的计算方式）。\n",
    "描述有哪些州比较特殊，根据你的知识分析这些州特殊的原因。"
   ]
  },
  {
   "cell_type": "code",
   "execution_count": 186,
   "metadata": {},
   "outputs": [],
   "source": [
    "sc_data =df[(df[\"ages\"]==\"total\")&(df[\"year\"]>=2005)&(df[\"year\"]<=2010)][:-1]\n",
    "l=list(set(df[\"state/region\"]))\n",
    "l.remove(\"USA\")\n",
    "rate =[]  # 增长率\n",
    "for c in l:\n",
    "    temp= sc_data[sc_data[\"state/region\"]==c][\"population\"]\n",
    "    sd =round((temp.diff()/temp)[1:].sum()/5,3)  # 计算平均增长率\n",
    "    rate.append(sd)\n",
    "population = sc_data[\"population\"].groupby(sc_data[\"state/region\"]).mean()\n",
    "population =population.drop(\"USA\")  # "
   ]
  },
  {
   "cell_type": "code",
   "execution_count": 187,
   "metadata": {},
   "outputs": [
    {
     "data": {
      "image/png": "[encoded data removed]",
      "text/plain": [
       "<Figure size 432x288 with 1 Axes>"
      ]
     },
     "metadata": {
      "needs_background": "light"
     },
     "output_type": "display_data"
    }
   ],
   "source": [
    "txt =l\n",
    "plt.scatter(population, rate)\n",
    "for i in range(len(population)):\n",
    "    plt.annotate(txt[i], xy = (population[i], rate[i]), xytext = (population[i]+0.001, rate[i]+0.001))\n",
    "plt.show()"
   ]
  },
  {
   "cell_type": "raw",
   "metadata": {},
   "source": [
    "# 可以看出NC的人群基数和增长率都比较大，TX人群基数处于中等水平，但是平均增长率却超越了其他城市，UT人群基数较小，平均增长率呈现负增长最大。\n"
   ]
  },
  {
   "cell_type": "code",
   "execution_count": 188,
   "metadata": {},
   "outputs": [
    {
     "data": {
      "text/html": [
       "<div>\n",
       "<style scoped>\n",
       "    .dataframe tbody tr th:only-of-type {\n",
       "        vertical-align: middle;\n",
       "    }\n",
       "\n",
       "    .dataframe tbody tr th {\n",
       "        vertical-align: top;\n",
       "    }\n",
       "\n",
       "    .dataframe thead th {\n",
       "        text-align: right;\n",
       "    }\n",
       "</style>\n",
       "<table border=\"1\" class=\"dataframe\">\n",
       "  <thead>\n",
       "    <tr style=\"text-align: right;\">\n",
       "      <th></th>\n",
       "      <th>state/region</th>\n",
       "      <th>ages</th>\n",
       "      <th>year</th>\n",
       "      <th>population</th>\n",
       "    </tr>\n",
       "  </thead>\n",
       "  <tbody>\n",
       "    <tr>\n",
       "      <th>2116</th>\n",
       "      <td>UT</td>\n",
       "      <td>under18</td>\n",
       "      <td>2010</td>\n",
       "      <td>873019.0</td>\n",
       "    </tr>\n",
       "    <tr>\n",
       "      <th>2119</th>\n",
       "      <td>UT</td>\n",
       "      <td>under18</td>\n",
       "      <td>2009</td>\n",
       "      <td>857853.0</td>\n",
       "    </tr>\n",
       "    <tr>\n",
       "      <th>2123</th>\n",
       "      <td>UT</td>\n",
       "      <td>under18</td>\n",
       "      <td>2007</td>\n",
       "      <td>815496.0</td>\n",
       "    </tr>\n",
       "    <tr>\n",
       "      <th>2125</th>\n",
       "      <td>UT</td>\n",
       "      <td>under18</td>\n",
       "      <td>2008</td>\n",
       "      <td>837258.0</td>\n",
       "    </tr>\n",
       "    <tr>\n",
       "      <th>2127</th>\n",
       "      <td>UT</td>\n",
       "      <td>under18</td>\n",
       "      <td>2006</td>\n",
       "      <td>789957.0</td>\n",
       "    </tr>\n",
       "  </tbody>\n",
       "</table>\n",
       "</div>"
      ],
      "text/plain": [
       "     state/region     ages  year  population\n",
       "2116           UT  under18  2010    873019.0\n",
       "2119           UT  under18  2009    857853.0\n",
       "2123           UT  under18  2007    815496.0\n",
       "2125           UT  under18  2008    837258.0\n",
       "2127           UT  under18  2006    789957.0"
      ]
     },
     "execution_count": 188,
     "metadata": {},
     "output_type": "execute_result"
    }
   ],
   "source": [
    "df[(df[\"state/region\"]==\"UT\")&(df[\"ages\"]==\"under18\")&(df[\"year\"]>=2005)&(df[\"year\"]<=2010)][:-1]"
   ]
  },
  {
   "cell_type": "code",
   "execution_count": 189,
   "metadata": {},
   "outputs": [
    {
     "data": {
      "text/html": [
       "<div>\n",
       "<style scoped>\n",
       "    .dataframe tbody tr th:only-of-type {\n",
       "        vertical-align: middle;\n",
       "    }\n",
       "\n",
       "    .dataframe tbody tr th {\n",
       "        vertical-align: top;\n",
       "    }\n",
       "\n",
       "    .dataframe thead th {\n",
       "        text-align: right;\n",
       "    }\n",
       "</style>\n",
       "<table border=\"1\" class=\"dataframe\">\n",
       "  <thead>\n",
       "    <tr style=\"text-align: right;\">\n",
       "      <th></th>\n",
       "      <th>state/region</th>\n",
       "      <th>ages</th>\n",
       "      <th>year</th>\n",
       "      <th>population</th>\n",
       "    </tr>\n",
       "  </thead>\n",
       "  <tbody>\n",
       "    <tr>\n",
       "      <th>1615</th>\n",
       "      <td>NC</td>\n",
       "      <td>under18</td>\n",
       "      <td>2005</td>\n",
       "      <td>2122485.0</td>\n",
       "    </tr>\n",
       "    <tr>\n",
       "      <th>1617</th>\n",
       "      <td>NC</td>\n",
       "      <td>under18</td>\n",
       "      <td>2006</td>\n",
       "      <td>2166393.0</td>\n",
       "    </tr>\n",
       "    <tr>\n",
       "      <th>1619</th>\n",
       "      <td>NC</td>\n",
       "      <td>under18</td>\n",
       "      <td>2008</td>\n",
       "      <td>2252101.0</td>\n",
       "    </tr>\n",
       "    <tr>\n",
       "      <th>1621</th>\n",
       "      <td>NC</td>\n",
       "      <td>under18</td>\n",
       "      <td>2007</td>\n",
       "      <td>2219168.0</td>\n",
       "    </tr>\n",
       "    <tr>\n",
       "      <th>1625</th>\n",
       "      <td>NC</td>\n",
       "      <td>under18</td>\n",
       "      <td>2009</td>\n",
       "      <td>2272955.0</td>\n",
       "    </tr>\n",
       "  </tbody>\n",
       "</table>\n",
       "</div>"
      ],
      "text/plain": [
       "     state/region     ages  year  population\n",
       "1615           NC  under18  2005   2122485.0\n",
       "1617           NC  under18  2006   2166393.0\n",
       "1619           NC  under18  2008   2252101.0\n",
       "1621           NC  under18  2007   2219168.0\n",
       "1625           NC  under18  2009   2272955.0"
      ]
     },
     "execution_count": 189,
     "metadata": {},
     "output_type": "execute_result"
    }
   ],
   "source": [
    "df[(df[\"state/region\"]==\"NC\")&(df[\"ages\"]==\"under18\")&(df[\"year\"]>=2005)&(df[\"year\"]<=2010)][:-1]"
   ]
  },
  {
   "cell_type": "code",
   "execution_count": 190,
   "metadata": {},
   "outputs": [
    {
     "data": {
      "text/html": [
       "<div>\n",
       "<style scoped>\n",
       "    .dataframe tbody tr th:only-of-type {\n",
       "        vertical-align: middle;\n",
       "    }\n",
       "\n",
       "    .dataframe tbody tr th {\n",
       "        vertical-align: top;\n",
       "    }\n",
       "\n",
       "    .dataframe thead th {\n",
       "        text-align: right;\n",
       "    }\n",
       "</style>\n",
       "<table border=\"1\" class=\"dataframe\">\n",
       "  <thead>\n",
       "    <tr style=\"text-align: right;\">\n",
       "      <th></th>\n",
       "      <th>state/region</th>\n",
       "      <th>ages</th>\n",
       "      <th>year</th>\n",
       "      <th>population</th>\n",
       "    </tr>\n",
       "  </thead>\n",
       "  <tbody>\n",
       "    <tr>\n",
       "      <th>2095</th>\n",
       "      <td>TX</td>\n",
       "      <td>under18</td>\n",
       "      <td>2005</td>\n",
       "      <td>6290970.0</td>\n",
       "    </tr>\n",
       "    <tr>\n",
       "      <th>2097</th>\n",
       "      <td>TX</td>\n",
       "      <td>under18</td>\n",
       "      <td>2006</td>\n",
       "      <td>6446798.0</td>\n",
       "    </tr>\n",
       "    <tr>\n",
       "      <th>2099</th>\n",
       "      <td>TX</td>\n",
       "      <td>under18</td>\n",
       "      <td>2008</td>\n",
       "      <td>6675917.0</td>\n",
       "    </tr>\n",
       "    <tr>\n",
       "      <th>2101</th>\n",
       "      <td>TX</td>\n",
       "      <td>under18</td>\n",
       "      <td>2007</td>\n",
       "      <td>6565872.0</td>\n",
       "    </tr>\n",
       "    <tr>\n",
       "      <th>2105</th>\n",
       "      <td>TX</td>\n",
       "      <td>under18</td>\n",
       "      <td>2009</td>\n",
       "      <td>6792907.0</td>\n",
       "    </tr>\n",
       "  </tbody>\n",
       "</table>\n",
       "</div>"
      ],
      "text/plain": [
       "     state/region     ages  year  population\n",
       "2095           TX  under18  2005   6290970.0\n",
       "2097           TX  under18  2006   6446798.0\n",
       "2099           TX  under18  2008   6675917.0\n",
       "2101           TX  under18  2007   6565872.0\n",
       "2105           TX  under18  2009   6792907.0"
      ]
     },
     "execution_count": 190,
     "metadata": {},
     "output_type": "execute_result"
    }
   ],
   "source": [
    "df[(df[\"state/region\"]==\"TX\")&(df[\"ages\"]==\"under18\")&(df[\"year\"]>=2005)&(df[\"year\"]<=2010)][:-1]"
   ]
  },
  {
   "cell_type": "raw",
   "metadata": {},
   "source": [
    "从以上数据可以看出，影响增长率的主要因素为under18的占比，TX的under18的比例逐年提升，所以增长率较高，其他的under18占比下降，所以增速较小\n",
    "判断增速应该于人口老龄化有关。"
   ]
  },
  {
   "cell_type": "markdown",
   "metadata": {},
   "source": [
    "# 2. 数学"
   ]
  },
  {
   "cell_type": "markdown",
   "metadata": {},
   "source": [
    "a. 请在一个x-y坐标系内画出 $y = 2x^2+1$ 的图像，并说明在x=1的时候，此函数的导数的值以及它的几何意义。请在同一个坐标系里画出在x=1时该方程的切线。"
   ]
  },
  {
   "cell_type": "code",
   "execution_count": null,
   "metadata": {},
   "outputs": [],
   "source": [
    "x = np.linspace(0, 2, 50)\n",
    "y = 2*x**2+1\n",
    "plt.plot(x,y)\n",
    "plt.plot(x,4*x-1)\n",
    "plt.show()\n",
    "导数为4 几何意义为此图像在该点的斜率"
   ]
  },
  {
   "cell_type": "markdown",
   "metadata": {},
   "source": [
    "b. 请用 04.04 中的方法，画出函数 $z = x^2 + y^2$ 在 $|x|\\leq 3, |y| \\leq 3$内的contour plot (用颜色体现z的大小)。根据你的理解，分别解释此函数 $x=0, y=0$ 以及 $x = 1, y = 0$ 两个点的时候 gradient(梯度) 的大小以及方向。"
   ]
  },
  {
   "cell_type": "code",
   "execution_count": null,
   "metadata": {},
   "outputs": [],
   "source": [
    "def f(x, y):\n",
    "    return x**2=y**2\n",
    "\n",
    "x = np.linspace(0, 3, 50)\n",
    "y = np.linspace(0, 3, 50)\n",
    "\n",
    "X, Y = np.meshgrid(x, y)\n",
    "Z = f(X, Y)\n",
    "plt.contour(X, Y, Z, 20, cmap='RdGy')"
   ]
  },
  {
   "cell_type": "markdown",
   "metadata": {},
   "source": [
    "c. 用自选方法计算下面矩阵乘法的结果（推荐手算）：\n",
    "\n",
    "i. $$\n",
    "\\begin{pmatrix}\n",
    "0 & 4 & 3\n",
    "\\end{pmatrix}\n",
    "\\begin{pmatrix}\n",
    "9 \\\\\n",
    "0 \\\\\n",
    "3\n",
    "\\end{pmatrix}\n",
    "$$\n",
    "\n",
    "ii.\n",
    "$$\n",
    "\\begin{pmatrix}\n",
    "9 \\\\\n",
    "0 \\\\\n",
    "3\n",
    "\\end{pmatrix}\n",
    "\\begin{pmatrix}\n",
    "0 & 4 & 3\n",
    "\\end{pmatrix}\n",
    "$$\n",
    "\n",
    "iii. \n",
    "$$\n",
    "\\begin{pmatrix}\n",
    "9 & 3 \\\\\n",
    "0 & 2 \\\\\n",
    "3 & 4 \\\\\n",
    "\\end{pmatrix}\n",
    "\\begin{pmatrix}\n",
    "0 & 4 & 3 \\\\\n",
    "0 & 4 & 3\n",
    "\\end{pmatrix}\n",
    "$$"
   ]
  },
  {
   "cell_type": "code",
   "execution_count": null,
   "metadata": {},
   "outputs": [],
   "source": [
    "(9)"
   ]
  },
  {
   "cell_type": "code",
   "execution_count": null,
   "metadata": {},
   "outputs": [],
   "source": [
    "无意义"
   ]
  },
  {
   "cell_type": "code",
   "execution_count": null,
   "metadata": {},
   "outputs": [],
   "source": [
    "[0 48 36]\n",
    "[0  8  6]\n",
    "[0 28 21]"
   ]
  },
  {
   "cell_type": "markdown",
   "metadata": {},
   "source": [
    "d. 使用 seaborn 中的 regplot 功能对你在1d中计算的数据进行线性回归。描述你发现的关系并给出可能的原因。"
   ]
  },
  {
   "cell_type": "code",
   "execution_count": null,
   "metadata": {},
   "outputs": [],
   "source": []
  },
  {
   "cell_type": "code",
   "execution_count": null,
   "metadata": {},
   "outputs": [],
   "source": []
  },
  {
   "cell_type": "code",
   "execution_count": null,
   "metadata": {},
   "outputs": [],
   "source": []
  },
  {
   "cell_type": "markdown",
   "metadata": {},
   "source": [
    "# 反馈\n",
    "如果你对这个quiz的难度，预习的进度，以及课程目前以来的任何方面有任何建议或者问题都欢迎写在下面！"
   ]
  },
  {
   "cell_type": "code",
   "execution_count": null,
   "metadata": {},
   "outputs": [],
   "source": []
  }
 ],
 "metadata": {
  "kernelspec": {
   "display_name": "Python 3",
   "language": "python",
   "name": "python3"
  },
  "language_info": {
   "codemirror_mode": {
    "name": "ipython",
    "version": 3
   },
   "file_extension": ".py",
   "mimetype": "text/x-python",
   "name": "python",
   "nbconvert_exporter": "python",
   "pygments_lexer": "ipython3",
   "version": "3.7.6"
  }
 },
 "nbformat": 4,
 "nbformat_minor": 4
}
