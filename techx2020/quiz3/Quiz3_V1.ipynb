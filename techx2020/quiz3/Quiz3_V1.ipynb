{
 "cells": [
  {
   "cell_type": "markdown",
   "metadata": {},
   "source": [
    "# TechX 2020 计算社科预习 Quiz 3 V1.0"
   ]
  },
  {
   "cell_type": "markdown",
   "metadata": {},
   "source": [
    "这个测试的目的不是为了难倒大家，而是为了检验预习成果，方便我们调整接下来的预习和课程安排。同时，我们也希望你们能通过这几个练习学到的知识，并学到的coding技巧。因此，我们有如下要求：\n",
    "1. 虽然我们不允许大家向别人请教 quiz 中的问题，但是你们可以在互联网上搜索已有的资源：这也是在TechX的学习过程中大家会一直做的。（PS 请别直接抄代码！请理解之后自己实现）\n",
    "2. 有些题目里会给出一些变量/数据，但是我们批改的时候可能会改动它们以检测你程序的可拓展性。\n",
    "3. 请在北京时间 8.2 24:00之前在教学立方提交，如有事无法按时请私信自己的对应AL（在预习文档里 https://shimo.im/docs/eIy4MXRYkLoZvE2Z ）。\n",
    "4. 如果感觉题目有问题或表述不清请直接在群里提出。我们有可能根据大家的提问发布V2.0 的 Quiz。"
   ]
  },
  {
   "cell_type": "markdown",
   "metadata": {},
   "source": [
    "## 0. Setup"
   ]
  },
  {
   "cell_type": "markdown",
   "metadata": {},
   "source": [
    "请在下面导入numpy(用np代替)，pandas（用pd代替）, 以及 matplotlib的相关包"
   ]
  },
  {
   "cell_type": "code",
   "execution_count": 1,
   "metadata": {},
   "outputs": [],
   "source": [
    "import numpy as np\n",
    "import pandas as pd\n",
    "import matplotlib as mlt\n",
    "import matplotlib.pyplot as plt\n",
    "%matplotlib inline\n",
    "plt.style.use(\"seaborn-white\")"
   ]
  },
  {
   "cell_type": "markdown",
   "metadata": {},
   "source": [
    "# 1. Plotting\n",
    "下面所有的图都需要有以下元素：\n",
    "1. 标题\n",
    "2. 坐标轴的annotation\n",
    "3. 相关 legends"
   ]
  },
  {
   "cell_type": "markdown",
   "metadata": {},
   "source": [
    "a. 用pandas导入 Data Science Handbook notebooks/data/中的 state-population.csv 文件，把它命名为df"
   ]
  },
  {
   "cell_type": "code",
   "execution_count": 2,
   "metadata": {},
   "outputs": [],
   "source": [
    "df = pd.read_csv('state-population.csv')"
   ]
  },
  {
   "cell_type": "markdown",
   "metadata": {},
   "source": [
    "b. 在df的时间范围里，请选择合适的数据图展示 California 与 Texas 的总人口变化，并用你喜欢的颜色区分他们两个。"
   ]
  },
  {
   "cell_type": "code",
   "execution_count": 155,
   "metadata": {},
   "outputs": [
    {
     "data": {
      "text/plain": [
       "[<matplotlib.lines.Line2D at 0x11a728b00>]"
      ]
     },
     "execution_count": 155,
     "metadata": {},
     "output_type": "execute_result"
    },
    {
     "data": {
      "image/png": "[encoded data removed]",
      "text/plain": [
       "<Figure size 432x288 with 1 Axes>"
      ]
     },
     "metadata": {
      "needs_background": "light"
     },
     "output_type": "display_data"
    }
   ],
   "source": [
    "y = df[df['state/region']=='CA']\n",
    "y = y[y['ages']=='total']\n",
    "z = df[df['state/region']=='TX']\n",
    "z = z[z['ages']=='total']\n",
    "y = y.sort_values('year')\n",
    "z = z.sort_values('year')\n",
    "plt.plot(y['year'], y['population'])\n",
    "plt.plot(z['year'], z['population'])\n"
   ]
  },
  {
   "cell_type": "code",
   "execution_count": 98,
   "metadata": {},
   "outputs": [
    {
     "data": {
      "text/html": [
       "<div>\n",
       "<style scoped>\n",
       "    .dataframe tbody tr th:only-of-type {\n",
       "        vertical-align: middle;\n",
       "    }\n",
       "\n",
       "    .dataframe tbody tr th {\n",
       "        vertical-align: top;\n",
       "    }\n",
       "\n",
       "    .dataframe thead th {\n",
       "        text-align: right;\n",
       "    }\n",
       "</style>\n",
       "<table border=\"1\" class=\"dataframe\">\n",
       "  <thead>\n",
       "    <tr style=\"text-align: right;\">\n",
       "      <th></th>\n",
       "      <th>state/region</th>\n",
       "      <th>ages</th>\n",
       "      <th>year</th>\n",
       "      <th>population</th>\n",
       "    </tr>\n",
       "  </thead>\n",
       "  <tbody>\n",
       "    <tr>\n",
       "      <th>239</th>\n",
       "      <td>CA</td>\n",
       "      <td>total</td>\n",
       "      <td>1990</td>\n",
       "      <td>29959515.0</td>\n",
       "    </tr>\n",
       "    <tr>\n",
       "      <th>234</th>\n",
       "      <td>CA</td>\n",
       "      <td>total</td>\n",
       "      <td>1991</td>\n",
       "      <td>30470736.0</td>\n",
       "    </tr>\n",
       "    <tr>\n",
       "      <th>237</th>\n",
       "      <td>CA</td>\n",
       "      <td>total</td>\n",
       "      <td>1992</td>\n",
       "      <td>30974659.0</td>\n",
       "    </tr>\n",
       "    <tr>\n",
       "      <th>230</th>\n",
       "      <td>CA</td>\n",
       "      <td>total</td>\n",
       "      <td>1993</td>\n",
       "      <td>31274928.0</td>\n",
       "    </tr>\n",
       "    <tr>\n",
       "      <th>233</th>\n",
       "      <td>CA</td>\n",
       "      <td>total</td>\n",
       "      <td>1994</td>\n",
       "      <td>31484435.0</td>\n",
       "    </tr>\n",
       "    <tr>\n",
       "      <th>228</th>\n",
       "      <td>CA</td>\n",
       "      <td>total</td>\n",
       "      <td>1995</td>\n",
       "      <td>31696582.0</td>\n",
       "    </tr>\n",
       "    <tr>\n",
       "      <th>227</th>\n",
       "      <td>CA</td>\n",
       "      <td>total</td>\n",
       "      <td>1996</td>\n",
       "      <td>32018834.0</td>\n",
       "    </tr>\n",
       "    <tr>\n",
       "      <th>225</th>\n",
       "      <td>CA</td>\n",
       "      <td>total</td>\n",
       "      <td>1997</td>\n",
       "      <td>32486010.0</td>\n",
       "    </tr>\n",
       "    <tr>\n",
       "      <th>223</th>\n",
       "      <td>CA</td>\n",
       "      <td>total</td>\n",
       "      <td>1998</td>\n",
       "      <td>32987675.0</td>\n",
       "    </tr>\n",
       "    <tr>\n",
       "      <th>219</th>\n",
       "      <td>CA</td>\n",
       "      <td>total</td>\n",
       "      <td>1999</td>\n",
       "      <td>33499204.0</td>\n",
       "    </tr>\n",
       "    <tr>\n",
       "      <th>220</th>\n",
       "      <td>CA</td>\n",
       "      <td>total</td>\n",
       "      <td>2000</td>\n",
       "      <td>33987977.0</td>\n",
       "    </tr>\n",
       "    <tr>\n",
       "      <th>214</th>\n",
       "      <td>CA</td>\n",
       "      <td>total</td>\n",
       "      <td>2001</td>\n",
       "      <td>34479458.0</td>\n",
       "    </tr>\n",
       "    <tr>\n",
       "      <th>216</th>\n",
       "      <td>CA</td>\n",
       "      <td>total</td>\n",
       "      <td>2002</td>\n",
       "      <td>34871843.0</td>\n",
       "    </tr>\n",
       "    <tr>\n",
       "      <th>210</th>\n",
       "      <td>CA</td>\n",
       "      <td>total</td>\n",
       "      <td>2003</td>\n",
       "      <td>35253159.0</td>\n",
       "    </tr>\n",
       "    <tr>\n",
       "      <th>212</th>\n",
       "      <td>CA</td>\n",
       "      <td>total</td>\n",
       "      <td>2004</td>\n",
       "      <td>35574576.0</td>\n",
       "    </tr>\n",
       "    <tr>\n",
       "      <th>206</th>\n",
       "      <td>CA</td>\n",
       "      <td>total</td>\n",
       "      <td>2005</td>\n",
       "      <td>35827943.0</td>\n",
       "    </tr>\n",
       "    <tr>\n",
       "      <th>208</th>\n",
       "      <td>CA</td>\n",
       "      <td>total</td>\n",
       "      <td>2006</td>\n",
       "      <td>36021202.0</td>\n",
       "    </tr>\n",
       "    <tr>\n",
       "      <th>202</th>\n",
       "      <td>CA</td>\n",
       "      <td>total</td>\n",
       "      <td>2007</td>\n",
       "      <td>36250311.0</td>\n",
       "    </tr>\n",
       "    <tr>\n",
       "      <th>204</th>\n",
       "      <td>CA</td>\n",
       "      <td>total</td>\n",
       "      <td>2008</td>\n",
       "      <td>36604337.0</td>\n",
       "    </tr>\n",
       "    <tr>\n",
       "      <th>200</th>\n",
       "      <td>CA</td>\n",
       "      <td>total</td>\n",
       "      <td>2009</td>\n",
       "      <td>36961229.0</td>\n",
       "    </tr>\n",
       "    <tr>\n",
       "      <th>197</th>\n",
       "      <td>CA</td>\n",
       "      <td>total</td>\n",
       "      <td>2010</td>\n",
       "      <td>37333601.0</td>\n",
       "    </tr>\n",
       "    <tr>\n",
       "      <th>195</th>\n",
       "      <td>CA</td>\n",
       "      <td>total</td>\n",
       "      <td>2011</td>\n",
       "      <td>37668681.0</td>\n",
       "    </tr>\n",
       "    <tr>\n",
       "      <th>193</th>\n",
       "      <td>CA</td>\n",
       "      <td>total</td>\n",
       "      <td>2012</td>\n",
       "      <td>37999878.0</td>\n",
       "    </tr>\n",
       "    <tr>\n",
       "      <th>199</th>\n",
       "      <td>CA</td>\n",
       "      <td>total</td>\n",
       "      <td>2013</td>\n",
       "      <td>38332521.0</td>\n",
       "    </tr>\n",
       "  </tbody>\n",
       "</table>\n",
       "</div>"
      ],
      "text/plain": [
       "    state/region   ages  year  population\n",
       "239           CA  total  1990  29959515.0\n",
       "234           CA  total  1991  30470736.0\n",
       "237           CA  total  1992  30974659.0\n",
       "230           CA  total  1993  31274928.0\n",
       "233           CA  total  1994  31484435.0\n",
       "228           CA  total  1995  31696582.0\n",
       "227           CA  total  1996  32018834.0\n",
       "225           CA  total  1997  32486010.0\n",
       "223           CA  total  1998  32987675.0\n",
       "219           CA  total  1999  33499204.0\n",
       "220           CA  total  2000  33987977.0\n",
       "214           CA  total  2001  34479458.0\n",
       "216           CA  total  2002  34871843.0\n",
       "210           CA  total  2003  35253159.0\n",
       "212           CA  total  2004  35574576.0\n",
       "206           CA  total  2005  35827943.0\n",
       "208           CA  total  2006  36021202.0\n",
       "202           CA  total  2007  36250311.0\n",
       "204           CA  total  2008  36604337.0\n",
       "200           CA  total  2009  36961229.0\n",
       "197           CA  total  2010  37333601.0\n",
       "195           CA  total  2011  37668681.0\n",
       "193           CA  total  2012  37999878.0\n",
       "199           CA  total  2013  38332521.0"
      ]
     },
     "execution_count": 98,
     "metadata": {},
     "output_type": "execute_result"
    }
   ],
   "source": [
    "y.sort_values('year')"
   ]
  },
  {
   "cell_type": "markdown",
   "metadata": {},
   "source": [
    "c. 选用合适的bin number来展示 2010 年美国各州的18岁以下人口的频率直方图(histogram)。"
   ]
  },
  {
   "cell_type": "code",
   "execution_count": 152,
   "metadata": {},
   "outputs": [
    {
     "data": {
      "text/plain": [
       "(array([8.16745682e-07, 3.14132955e-07, 5.02612728e-07, 3.76959546e-07,\n",
       "        5.02612728e-07, 6.28265909e-08, 6.28265909e-08, 1.88479773e-07,\n",
       "        1.25653182e-07, 6.28265909e-08, 0.00000000e+00, 0.00000000e+00,\n",
       "        6.28265909e-08, 6.28265909e-08, 0.00000000e+00, 0.00000000e+00,\n",
       "        0.00000000e+00, 0.00000000e+00, 0.00000000e+00, 0.00000000e+00,\n",
       "        0.00000000e+00, 0.00000000e+00, 6.28265909e-08, 0.00000000e+00,\n",
       "        0.00000000e+00, 0.00000000e+00, 0.00000000e+00, 0.00000000e+00,\n",
       "        0.00000000e+00, 6.28265909e-08]),\n",
       " array([ 101309.        ,  407401.83333333,  713494.66666667,\n",
       "        1019587.5       , 1325680.33333333, 1631773.16666667,\n",
       "        1937866.        , 2243958.83333333, 2550051.66666667,\n",
       "        2856144.5       , 3162237.33333333, 3468330.16666667,\n",
       "        3774423.        , 4080515.83333333, 4386608.66666667,\n",
       "        4692701.5       , 4998794.33333333, 5304887.16666667,\n",
       "        5610980.        , 5917072.83333333, 6223165.66666667,\n",
       "        6529258.5       , 6835351.33333333, 7141444.16666667,\n",
       "        7447537.        , 7753629.83333333, 8059722.66666667,\n",
       "        8365815.5       , 8671908.33333333, 8978001.16666667,\n",
       "        9284094.        ]),\n",
       " <a list of 30 Patch objects>)"
      ]
     },
     "execution_count": 152,
     "metadata": {},
     "output_type": "execute_result"
    },
    {
     "data": {
      "image/png": "[encoded data removed]",
      "text/plain": [
       "<Figure size 432x288 with 1 Axes>"
      ]
     },
     "metadata": {
      "needs_background": "light"
     },
     "output_type": "display_data"
    }
   ],
   "source": [
    "k = df[df['year']==2010]\n",
    "k = k[k['ages'] == 'under18']\n",
    "k = k[k['state/region'] != 'USA']\n",
    "plt.hist(k['population'], bins = 30, density=True)"
   ]
  },
  {
   "cell_type": "code",
   "execution_count": 154,
   "metadata": {},
   "outputs": [
    {
     "data": {
      "text/plain": [
       "array([1.11748900e+06, 4.81752800e+06, 1.88162000e+05, 7.30307000e+05,\n",
       "       1.61714900e+06, 6.55114900e+06, 7.10471000e+05, 2.94982800e+06,\n",
       "       9.20900700e+06, 3.79998780e+07, 1.23286400e+06, 5.18945800e+06,\n",
       "       7.94959000e+05, 3.59176500e+06, 2.04586000e+05, 9.17053000e+05,\n",
       "       1.07642000e+05, 6.33427000e+05, 4.01242100e+06, 1.93207490e+07,\n",
       "       9.91564600e+06, 2.48783100e+06, 3.05981000e+05, 1.39009000e+06,\n",
       "       1.59559000e+06, 4.27177000e+05, 3.05704200e+06, 1.28681920e+07,\n",
       "       6.53778200e+06, 1.58965500e+06, 7.23917000e+05, 3.07503900e+06,\n",
       "       2.88539800e+06, 7.26668000e+05, 1.01735000e+06, 4.37973000e+06,\n",
       "       4.60213400e+06, 1.11462000e+06, 2.64846000e+05, 1.32850100e+06,\n",
       "       5.88486800e+06, 1.34623500e+06, 1.39941700e+06, 6.64530300e+06,\n",
       "       9.88251900e+06, 2.26936500e+06, 1.27805000e+06, 5.37964600e+06,\n",
       "       2.98645000e+06, 7.42941000e+05, 1.40501500e+06, 6.02452200e+06,\n",
       "       1.00549400e+06, 2.22905000e+05, 4.62673000e+05, 1.85535000e+06,\n",
       "       2.75435400e+06, 6.59655000e+05, 2.75818000e+05, 1.32161700e+06,\n",
       "       8.86774900e+06, 2.03510600e+06, 5.12314000e+05, 2.08354000e+06,\n",
       "       1.95761250e+07, 4.26469400e+06, 2.28412200e+06, 9.74836400e+06,\n",
       "       7.01345000e+05, 1.56765000e+05, 2.66812500e+06, 1.15530310e+07,\n",
       "       3.81578000e+06, 9.39911000e+05, 8.59910000e+05, 3.89980100e+06,\n",
       "       1.27644750e+07, 2.73790500e+06, 2.16591000e+05, 1.05030400e+06,\n",
       "       4.72341700e+06, 1.07745500e+06, 2.05298000e+05, 8.34047000e+05,\n",
       "       6.45491400e+06, 1.49268900e+06, 6.98580700e+06, 2.60607960e+07,\n",
       "       2.85487100e+06, 8.88578000e+05, 1.24555000e+05, 6.25953000e+05,\n",
       "       8.18662800e+06, 1.86132300e+06, 1.58845100e+06, 6.89531800e+06,\n",
       "       1.85668000e+06, 3.84030000e+05, 1.31611300e+06, 5.72455400e+06,\n",
       "       5.76626000e+05, 1.36526000e+05, 8.41740000e+05, 3.65154500e+06,\n",
       "       7.37081790e+07, 3.13873685e+08])"
      ]
     },
     "execution_count": 154,
     "metadata": {},
     "output_type": "execute_result"
    }
   ],
   "source": []
  },
  {
   "cell_type": "markdown",
   "metadata": {},
   "source": [
    "d. 用scatter plot展示2005-2010美国各州平均总人口与平均增长率的关系（请注意平均增长率的计算方式）。\n",
    "描述有哪些州比较特殊，根据你的知识分析这些州特殊的原因。"
   ]
  },
  {
   "cell_type": "code",
   "execution_count": 94,
   "metadata": {},
   "outputs": [
    {
     "data": {
      "text/html": [
       "<div>\n",
       "<style scoped>\n",
       "    .dataframe tbody tr th:only-of-type {\n",
       "        vertical-align: middle;\n",
       "    }\n",
       "\n",
       "    .dataframe tbody tr th {\n",
       "        vertical-align: top;\n",
       "    }\n",
       "\n",
       "    .dataframe thead th {\n",
       "        text-align: right;\n",
       "    }\n",
       "</style>\n",
       "<table border=\"1\" class=\"dataframe\">\n",
       "  <thead>\n",
       "    <tr style=\"text-align: right;\">\n",
       "      <th></th>\n",
       "      <th>state/region</th>\n",
       "      <th>ages</th>\n",
       "      <th>year</th>\n",
       "      <th>population</th>\n",
       "    </tr>\n",
       "  </thead>\n",
       "  <tbody>\n",
       "    <tr>\n",
       "      <th>1583</th>\n",
       "      <td>NY</td>\n",
       "      <td>total</td>\n",
       "      <td>1990</td>\n",
       "      <td>18020784.0</td>\n",
       "    </tr>\n",
       "    <tr>\n",
       "      <th>1580</th>\n",
       "      <td>NY</td>\n",
       "      <td>total</td>\n",
       "      <td>1991</td>\n",
       "      <td>18122510.0</td>\n",
       "    </tr>\n",
       "    <tr>\n",
       "      <th>1576</th>\n",
       "      <td>NY</td>\n",
       "      <td>total</td>\n",
       "      <td>1992</td>\n",
       "      <td>18246653.0</td>\n",
       "    </tr>\n",
       "    <tr>\n",
       "      <th>1577</th>\n",
       "      <td>NY</td>\n",
       "      <td>total</td>\n",
       "      <td>1993</td>\n",
       "      <td>18374954.0</td>\n",
       "    </tr>\n",
       "    <tr>\n",
       "      <th>1574</th>\n",
       "      <td>NY</td>\n",
       "      <td>total</td>\n",
       "      <td>1994</td>\n",
       "      <td>18459470.0</td>\n",
       "    </tr>\n",
       "    <tr>\n",
       "      <th>1572</th>\n",
       "      <td>NY</td>\n",
       "      <td>total</td>\n",
       "      <td>1995</td>\n",
       "      <td>18524104.0</td>\n",
       "    </tr>\n",
       "    <tr>\n",
       "      <th>1570</th>\n",
       "      <td>NY</td>\n",
       "      <td>total</td>\n",
       "      <td>1996</td>\n",
       "      <td>18588460.0</td>\n",
       "    </tr>\n",
       "    <tr>\n",
       "      <th>1567</th>\n",
       "      <td>NY</td>\n",
       "      <td>total</td>\n",
       "      <td>1997</td>\n",
       "      <td>18656546.0</td>\n",
       "    </tr>\n",
       "    <tr>\n",
       "      <th>1568</th>\n",
       "      <td>NY</td>\n",
       "      <td>total</td>\n",
       "      <td>1998</td>\n",
       "      <td>18755906.0</td>\n",
       "    </tr>\n",
       "    <tr>\n",
       "      <th>1563</th>\n",
       "      <td>NY</td>\n",
       "      <td>total</td>\n",
       "      <td>1999</td>\n",
       "      <td>18882725.0</td>\n",
       "    </tr>\n",
       "    <tr>\n",
       "      <th>1564</th>\n",
       "      <td>NY</td>\n",
       "      <td>total</td>\n",
       "      <td>2000</td>\n",
       "      <td>19001780.0</td>\n",
       "    </tr>\n",
       "    <tr>\n",
       "      <th>1560</th>\n",
       "      <td>NY</td>\n",
       "      <td>total</td>\n",
       "      <td>2001</td>\n",
       "      <td>19082838.0</td>\n",
       "    </tr>\n",
       "    <tr>\n",
       "      <th>1558</th>\n",
       "      <td>NY</td>\n",
       "      <td>total</td>\n",
       "      <td>2002</td>\n",
       "      <td>19137800.0</td>\n",
       "    </tr>\n",
       "    <tr>\n",
       "      <th>1554</th>\n",
       "      <td>NY</td>\n",
       "      <td>total</td>\n",
       "      <td>2003</td>\n",
       "      <td>19175939.0</td>\n",
       "    </tr>\n",
       "    <tr>\n",
       "      <th>1556</th>\n",
       "      <td>NY</td>\n",
       "      <td>total</td>\n",
       "      <td>2004</td>\n",
       "      <td>19171567.0</td>\n",
       "    </tr>\n",
       "    <tr>\n",
       "      <th>1552</th>\n",
       "      <td>NY</td>\n",
       "      <td>total</td>\n",
       "      <td>2005</td>\n",
       "      <td>19132610.0</td>\n",
       "    </tr>\n",
       "    <tr>\n",
       "      <th>1550</th>\n",
       "      <td>NY</td>\n",
       "      <td>total</td>\n",
       "      <td>2006</td>\n",
       "      <td>19104631.0</td>\n",
       "    </tr>\n",
       "    <tr>\n",
       "      <th>1546</th>\n",
       "      <td>NY</td>\n",
       "      <td>total</td>\n",
       "      <td>2007</td>\n",
       "      <td>19132335.0</td>\n",
       "    </tr>\n",
       "    <tr>\n",
       "      <th>1548</th>\n",
       "      <td>NY</td>\n",
       "      <td>total</td>\n",
       "      <td>2008</td>\n",
       "      <td>19212436.0</td>\n",
       "    </tr>\n",
       "    <tr>\n",
       "      <th>1542</th>\n",
       "      <td>NY</td>\n",
       "      <td>total</td>\n",
       "      <td>2009</td>\n",
       "      <td>19307066.0</td>\n",
       "    </tr>\n",
       "    <tr>\n",
       "      <th>1541</th>\n",
       "      <td>NY</td>\n",
       "      <td>total</td>\n",
       "      <td>2010</td>\n",
       "      <td>19398228.0</td>\n",
       "    </tr>\n",
       "    <tr>\n",
       "      <th>1538</th>\n",
       "      <td>NY</td>\n",
       "      <td>total</td>\n",
       "      <td>2011</td>\n",
       "      <td>19502728.0</td>\n",
       "    </tr>\n",
       "    <tr>\n",
       "      <th>1536</th>\n",
       "      <td>NY</td>\n",
       "      <td>total</td>\n",
       "      <td>2012</td>\n",
       "      <td>19576125.0</td>\n",
       "    </tr>\n",
       "    <tr>\n",
       "      <th>1544</th>\n",
       "      <td>NY</td>\n",
       "      <td>total</td>\n",
       "      <td>2013</td>\n",
       "      <td>19651127.0</td>\n",
       "    </tr>\n",
       "  </tbody>\n",
       "</table>\n",
       "</div>"
      ],
      "text/plain": [
       "     state/region   ages  year  population\n",
       "1583           NY  total  1990  18020784.0\n",
       "1580           NY  total  1991  18122510.0\n",
       "1576           NY  total  1992  18246653.0\n",
       "1577           NY  total  1993  18374954.0\n",
       "1574           NY  total  1994  18459470.0\n",
       "1572           NY  total  1995  18524104.0\n",
       "1570           NY  total  1996  18588460.0\n",
       "1567           NY  total  1997  18656546.0\n",
       "1568           NY  total  1998  18755906.0\n",
       "1563           NY  total  1999  18882725.0\n",
       "1564           NY  total  2000  19001780.0\n",
       "1560           NY  total  2001  19082838.0\n",
       "1558           NY  total  2002  19137800.0\n",
       "1554           NY  total  2003  19175939.0\n",
       "1556           NY  total  2004  19171567.0\n",
       "1552           NY  total  2005  19132610.0\n",
       "1550           NY  total  2006  19104631.0\n",
       "1546           NY  total  2007  19132335.0\n",
       "1548           NY  total  2008  19212436.0\n",
       "1542           NY  total  2009  19307066.0\n",
       "1541           NY  total  2010  19398228.0\n",
       "1538           NY  total  2011  19502728.0\n",
       "1536           NY  total  2012  19576125.0\n",
       "1544           NY  total  2013  19651127.0"
      ]
     },
     "execution_count": 94,
     "metadata": {},
     "output_type": "execute_result"
    }
   ],
   "source": []
  },
  {
   "cell_type": "code",
   "execution_count": null,
   "metadata": {},
   "outputs": [],
   "source": []
  },
  {
   "cell_type": "code",
   "execution_count": null,
   "metadata": {},
   "outputs": [],
   "source": []
  },
  {
   "cell_type": "markdown",
   "metadata": {},
   "source": [
    "# 2. 数学"
   ]
  },
  {
   "cell_type": "markdown",
   "metadata": {},
   "source": [
    "a. 请在一个x-y坐标系内画出 $y = 2x^2+1$ 的图像，并说明在x=1的时候，此函数的导数的值以及它的几何意义。请在同一个坐标系里画出在x=1时该方程的切线。"
   ]
  },
  {
   "cell_type": "code",
   "execution_count": null,
   "metadata": {},
   "outputs": [],
   "source": []
  },
  {
   "cell_type": "markdown",
   "metadata": {},
   "source": [
    "b. 请用 04.04 中的方法，画出函数 $z = x^2 + y^2$ 在 $|x|\\leq 3, |y| \\leq 3$内的contour plot (用颜色体现z的大小)。根据你的理解，分别解释此函数 $x=0, y=0$ 以及 $x = 1, y = 0$ 两个点的时候 gradient(梯度) 的大小以及方向。"
   ]
  },
  {
   "cell_type": "code",
   "execution_count": null,
   "metadata": {},
   "outputs": [],
   "source": []
  },
  {
   "cell_type": "markdown",
   "metadata": {},
   "source": [
    "c. 用自选方法计算下面矩阵乘法的结果（推荐手算）：\n",
    "\n",
    "i. $$\n",
    "\\begin{pmatrix}\n",
    "0 & 4 & 3\n",
    "\\end{pmatrix}\n",
    "\\begin{pmatrix}\n",
    "9 \\\\\n",
    "0 \\\\\n",
    "3\n",
    "\\end{pmatrix}\n",
    "$$\n",
    "\n",
    "ii.\n",
    "$$\n",
    "\\begin{pmatrix}\n",
    "9 \\\\\n",
    "0 \\\\\n",
    "3\n",
    "\\end{pmatrix}\n",
    "\\begin{pmatrix}\n",
    "0 & 4 & 3\n",
    "\\end{pmatrix}\n",
    "$$\n",
    "\n",
    "iii. \n",
    "$$\n",
    "\\begin{pmatrix}\n",
    "9 & 3 \\\\\n",
    "0 & 2 \\\\\n",
    "3 & 4 \\\\\n",
    "\\end{pmatrix}\n",
    "\\begin{pmatrix}\n",
    "0 & 4 & 3 \\\\\n",
    "0 & 4 & 3\n",
    "\\end{pmatrix}\n",
    "$$"
   ]
  },
  {
   "cell_type": "code",
   "execution_count": null,
   "metadata": {},
   "outputs": [],
   "source": []
  },
  {
   "cell_type": "code",
   "execution_count": null,
   "metadata": {},
   "outputs": [],
   "source": []
  },
  {
   "cell_type": "code",
   "execution_count": 104,
   "metadata": {},
   "outputs": [
    {
     "ename": "NameError",
     "evalue": "name 'sns' is not defined",
     "output_type": "error",
     "traceback": [
      "\u001b[0;31m---------------------------------------------------------------------------\u001b[0m",
      "\u001b[0;31mNameError\u001b[0m                                 Traceback (most recent call last)",
      "\u001b[0;32m<ipython-input-104-44da2006dbb0>\u001b[0m in \u001b[0;36m<module>\u001b[0;34m\u001b[0m\n\u001b[0;32m----> 1\u001b[0;31m \u001b[0msns\u001b[0m\u001b[0;34m\u001b[0m\u001b[0;34m\u001b[0m\u001b[0m\n\u001b[0m",
      "\u001b[0;31mNameError\u001b[0m: name 'sns' is not defined"
     ]
    }
   ],
   "source": []
  },
  {
   "cell_type": "markdown",
   "metadata": {},
   "source": [
    "d. 使用 seaborn 中的 regplot 功能对你在1d中计算的数据进行线性回归。描述你发现的关系并给出可能的原因。"
   ]
  },
  {
   "cell_type": "markdown",
   "metadata": {},
   "source": [
    "# 反馈\n",
    "如果你对这个quiz的难度，预习的进度，以及课程目前以来的任何方面有任何建议或者问题都欢迎写在下面！"
   ]
  },
  {
   "cell_type": "code",
   "execution_count": null,
   "metadata": {},
   "outputs": [],
   "source": []
  }
 ],
 "metadata": {
  "kernelspec": {
   "display_name": "Python 3",
   "language": "python",
   "name": "python3"
  },
  "language_info": {
   "codemirror_mode": {
    "name": "ipython",
    "version": 3
   },
   "file_extension": ".py",
   "mimetype": "text/x-python",
   "name": "python",
   "nbconvert_exporter": "python",
   "pygments_lexer": "ipython3",
   "version": "3.7.3"
  }
 },
 "nbformat": 4,
 "nbformat_minor": 4
}
