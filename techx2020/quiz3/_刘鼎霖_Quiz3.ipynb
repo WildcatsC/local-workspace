{
 "cells": [
  {
   "cell_type": "markdown",
   "metadata": {},
   "source": [
    "# TechX 2020 计算社科预习 Quiz 3 V1.0"
   ]
  },
  {
   "cell_type": "markdown",
   "metadata": {},
   "source": [
    "这个测试的目的不是为了难倒大家，而是为了检验预习成果，方便我们调整接下来的预习和课程安排。同时，我们也希望你们能通过这几个练习学到的知识，并学到的coding技巧。因此，我们有如下要求：\n",
    "1. 虽然我们不允许大家向别人请教 quiz 中的问题，但是你们可以在互联网上搜索已有的资源：这也是在TechX的学习过程中大家会一直做的。（PS 请别直接抄代码！请理解之后自己实现）\n",
    "2. 有些题目里会给出一些变量/数据，但是我们批改的时候可能会改动它们以检测你程序的可拓展性。\n",
    "3. 请在北京时间 8.2 24:00之前在教学立方提交，如有事无法按时请私信自己的对应AL（在预习文档里 https://shimo.im/docs/eIy4MXRYkLoZvE2Z ）。\n",
    "4. 如果感觉题目有问题或表述不清请直接在群里提出。我们有可能根据大家的提问发布V2.0 的 Quiz。"
   ]
  },
  {
   "cell_type": "markdown",
   "metadata": {},
   "source": [
    "## 0. Setup"
   ]
  },
  {
   "cell_type": "markdown",
   "metadata": {},
   "source": [
    "请在下面导入numpy(用np代替)，pandas（用pd代替）, 以及 matplotlib的相关包"
   ]
  },
  {
   "cell_type": "code",
   "execution_count": 28,
   "metadata": {},
   "outputs": [],
   "source": [
    "import numpy as np\n",
    "import pandas as pd\n",
    "import matplotlib.pyplot as plt"
   ]
  },
  {
   "cell_type": "markdown",
   "metadata": {},
   "source": [
    "# 1. Plotting\n",
    "下面所有的图都需要有以下元素：\n",
    "1. 标题\n",
    "2. 坐标轴的annotation\n",
    "3. 相关 legends"
   ]
  },
  {
   "cell_type": "markdown",
   "metadata": {},
   "source": [
    "a. 用pandas导入 Data Science Handbook notebooks/data/中的 state-population.csv 文件，把它命名为df"
   ]
  },
  {
   "cell_type": "code",
   "execution_count": 30,
   "metadata": {},
   "outputs": [
    {
     "data": {
      "text/html": [
       "<div>\n",
       "<style scoped>\n",
       "    .dataframe tbody tr th:only-of-type {\n",
       "        vertical-align: middle;\n",
       "    }\n",
       "\n",
       "    .dataframe tbody tr th {\n",
       "        vertical-align: top;\n",
       "    }\n",
       "\n",
       "    .dataframe thead th {\n",
       "        text-align: right;\n",
       "    }\n",
       "</style>\n",
       "<table border=\"1\" class=\"dataframe\">\n",
       "  <thead>\n",
       "    <tr style=\"text-align: right;\">\n",
       "      <th></th>\n",
       "      <th>state/region</th>\n",
       "      <th>ages</th>\n",
       "      <th>year</th>\n",
       "      <th>population</th>\n",
       "    </tr>\n",
       "  </thead>\n",
       "  <tbody>\n",
       "    <tr>\n",
       "      <th>0</th>\n",
       "      <td>AL</td>\n",
       "      <td>under18</td>\n",
       "      <td>2012</td>\n",
       "      <td>1117489.0</td>\n",
       "    </tr>\n",
       "    <tr>\n",
       "      <th>1</th>\n",
       "      <td>AL</td>\n",
       "      <td>total</td>\n",
       "      <td>2012</td>\n",
       "      <td>4817528.0</td>\n",
       "    </tr>\n",
       "    <tr>\n",
       "      <th>2</th>\n",
       "      <td>AL</td>\n",
       "      <td>under18</td>\n",
       "      <td>2010</td>\n",
       "      <td>1130966.0</td>\n",
       "    </tr>\n",
       "    <tr>\n",
       "      <th>3</th>\n",
       "      <td>AL</td>\n",
       "      <td>total</td>\n",
       "      <td>2010</td>\n",
       "      <td>4785570.0</td>\n",
       "    </tr>\n",
       "    <tr>\n",
       "      <th>4</th>\n",
       "      <td>AL</td>\n",
       "      <td>under18</td>\n",
       "      <td>2011</td>\n",
       "      <td>1125763.0</td>\n",
       "    </tr>\n",
       "    <tr>\n",
       "      <th>5</th>\n",
       "      <td>AL</td>\n",
       "      <td>total</td>\n",
       "      <td>2011</td>\n",
       "      <td>4801627.0</td>\n",
       "    </tr>\n",
       "    <tr>\n",
       "      <th>6</th>\n",
       "      <td>AL</td>\n",
       "      <td>total</td>\n",
       "      <td>2009</td>\n",
       "      <td>4757938.0</td>\n",
       "    </tr>\n",
       "    <tr>\n",
       "      <th>7</th>\n",
       "      <td>AL</td>\n",
       "      <td>under18</td>\n",
       "      <td>2009</td>\n",
       "      <td>1134192.0</td>\n",
       "    </tr>\n",
       "    <tr>\n",
       "      <th>8</th>\n",
       "      <td>AL</td>\n",
       "      <td>under18</td>\n",
       "      <td>2013</td>\n",
       "      <td>1111481.0</td>\n",
       "    </tr>\n",
       "    <tr>\n",
       "      <th>9</th>\n",
       "      <td>AL</td>\n",
       "      <td>total</td>\n",
       "      <td>2013</td>\n",
       "      <td>4833722.0</td>\n",
       "    </tr>\n",
       "    <tr>\n",
       "      <th>10</th>\n",
       "      <td>AL</td>\n",
       "      <td>total</td>\n",
       "      <td>2007</td>\n",
       "      <td>4672840.0</td>\n",
       "    </tr>\n",
       "    <tr>\n",
       "      <th>11</th>\n",
       "      <td>AL</td>\n",
       "      <td>under18</td>\n",
       "      <td>2007</td>\n",
       "      <td>1132296.0</td>\n",
       "    </tr>\n",
       "    <tr>\n",
       "      <th>12</th>\n",
       "      <td>AL</td>\n",
       "      <td>total</td>\n",
       "      <td>2008</td>\n",
       "      <td>4718206.0</td>\n",
       "    </tr>\n",
       "    <tr>\n",
       "      <th>13</th>\n",
       "      <td>AL</td>\n",
       "      <td>under18</td>\n",
       "      <td>2008</td>\n",
       "      <td>1134927.0</td>\n",
       "    </tr>\n",
       "    <tr>\n",
       "      <th>14</th>\n",
       "      <td>AL</td>\n",
       "      <td>total</td>\n",
       "      <td>2005</td>\n",
       "      <td>4569805.0</td>\n",
       "    </tr>\n",
       "    <tr>\n",
       "      <th>15</th>\n",
       "      <td>AL</td>\n",
       "      <td>under18</td>\n",
       "      <td>2005</td>\n",
       "      <td>1117229.0</td>\n",
       "    </tr>\n",
       "    <tr>\n",
       "      <th>16</th>\n",
       "      <td>AL</td>\n",
       "      <td>total</td>\n",
       "      <td>2006</td>\n",
       "      <td>4628981.0</td>\n",
       "    </tr>\n",
       "    <tr>\n",
       "      <th>17</th>\n",
       "      <td>AL</td>\n",
       "      <td>under18</td>\n",
       "      <td>2006</td>\n",
       "      <td>1126798.0</td>\n",
       "    </tr>\n",
       "    <tr>\n",
       "      <th>18</th>\n",
       "      <td>AL</td>\n",
       "      <td>total</td>\n",
       "      <td>2004</td>\n",
       "      <td>4530729.0</td>\n",
       "    </tr>\n",
       "    <tr>\n",
       "      <th>19</th>\n",
       "      <td>AL</td>\n",
       "      <td>under18</td>\n",
       "      <td>2004</td>\n",
       "      <td>1113662.0</td>\n",
       "    </tr>\n",
       "    <tr>\n",
       "      <th>20</th>\n",
       "      <td>AL</td>\n",
       "      <td>total</td>\n",
       "      <td>2003</td>\n",
       "      <td>4503491.0</td>\n",
       "    </tr>\n",
       "    <tr>\n",
       "      <th>21</th>\n",
       "      <td>AL</td>\n",
       "      <td>under18</td>\n",
       "      <td>2003</td>\n",
       "      <td>1113083.0</td>\n",
       "    </tr>\n",
       "    <tr>\n",
       "      <th>22</th>\n",
       "      <td>AL</td>\n",
       "      <td>total</td>\n",
       "      <td>2001</td>\n",
       "      <td>4467634.0</td>\n",
       "    </tr>\n",
       "    <tr>\n",
       "      <th>23</th>\n",
       "      <td>AL</td>\n",
       "      <td>under18</td>\n",
       "      <td>2001</td>\n",
       "      <td>1120409.0</td>\n",
       "    </tr>\n",
       "    <tr>\n",
       "      <th>24</th>\n",
       "      <td>AL</td>\n",
       "      <td>total</td>\n",
       "      <td>2002</td>\n",
       "      <td>4480089.0</td>\n",
       "    </tr>\n",
       "    <tr>\n",
       "      <th>25</th>\n",
       "      <td>AL</td>\n",
       "      <td>under18</td>\n",
       "      <td>2002</td>\n",
       "      <td>1116590.0</td>\n",
       "    </tr>\n",
       "    <tr>\n",
       "      <th>26</th>\n",
       "      <td>AL</td>\n",
       "      <td>under18</td>\n",
       "      <td>1999</td>\n",
       "      <td>1121287.0</td>\n",
       "    </tr>\n",
       "    <tr>\n",
       "      <th>27</th>\n",
       "      <td>AL</td>\n",
       "      <td>total</td>\n",
       "      <td>1999</td>\n",
       "      <td>4430141.0</td>\n",
       "    </tr>\n",
       "    <tr>\n",
       "      <th>28</th>\n",
       "      <td>AL</td>\n",
       "      <td>total</td>\n",
       "      <td>2000</td>\n",
       "      <td>4452173.0</td>\n",
       "    </tr>\n",
       "    <tr>\n",
       "      <th>29</th>\n",
       "      <td>AL</td>\n",
       "      <td>under18</td>\n",
       "      <td>2000</td>\n",
       "      <td>1122273.0</td>\n",
       "    </tr>\n",
       "    <tr>\n",
       "      <th>...</th>\n",
       "      <td>...</td>\n",
       "      <td>...</td>\n",
       "      <td>...</td>\n",
       "      <td>...</td>\n",
       "    </tr>\n",
       "    <tr>\n",
       "      <th>2514</th>\n",
       "      <td>USA</td>\n",
       "      <td>under18</td>\n",
       "      <td>1999</td>\n",
       "      <td>71946051.0</td>\n",
       "    </tr>\n",
       "    <tr>\n",
       "      <th>2515</th>\n",
       "      <td>USA</td>\n",
       "      <td>total</td>\n",
       "      <td>2000</td>\n",
       "      <td>282162411.0</td>\n",
       "    </tr>\n",
       "    <tr>\n",
       "      <th>2516</th>\n",
       "      <td>USA</td>\n",
       "      <td>under18</td>\n",
       "      <td>2000</td>\n",
       "      <td>72376189.0</td>\n",
       "    </tr>\n",
       "    <tr>\n",
       "      <th>2517</th>\n",
       "      <td>USA</td>\n",
       "      <td>total</td>\n",
       "      <td>1999</td>\n",
       "      <td>279040181.0</td>\n",
       "    </tr>\n",
       "    <tr>\n",
       "      <th>2518</th>\n",
       "      <td>USA</td>\n",
       "      <td>total</td>\n",
       "      <td>2001</td>\n",
       "      <td>284968955.0</td>\n",
       "    </tr>\n",
       "    <tr>\n",
       "      <th>2519</th>\n",
       "      <td>USA</td>\n",
       "      <td>under18</td>\n",
       "      <td>2001</td>\n",
       "      <td>72671175.0</td>\n",
       "    </tr>\n",
       "    <tr>\n",
       "      <th>2520</th>\n",
       "      <td>USA</td>\n",
       "      <td>total</td>\n",
       "      <td>2002</td>\n",
       "      <td>287625193.0</td>\n",
       "    </tr>\n",
       "    <tr>\n",
       "      <th>2521</th>\n",
       "      <td>USA</td>\n",
       "      <td>under18</td>\n",
       "      <td>2002</td>\n",
       "      <td>72936457.0</td>\n",
       "    </tr>\n",
       "    <tr>\n",
       "      <th>2522</th>\n",
       "      <td>USA</td>\n",
       "      <td>total</td>\n",
       "      <td>2003</td>\n",
       "      <td>290107933.0</td>\n",
       "    </tr>\n",
       "    <tr>\n",
       "      <th>2523</th>\n",
       "      <td>USA</td>\n",
       "      <td>under18</td>\n",
       "      <td>2003</td>\n",
       "      <td>73100758.0</td>\n",
       "    </tr>\n",
       "    <tr>\n",
       "      <th>2524</th>\n",
       "      <td>USA</td>\n",
       "      <td>total</td>\n",
       "      <td>2004</td>\n",
       "      <td>292805298.0</td>\n",
       "    </tr>\n",
       "    <tr>\n",
       "      <th>2525</th>\n",
       "      <td>USA</td>\n",
       "      <td>under18</td>\n",
       "      <td>2004</td>\n",
       "      <td>73297735.0</td>\n",
       "    </tr>\n",
       "    <tr>\n",
       "      <th>2526</th>\n",
       "      <td>USA</td>\n",
       "      <td>total</td>\n",
       "      <td>2005</td>\n",
       "      <td>295516599.0</td>\n",
       "    </tr>\n",
       "    <tr>\n",
       "      <th>2527</th>\n",
       "      <td>USA</td>\n",
       "      <td>under18</td>\n",
       "      <td>2005</td>\n",
       "      <td>73523669.0</td>\n",
       "    </tr>\n",
       "    <tr>\n",
       "      <th>2528</th>\n",
       "      <td>USA</td>\n",
       "      <td>total</td>\n",
       "      <td>2006</td>\n",
       "      <td>298379912.0</td>\n",
       "    </tr>\n",
       "    <tr>\n",
       "      <th>2529</th>\n",
       "      <td>USA</td>\n",
       "      <td>under18</td>\n",
       "      <td>2006</td>\n",
       "      <td>73757714.0</td>\n",
       "    </tr>\n",
       "    <tr>\n",
       "      <th>2530</th>\n",
       "      <td>USA</td>\n",
       "      <td>total</td>\n",
       "      <td>2007</td>\n",
       "      <td>301231207.0</td>\n",
       "    </tr>\n",
       "    <tr>\n",
       "      <th>2531</th>\n",
       "      <td>USA</td>\n",
       "      <td>under18</td>\n",
       "      <td>2007</td>\n",
       "      <td>74019405.0</td>\n",
       "    </tr>\n",
       "    <tr>\n",
       "      <th>2532</th>\n",
       "      <td>USA</td>\n",
       "      <td>total</td>\n",
       "      <td>2008</td>\n",
       "      <td>304093966.0</td>\n",
       "    </tr>\n",
       "    <tr>\n",
       "      <th>2533</th>\n",
       "      <td>USA</td>\n",
       "      <td>under18</td>\n",
       "      <td>2008</td>\n",
       "      <td>74104602.0</td>\n",
       "    </tr>\n",
       "    <tr>\n",
       "      <th>2534</th>\n",
       "      <td>USA</td>\n",
       "      <td>under18</td>\n",
       "      <td>2013</td>\n",
       "      <td>73585872.0</td>\n",
       "    </tr>\n",
       "    <tr>\n",
       "      <th>2535</th>\n",
       "      <td>USA</td>\n",
       "      <td>total</td>\n",
       "      <td>2013</td>\n",
       "      <td>316128839.0</td>\n",
       "    </tr>\n",
       "    <tr>\n",
       "      <th>2536</th>\n",
       "      <td>USA</td>\n",
       "      <td>total</td>\n",
       "      <td>2009</td>\n",
       "      <td>306771529.0</td>\n",
       "    </tr>\n",
       "    <tr>\n",
       "      <th>2537</th>\n",
       "      <td>USA</td>\n",
       "      <td>under18</td>\n",
       "      <td>2009</td>\n",
       "      <td>74134167.0</td>\n",
       "    </tr>\n",
       "    <tr>\n",
       "      <th>2538</th>\n",
       "      <td>USA</td>\n",
       "      <td>under18</td>\n",
       "      <td>2010</td>\n",
       "      <td>74119556.0</td>\n",
       "    </tr>\n",
       "    <tr>\n",
       "      <th>2539</th>\n",
       "      <td>USA</td>\n",
       "      <td>total</td>\n",
       "      <td>2010</td>\n",
       "      <td>309326295.0</td>\n",
       "    </tr>\n",
       "    <tr>\n",
       "      <th>2540</th>\n",
       "      <td>USA</td>\n",
       "      <td>under18</td>\n",
       "      <td>2011</td>\n",
       "      <td>73902222.0</td>\n",
       "    </tr>\n",
       "    <tr>\n",
       "      <th>2541</th>\n",
       "      <td>USA</td>\n",
       "      <td>total</td>\n",
       "      <td>2011</td>\n",
       "      <td>311582564.0</td>\n",
       "    </tr>\n",
       "    <tr>\n",
       "      <th>2542</th>\n",
       "      <td>USA</td>\n",
       "      <td>under18</td>\n",
       "      <td>2012</td>\n",
       "      <td>73708179.0</td>\n",
       "    </tr>\n",
       "    <tr>\n",
       "      <th>2543</th>\n",
       "      <td>USA</td>\n",
       "      <td>total</td>\n",
       "      <td>2012</td>\n",
       "      <td>313873685.0</td>\n",
       "    </tr>\n",
       "  </tbody>\n",
       "</table>\n",
       "<p>2544 rows × 4 columns</p>\n",
       "</div>"
      ],
      "text/plain": [
       "     state/region     ages  year   population\n",
       "0              AL  under18  2012    1117489.0\n",
       "1              AL    total  2012    4817528.0\n",
       "2              AL  under18  2010    1130966.0\n",
       "3              AL    total  2010    4785570.0\n",
       "4              AL  under18  2011    1125763.0\n",
       "5              AL    total  2011    4801627.0\n",
       "6              AL    total  2009    4757938.0\n",
       "7              AL  under18  2009    1134192.0\n",
       "8              AL  under18  2013    1111481.0\n",
       "9              AL    total  2013    4833722.0\n",
       "10             AL    total  2007    4672840.0\n",
       "11             AL  under18  2007    1132296.0\n",
       "12             AL    total  2008    4718206.0\n",
       "13             AL  under18  2008    1134927.0\n",
       "14             AL    total  2005    4569805.0\n",
       "15             AL  under18  2005    1117229.0\n",
       "16             AL    total  2006    4628981.0\n",
       "17             AL  under18  2006    1126798.0\n",
       "18             AL    total  2004    4530729.0\n",
       "19             AL  under18  2004    1113662.0\n",
       "20             AL    total  2003    4503491.0\n",
       "21             AL  under18  2003    1113083.0\n",
       "22             AL    total  2001    4467634.0\n",
       "23             AL  under18  2001    1120409.0\n",
       "24             AL    total  2002    4480089.0\n",
       "25             AL  under18  2002    1116590.0\n",
       "26             AL  under18  1999    1121287.0\n",
       "27             AL    total  1999    4430141.0\n",
       "28             AL    total  2000    4452173.0\n",
       "29             AL  under18  2000    1122273.0\n",
       "...           ...      ...   ...          ...\n",
       "2514          USA  under18  1999   71946051.0\n",
       "2515          USA    total  2000  282162411.0\n",
       "2516          USA  under18  2000   72376189.0\n",
       "2517          USA    total  1999  279040181.0\n",
       "2518          USA    total  2001  284968955.0\n",
       "2519          USA  under18  2001   72671175.0\n",
       "2520          USA    total  2002  287625193.0\n",
       "2521          USA  under18  2002   72936457.0\n",
       "2522          USA    total  2003  290107933.0\n",
       "2523          USA  under18  2003   73100758.0\n",
       "2524          USA    total  2004  292805298.0\n",
       "2525          USA  under18  2004   73297735.0\n",
       "2526          USA    total  2005  295516599.0\n",
       "2527          USA  under18  2005   73523669.0\n",
       "2528          USA    total  2006  298379912.0\n",
       "2529          USA  under18  2006   73757714.0\n",
       "2530          USA    total  2007  301231207.0\n",
       "2531          USA  under18  2007   74019405.0\n",
       "2532          USA    total  2008  304093966.0\n",
       "2533          USA  under18  2008   74104602.0\n",
       "2534          USA  under18  2013   73585872.0\n",
       "2535          USA    total  2013  316128839.0\n",
       "2536          USA    total  2009  306771529.0\n",
       "2537          USA  under18  2009   74134167.0\n",
       "2538          USA  under18  2010   74119556.0\n",
       "2539          USA    total  2010  309326295.0\n",
       "2540          USA  under18  2011   73902222.0\n",
       "2541          USA    total  2011  311582564.0\n",
       "2542          USA  under18  2012   73708179.0\n",
       "2543          USA    total  2012  313873685.0\n",
       "\n",
       "[2544 rows x 4 columns]"
      ]
     },
     "execution_count": 30,
     "metadata": {},
     "output_type": "execute_result"
    }
   ],
   "source": [
    "df =pd.read_csv(r\"E:\\plot\\state-population.csv\")\n",
    "df"
   ]
  },
  {
   "cell_type": "markdown",
   "metadata": {},
   "source": [
    "b. 在df的时间范围里，请选择合适的数据图展示 California 与 Texas 的总人口变化，并用你喜欢的颜色区分他们两个。\n",
    "\n",
    "(Socre: 1/2)"
   ]
  },
  {
   "cell_type": "code",
   "execution_count": 33,
   "metadata": {},
   "outputs": [],
   "source": [
    "ca = df[(df[\"ages\"]==\"total\")&(df[\"state/region\"]==\"CA\")][[\"year\",\"population\"]].set_index(\"year\")\n",
    "tx =df[(df[\"ages\"]==\"total\")&(df[\"state/region\"]==\"TX\")][[\"year\",\"population\"]].set_index(\"year\")"
   ]
  },
  {
   "cell_type": "code",
   "execution_count": 41,
   "metadata": {},
   "outputs": [
    {
     "data": {
      "text/plain": [
       "<matplotlib.legend.Legend at 0x121b27550>"
      ]
     },
     "execution_count": 41,
     "metadata": {},
     "output_type": "execute_result"
    },
    {
     "data": {
      "image/png": "[encoded data removed]",
      "text/plain": [
       "<Figure size 432x288 with 1 Axes>"
      ]
     },
     "metadata": {
      "needs_background": "light"
     },
     "output_type": "display_data"
    }
   ],
   "source": [
    "plt.plot(ca,label=\"CA\")\n",
    "plt.plot(tx,label=\"TX\")\n",
    "plt.legend()\n",
    "\n",
    "# Notice: data is not sorted by 'year'. So, these two curves are \"spiked.\""
   ]
  },
  {
   "cell_type": "markdown",
   "metadata": {},
   "source": [
    "c. 选用合适的bin number来展示 2010 年美国各州的18岁以下人口的频率直方图(histogram)。\n",
    "\n",
    "(Score: 2/2)"
   ]
  },
  {
   "cell_type": "code",
   "execution_count": 44,
   "metadata": {},
   "outputs": [],
   "source": [
    "bin_data= df[(df[\"ages\"]==\"under18\")&(df[\"year\"]==2010)][:-1]"
   ]
  },
  {
   "cell_type": "code",
   "execution_count": 45,
   "metadata": {},
   "outputs": [
    {
     "data": {
      "text/plain": [
       "(array([5., 6., 2., 2., 1., 1., 4., 4.]),\n",
       " array([100000, 200000, 300000, 400000, 500000, 600000, 700000, 800000,\n",
       "        900000]),\n",
       " <a list of 8 Patch objects>)"
      ]
     },
     "execution_count": 45,
     "metadata": {},
     "output_type": "execute_result"
    },
    {
     "data": {
      "image/png": "[encoded data removed]",
      "text/plain": [
       "<Figure size 432x288 with 1 Axes>"
      ]
     },
     "metadata": {
      "needs_background": "light"
     },
     "output_type": "display_data"
    }
   ],
   "source": [
    "bins=np.arange(100000,1000000,100000)\n",
    "plt.hist(bin_data[\"population\"],bins)"
   ]
  },
  {
   "cell_type": "markdown",
   "metadata": {},
   "source": [
    "d. 用scatter plot展示2005-2010美国各州平均总人口与平均增长率的关系（请注意平均增长率的计算方式）。\n",
    "描述有哪些州比较特殊，根据你的知识分析这些州特殊的原因。\n",
    "(Score: 1/2)"
   ]
  },
  {
   "cell_type": "code",
   "execution_count": 50,
   "metadata": {},
   "outputs": [],
   "source": [
    "# 若“平均增长率”理解为增长率的mean, then答案正确。\n",
    "# 本题所指的增长率的计算方法：\n",
    "# (1+rate)*(popultion of this year) = (population of the next year)\n",
    "# => average rate of 5 years := rate_5; (1+rate_5)^5*(population of 2005) = (population of 2010)\n",
    "# => rate_5 can be computed.\n",
    "\n",
    "sc_data =df[(df[\"ages\"]==\"total\")&(df[\"year\"]>=2005)&(df[\"year\"]<=2010)][:-1]\n",
    "l=list(set(df[\"state/region\"]))\n",
    "l.remove(\"USA\")\n",
    "rate =[]  # 增长率\n",
    "for c in l:\n",
    "    temp= sc_data[sc_data[\"state/region\"]==c][\"population\"]\n",
    "    sd =round((temp.diff()/temp)[1:].sum()/5,3)  # 计算平均增长率\n",
    "    rate.append(sd)\n",
    "population = sc_data[\"population\"].groupby(sc_data[\"state/region\"]).mean()\n",
    "population =population.drop(\"USA\")  # "
   ]
  },
  {
   "cell_type": "code",
   "execution_count": 51,
   "metadata": {},
   "outputs": [
    {
     "data": {
      "image/png": "[encoded data removed]",
      "text/plain": [
       "<Figure size 432x288 with 1 Axes>"
      ]
     },
     "metadata": {
      "needs_background": "light"
     },
     "output_type": "display_data"
    }
   ],
   "source": [
    "txt =l\n",
    "plt.scatter(population, rate)\n",
    "for i in range(len(population)):\n",
    "    plt.annotate(txt[i], xy = (population[i], rate[i]), xytext = (population[i]+0.001, rate[i]+0.001))\n",
    "plt.show()\n",
    "\n"
   ]
  },
  {
   "cell_type": "raw",
   "metadata": {},
   "source": [
    "# 可以看出NC的人群基数和增长率都比较大，TX人群基数处于中等水平，但是平均增长率却超越了其他城市，UT人群基数较小，平均增长率呈现负增长最大。\n"
   ]
  },
  {
   "cell_type": "code",
   "execution_count": 52,
   "metadata": {},
   "outputs": [
    {
     "data": {
      "text/html": [
       "<div>\n",
       "<style scoped>\n",
       "    .dataframe tbody tr th:only-of-type {\n",
       "        vertical-align: middle;\n",
       "    }\n",
       "\n",
       "    .dataframe tbody tr th {\n",
       "        vertical-align: top;\n",
       "    }\n",
       "\n",
       "    .dataframe thead th {\n",
       "        text-align: right;\n",
       "    }\n",
       "</style>\n",
       "<table border=\"1\" class=\"dataframe\">\n",
       "  <thead>\n",
       "    <tr style=\"text-align: right;\">\n",
       "      <th></th>\n",
       "      <th>state/region</th>\n",
       "      <th>ages</th>\n",
       "      <th>year</th>\n",
       "      <th>population</th>\n",
       "    </tr>\n",
       "  </thead>\n",
       "  <tbody>\n",
       "    <tr>\n",
       "      <th>2116</th>\n",
       "      <td>UT</td>\n",
       "      <td>under18</td>\n",
       "      <td>2010</td>\n",
       "      <td>873019.0</td>\n",
       "    </tr>\n",
       "    <tr>\n",
       "      <th>2119</th>\n",
       "      <td>UT</td>\n",
       "      <td>under18</td>\n",
       "      <td>2009</td>\n",
       "      <td>857853.0</td>\n",
       "    </tr>\n",
       "    <tr>\n",
       "      <th>2123</th>\n",
       "      <td>UT</td>\n",
       "      <td>under18</td>\n",
       "      <td>2007</td>\n",
       "      <td>815496.0</td>\n",
       "    </tr>\n",
       "    <tr>\n",
       "      <th>2125</th>\n",
       "      <td>UT</td>\n",
       "      <td>under18</td>\n",
       "      <td>2008</td>\n",
       "      <td>837258.0</td>\n",
       "    </tr>\n",
       "    <tr>\n",
       "      <th>2127</th>\n",
       "      <td>UT</td>\n",
       "      <td>under18</td>\n",
       "      <td>2006</td>\n",
       "      <td>789957.0</td>\n",
       "    </tr>\n",
       "  </tbody>\n",
       "</table>\n",
       "</div>"
      ],
      "text/plain": [
       "     state/region     ages  year  population\n",
       "2116           UT  under18  2010    873019.0\n",
       "2119           UT  under18  2009    857853.0\n",
       "2123           UT  under18  2007    815496.0\n",
       "2125           UT  under18  2008    837258.0\n",
       "2127           UT  under18  2006    789957.0"
      ]
     },
     "execution_count": 52,
     "metadata": {},
     "output_type": "execute_result"
    }
   ],
   "source": [
    "df[(df[\"state/region\"]==\"UT\")&(df[\"ages\"]==\"under18\")&(df[\"year\"]>=2005)&(df[\"year\"]<=2010)][:-1]"
   ]
  },
  {
   "cell_type": "code",
   "execution_count": 53,
   "metadata": {},
   "outputs": [
    {
     "data": {
      "text/html": [
       "<div>\n",
       "<style scoped>\n",
       "    .dataframe tbody tr th:only-of-type {\n",
       "        vertical-align: middle;\n",
       "    }\n",
       "\n",
       "    .dataframe tbody tr th {\n",
       "        vertical-align: top;\n",
       "    }\n",
       "\n",
       "    .dataframe thead th {\n",
       "        text-align: right;\n",
       "    }\n",
       "</style>\n",
       "<table border=\"1\" class=\"dataframe\">\n",
       "  <thead>\n",
       "    <tr style=\"text-align: right;\">\n",
       "      <th></th>\n",
       "      <th>state/region</th>\n",
       "      <th>ages</th>\n",
       "      <th>year</th>\n",
       "      <th>population</th>\n",
       "    </tr>\n",
       "  </thead>\n",
       "  <tbody>\n",
       "    <tr>\n",
       "      <th>1615</th>\n",
       "      <td>NC</td>\n",
       "      <td>under18</td>\n",
       "      <td>2005</td>\n",
       "      <td>2122485.0</td>\n",
       "    </tr>\n",
       "    <tr>\n",
       "      <th>1617</th>\n",
       "      <td>NC</td>\n",
       "      <td>under18</td>\n",
       "      <td>2006</td>\n",
       "      <td>2166393.0</td>\n",
       "    </tr>\n",
       "    <tr>\n",
       "      <th>1619</th>\n",
       "      <td>NC</td>\n",
       "      <td>under18</td>\n",
       "      <td>2008</td>\n",
       "      <td>2252101.0</td>\n",
       "    </tr>\n",
       "    <tr>\n",
       "      <th>1621</th>\n",
       "      <td>NC</td>\n",
       "      <td>under18</td>\n",
       "      <td>2007</td>\n",
       "      <td>2219168.0</td>\n",
       "    </tr>\n",
       "    <tr>\n",
       "      <th>1625</th>\n",
       "      <td>NC</td>\n",
       "      <td>under18</td>\n",
       "      <td>2009</td>\n",
       "      <td>2272955.0</td>\n",
       "    </tr>\n",
       "  </tbody>\n",
       "</table>\n",
       "</div>"
      ],
      "text/plain": [
       "     state/region     ages  year  population\n",
       "1615           NC  under18  2005   2122485.0\n",
       "1617           NC  under18  2006   2166393.0\n",
       "1619           NC  under18  2008   2252101.0\n",
       "1621           NC  under18  2007   2219168.0\n",
       "1625           NC  under18  2009   2272955.0"
      ]
     },
     "execution_count": 53,
     "metadata": {},
     "output_type": "execute_result"
    }
   ],
   "source": [
    "df[(df[\"state/region\"]==\"NC\")&(df[\"ages\"]==\"under18\")&(df[\"year\"]>=2005)&(df[\"year\"]<=2010)][:-1]"
   ]
  },
  {
   "cell_type": "code",
   "execution_count": 54,
   "metadata": {},
   "outputs": [
    {
     "data": {
      "text/html": [
       "<div>\n",
       "<style scoped>\n",
       "    .dataframe tbody tr th:only-of-type {\n",
       "        vertical-align: middle;\n",
       "    }\n",
       "\n",
       "    .dataframe tbody tr th {\n",
       "        vertical-align: top;\n",
       "    }\n",
       "\n",
       "    .dataframe thead th {\n",
       "        text-align: right;\n",
       "    }\n",
       "</style>\n",
       "<table border=\"1\" class=\"dataframe\">\n",
       "  <thead>\n",
       "    <tr style=\"text-align: right;\">\n",
       "      <th></th>\n",
       "      <th>state/region</th>\n",
       "      <th>ages</th>\n",
       "      <th>year</th>\n",
       "      <th>population</th>\n",
       "    </tr>\n",
       "  </thead>\n",
       "  <tbody>\n",
       "    <tr>\n",
       "      <th>2095</th>\n",
       "      <td>TX</td>\n",
       "      <td>under18</td>\n",
       "      <td>2005</td>\n",
       "      <td>6290970.0</td>\n",
       "    </tr>\n",
       "    <tr>\n",
       "      <th>2097</th>\n",
       "      <td>TX</td>\n",
       "      <td>under18</td>\n",
       "      <td>2006</td>\n",
       "      <td>6446798.0</td>\n",
       "    </tr>\n",
       "    <tr>\n",
       "      <th>2099</th>\n",
       "      <td>TX</td>\n",
       "      <td>under18</td>\n",
       "      <td>2008</td>\n",
       "      <td>6675917.0</td>\n",
       "    </tr>\n",
       "    <tr>\n",
       "      <th>2101</th>\n",
       "      <td>TX</td>\n",
       "      <td>under18</td>\n",
       "      <td>2007</td>\n",
       "      <td>6565872.0</td>\n",
       "    </tr>\n",
       "    <tr>\n",
       "      <th>2105</th>\n",
       "      <td>TX</td>\n",
       "      <td>under18</td>\n",
       "      <td>2009</td>\n",
       "      <td>6792907.0</td>\n",
       "    </tr>\n",
       "  </tbody>\n",
       "</table>\n",
       "</div>"
      ],
      "text/plain": [
       "     state/region     ages  year  population\n",
       "2095           TX  under18  2005   6290970.0\n",
       "2097           TX  under18  2006   6446798.0\n",
       "2099           TX  under18  2008   6675917.0\n",
       "2101           TX  under18  2007   6565872.0\n",
       "2105           TX  under18  2009   6792907.0"
      ]
     },
     "execution_count": 54,
     "metadata": {},
     "output_type": "execute_result"
    }
   ],
   "source": [
    "df[(df[\"state/region\"]==\"TX\")&(df[\"ages\"]==\"under18\")&(df[\"year\"]>=2005)&(df[\"year\"]<=2010)][:-1]"
   ]
  },
  {
   "cell_type": "raw",
   "metadata": {},
   "source": [
    "从以上数据可以看出，影响增长率的主要因素为under18的占比，TX的under18的比例逐年提升，所以增长率较高，其他的under18占比下降，所以增速较小\n",
    "判断增速应该于人口老龄化有关。"
   ]
  },
  {
   "cell_type": "markdown",
   "metadata": {},
   "source": [
    "# 2. 数学"
   ]
  },
  {
   "cell_type": "markdown",
   "metadata": {},
   "source": [
    "a. 请在一个x-y坐标系内画出 $y = 2x^2+1$ 的图像，并说明在x=1的时候，此函数的导数的值以及它的几何意义。请在同一个坐标系里画出在x=1时该方程的切线。\n",
    "\n",
    "(Score: 2/2)"
   ]
  },
  {
   "cell_type": "code",
   "execution_count": 57,
   "metadata": {},
   "outputs": [
    {
     "data": {
      "image/png": "[encoded data removed]",
      "text/plain": [
       "<Figure size 432x288 with 1 Axes>"
      ]
     },
     "metadata": {
      "needs_background": "light"
     },
     "output_type": "display_data"
    }
   ],
   "source": [
    "x = np.linspace(0, 2, 50)\n",
    "y = 2*x**2+1\n",
    "plt.plot(x,y)\n",
    "plt.plot(x,4*x-1)\n",
    "plt.show()\n",
    "#导数为4 几何意义为此图像在该点的斜率"
   ]
  },
  {
   "cell_type": "markdown",
   "metadata": {},
   "source": [
    "b. 请用 04.04 中的方法，画出函数 $z = x^2 + y^2$ 在 $|x|\\leq 3, |y| \\leq 3$内的contour plot (用颜色体现z的大小)。根据你的理解，分别解释此函数 $x=0, y=0$ 以及 $x = 1, y = 0$ 两个点的时候 gradient(梯度) 的大小以及方向。\n",
    "\n",
    "(Socre: 2/2)"
   ]
  },
  {
   "cell_type": "code",
   "execution_count": 60,
   "metadata": {},
   "outputs": [
    {
     "ename": "SyntaxError",
     "evalue": "invalid syntax (<ipython-input-60-d3db3a715ae5>, line 2)",
     "output_type": "error",
     "traceback": [
      "\u001b[0;36m  File \u001b[0;32m\"<ipython-input-60-d3db3a715ae5>\"\u001b[0;36m, line \u001b[0;32m2\u001b[0m\n\u001b[0;31m    return x**2=y**2 # minor mistake\u001b[0m\n\u001b[0m               ^\u001b[0m\n\u001b[0;31mSyntaxError\u001b[0m\u001b[0;31m:\u001b[0m invalid syntax\n"
     ]
    }
   ],
   "source": [
    "def f(x, y):\n",
    "    return x**2=y**2 # minor mistake\n",
    "\n",
    "x = np.linspace(0, 3, 50)\n",
    "y = np.linspace(0, 3, 50)\n",
    "\n",
    "X, Y = np.meshgrid(x, y)\n",
    "Z = f(X, Y)\n",
    "plt.contour(X, Y, Z, 20, cmap='RdGy')"
   ]
  },
  {
   "cell_type": "markdown",
   "metadata": {},
   "source": [
    "c. 用自选方法计算下面矩阵乘法的结果（推荐手算）：\n",
    "\n",
    "(Score: 1/2)\n",
    "\n",
    "i. $$\n",
    "\\begin{pmatrix}\n",
    "0 & 4 & 3\n",
    "\\end{pmatrix}\n",
    "\\begin{pmatrix}\n",
    "9 \\\\\n",
    "0 \\\\\n",
    "3\n",
    "\\end{pmatrix}\n",
    "$$\n",
    "\n",
    "ii.\n",
    "$$\n",
    "\\begin{pmatrix}\n",
    "9 \\\\\n",
    "0 \\\\\n",
    "3\n",
    "\\end{pmatrix}\n",
    "\\begin{pmatrix}\n",
    "0 & 4 & 3\n",
    "\\end{pmatrix}\n",
    "$$\n",
    "\n",
    "iii. \n",
    "$$\n",
    "\\begin{pmatrix}\n",
    "9 & 3 \\\\\n",
    "0 & 2 \\\\\n",
    "3 & 4 \\\\\n",
    "\\end{pmatrix}\n",
    "\\begin{pmatrix}\n",
    "0 & 4 & 3 \\\\\n",
    "0 & 4 & 3\n",
    "\\end{pmatrix}\n",
    "$$"
   ]
  },
  {
   "cell_type": "code",
   "execution_count": 62,
   "metadata": {},
   "outputs": [
    {
     "data": {
      "text/plain": [
       "9"
      ]
     },
     "execution_count": 62,
     "metadata": {},
     "output_type": "execute_result"
    }
   ],
   "source": [
    "(9)"
   ]
  },
  {
   "cell_type": "code",
   "execution_count": null,
   "metadata": {},
   "outputs": [],
   "source": [
    "无意义  # Not exactly"
   ]
  },
  {
   "cell_type": "code",
   "execution_count": null,
   "metadata": {},
   "outputs": [],
   "source": [
    "[0 48 36]\n",
    "[0  8  6]\n",
    "[0 28 21]"
   ]
  },
  {
   "cell_type": "markdown",
   "metadata": {},
   "source": [
    "d. 使用 seaborn 中的 regplot 功能对你在1d中计算的数据进行线性回归。描述你发现的关系并给出可能的原因。"
   ]
  },
  {
   "cell_type": "code",
   "execution_count": 61,
   "metadata": {},
   "outputs": [],
   "source": [
    "# 搜索seaborn regplot"
   ]
  },
  {
   "cell_type": "code",
   "execution_count": null,
   "metadata": {},
   "outputs": [],
   "source": []
  },
  {
   "cell_type": "code",
   "execution_count": null,
   "metadata": {},
   "outputs": [],
   "source": []
  },
  {
   "cell_type": "markdown",
   "metadata": {},
   "source": [
    "# 反馈\n",
    "如果你对这个quiz的难度，预习的进度，以及课程目前以来的任何方面有任何建议或者问题都欢迎写在下面！"
   ]
  },
  {
   "cell_type": "code",
   "execution_count": null,
   "metadata": {},
   "outputs": [],
   "source": []
  }
 ],
 "metadata": {
  "kernelspec": {
   "display_name": "Python 3",
   "language": "python",
   "name": "python3"
  },
  "language_info": {
   "codemirror_mode": {
    "name": "ipython",
    "version": 3
   },
   "file_extension": ".py",
   "mimetype": "text/x-python",
   "name": "python",
   "nbconvert_exporter": "python",
   "pygments_lexer": "ipython3",
   "version": "3.7.3"
  }
 },
 "nbformat": 4,
 "nbformat_minor": 4
}
