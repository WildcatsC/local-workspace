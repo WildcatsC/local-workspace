{
 "cells": [
  {
   "cell_type": "code",
   "execution_count": 180,
   "metadata": {},
   "outputs": [],
   "source": [
    "import string\n",
    "from collections import Counter \n",
    "with open(\"./pg150-cp.txt\", 'r') as f:\n",
    "     l = f.readlines()\n",
    "s = \"\"\n",
    "file = s.join(l)"
   ]
  },
  {
   "cell_type": "code",
   "execution_count": 181,
   "metadata": {},
   "outputs": [],
   "source": [
    "for i in string.punctuation:\n",
    "    file = file.replace(i, \"\")\n",
    "\n",
    "file = file.replace(\"\\n\", \" \")\n"
   ]
  },
  {
   "cell_type": "code",
   "execution_count": 182,
   "metadata": {},
   "outputs": [],
   "source": [
    "file = file.split(\" \")"
   ]
  },
  {
   "cell_type": "code",
   "execution_count": 183,
   "metadata": {},
   "outputs": [],
   "source": [
    "file = list(filter(lambda file: file != '', file))\n",
    "file[0] = 'The'"
   ]
  },
  {
   "cell_type": "code",
   "execution_count": 184,
   "metadata": {},
   "outputs": [],
   "source": [
    "# freq = {}\n",
    "# for word in file:\n",
    "#     try:\n",
    "#         freq[word]+=1\n",
    "#     except KeyError:\n",
    "#         freq[word] = 1"
   ]
  },
  {
   "cell_type": "code",
   "execution_count": 190,
   "metadata": {},
   "outputs": [],
   "source": [
    "c = Counter()\n",
    "for word in file:\n",
    "    c[word]+=1\n",
    "\n",
    "most_common = c.most_common(100)"
   ]
  },
  {
   "cell_type": "code",
   "execution_count": 191,
   "metadata": {},
   "outputs": [
    {
     "data": {
      "text/plain": [
       "[('the', 7603),\n",
       " ('and', 5192),\n",
       " ('of', 5130),\n",
       " ('to', 3467),\n",
       " ('is', 2655),\n",
       " ('in', 2300),\n",
       " ('a', 2131),\n",
       " ('he', 2038),\n",
       " ('be', 1893),\n",
       " ('that', 1794),\n",
       " ('I', 1566),\n",
       " ('not', 1490),\n",
       " ('which', 1410),\n",
       " ('are', 1334),\n",
       " ('or', 1249),\n",
       " ('you', 1120),\n",
       " ('they', 1102),\n",
       " ('will', 1097),\n",
       " ('said', 1040),\n",
       " ('as', 955),\n",
       " ('we', 870),\n",
       " ('have', 868),\n",
       " ('And', 831),\n",
       " ('them', 813),\n",
       " ('his', 745),\n",
       " ('by', 681),\n",
       " ('who', 661),\n",
       " ('their', 634),\n",
       " ('with', 632),\n",
       " ('for', 631),\n",
       " ('but', 627),\n",
       " ('this', 592),\n",
       " ('one', 574),\n",
       " ('all', 540),\n",
       " ('at', 514),\n",
       " ('if', 514),\n",
       " ('what', 495),\n",
       " ('has', 485),\n",
       " ('other', 482),\n",
       " ('any', 467),\n",
       " ('when', 446),\n",
       " ('there', 443),\n",
       " ('him', 443),\n",
       " ('do', 440),\n",
       " ('Yes', 434),\n",
       " ('may', 422),\n",
       " ('good', 409),\n",
       " ('would', 394),\n",
       " ('from', 392),\n",
       " ('no', 367),\n",
       " ('only', 353),\n",
       " ('true', 352),\n",
       " ('State', 350),\n",
       " ('man', 350),\n",
       " ('our', 341),\n",
       " ('an', 336),\n",
       " ('was', 332),\n",
       " ('then', 332),\n",
       " ('say', 329),\n",
       " ('more', 323),\n",
       " ('must', 302),\n",
       " ('should', 298),\n",
       " ('on', 297),\n",
       " ('so', 286),\n",
       " ('us', 285),\n",
       " ('were', 278),\n",
       " ('can', 274),\n",
       " ('like', 261),\n",
       " ('than', 257),\n",
       " ('Then', 255),\n",
       " ('But', 254),\n",
       " ('replied', 252),\n",
       " ('such', 243),\n",
       " ('also', 238),\n",
       " ('same', 236),\n",
       " ('The', 228),\n",
       " ('been', 227),\n",
       " ('about', 227),\n",
       " ('own', 225),\n",
       " ('men', 223),\n",
       " ('justice', 223),\n",
       " ('another', 222),\n",
       " ('into', 221),\n",
       " ('just', 221),\n",
       " ('now', 211),\n",
       " ('soul', 211),\n",
       " ('these', 206),\n",
       " ('being', 196),\n",
       " ('nature', 192),\n",
       " ('life', 191),\n",
       " ('it', 188),\n",
       " ('Certainly', 183),\n",
       " ('me', 182),\n",
       " ('my', 179),\n",
       " ('had', 178),\n",
       " ('shall', 177),\n",
       " ('whether', 173),\n",
       " ('many', 171),\n",
       " ('some', 171),\n",
       " ('That', 171)]"
      ]
     },
     "execution_count": 191,
     "metadata": {},
     "output_type": "execute_result"
    }
   ],
   "source": [
    "most_common"
   ]
  },
  {
   "cell_type": "code",
   "execution_count": null,
   "metadata": {},
   "outputs": [],
   "source": []
  }
 ],
 "metadata": {
  "kernelspec": {
   "display_name": "Python 3.7.3 64-bit ('base': conda)",
   "language": "python",
   "name": "python37364bitbasecondaeaf0ae57323a4cf8be6de947dfd9674d"
  },
  "language_info": {
   "codemirror_mode": {
    "name": "ipython",
    "version": 3
   },
   "file_extension": ".py",
   "mimetype": "text/x-python",
   "name": "python",
   "nbconvert_exporter": "python",
   "pygments_lexer": "ipython3",
   "version": "3.7.3"
  }
 },
 "nbformat": 4,
 "nbformat_minor": 2
}
