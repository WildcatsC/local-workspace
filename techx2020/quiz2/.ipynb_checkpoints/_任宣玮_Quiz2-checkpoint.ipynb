{
 "cells": [
  {
   "cell_type": "markdown",
   "metadata": {},
   "source": [
    "## TechX 2020 计算社科预习 Quiz 2 V1.0 (Score: 28/30)"
   ]
  },
  {
   "cell_type": "markdown",
   "metadata": {},
   "source": [
    "这个测试的目的不是为了难倒大家，而是为了检验预习成果，方便我们调整接下来的预习和课程安排。同时，我们也希望你们能通过这几个练习学到的知识，并学到的coding技巧。因此，我们有如下要求：\n",
    "1. 虽然我们不允许大家向别人请教 quiz 中的问题，但是你们可以在互联网上搜索已有的资源：这也是在TechX的学习过程中大家会一直做的。（PS 请别直接抄代码！请理解之后自己实现）\n",
    "2. 有些题目里会给出一些变量/数据，但是我们批改的时候可能会改动它们以检测你程序的可拓展性。\n",
    "3. 请在北京时间7.26 24:00之前在教学立方提交，如有事无法按时请私信自己的对应AL（在预习文档里 https://shimo.im/docs/eIy4MXRYkLoZvE2Z ）。\n",
    "4. 如果感觉题目有问题或表述不清请直接在群里提出。我们有可能根据大家的提问发布V2.0 的 Quiz。\n",
    "\n",
    "PS 问题保留了答案，但大家可以通过多种方式得到它们。"
   ]
  },
  {
   "cell_type": "markdown",
   "metadata": {},
   "source": [
    "## 0. Setup  "
   ]
  },
  {
   "cell_type": "markdown",
   "metadata": {},
   "source": [
    "请在下面导入numpy(用np代替)，以及pandas（用pd代替）"
   ]
  },
  {
   "cell_type": "code",
   "execution_count": 178,
   "metadata": {},
   "outputs": [],
   "source": [
    "import numpy as np\n",
    "import pandas as pd"
   ]
  },
  {
   "cell_type": "markdown",
   "metadata": {},
   "source": [
    "## 1. Array Basics \n",
    "a. 创建一个shape为(10,10), 值为0~99的2D array，命名为x (应该和下图一样)\n",
    "(Score:2/2)"
   ]
  },
  {
   "cell_type": "code",
   "execution_count": 163,
   "metadata": {
    "jupyter": {
     "outputs_hidden": false
    }
   },
   "outputs": [
    {
     "data": {
      "text/plain": [
       "array([[ 0,  1,  2,  3,  4,  5,  6,  7,  8,  9],\n",
       "       [10, 11, 12, 13, 14, 15, 16, 17, 18, 19],\n",
       "       [20, 21, 22, 23, 24, 25, 26, 27, 28, 29],\n",
       "       [30, 31, 32, 33, 34, 35, 36, 37, 38, 39],\n",
       "       [40, 41, 42, 43, 44, 45, 46, 47, 48, 49],\n",
       "       [50, 51, 52, 53, 54, 55, 56, 57, 58, 59],\n",
       "       [60, 61, 62, 63, 64, 65, 66, 67, 68, 69],\n",
       "       [70, 71, 72, 73, 74, 75, 76, 77, 78, 79],\n",
       "       [80, 81, 82, 83, 84, 85, 86, 87, 88, 89],\n",
       "       [90, 91, 92, 93, 94, 95, 96, 97, 98, 99]])"
      ]
     },
     "execution_count": 163,
     "metadata": {},
     "output_type": "execute_result"
    }
   ],
   "source": [
    "x = np.arange(100).reshape(10, 10)\n",
    "x"
   ]
  },
  {
   "cell_type": "markdown",
   "metadata": {},
   "source": [
    "b. 用array slicing找出x中所有5的倍数，并输出为一维array (Score:2/2)"
   ]
  },
  {
   "cell_type": "code",
   "execution_count": 164,
   "metadata": {},
   "outputs": [
    {
     "data": {
      "text/plain": [
       "array([ 0,  5, 10, 15, 20, 25, 30, 35, 40, 45, 50, 55, 60, 65, 70, 75, 80,\n",
       "       85, 90, 95])"
      ]
     },
     "execution_count": 164,
     "metadata": {},
     "output_type": "execute_result"
    }
   ],
   "source": [
    "x[x%5==0]"
   ]
  },
  {
   "cell_type": "markdown",
   "metadata": {},
   "source": [
    "c. 找出array x 右上角 shape = (4, 4) 的方块和左下角shape = (2,8)的长方形，把 vertically 他们拼接成一个 shape = (4, 8)的矩阵。把这个矩阵赋值为 y。(Score:2/2)"
   ]
  },
  {
   "cell_type": "code",
   "execution_count": 165,
   "metadata": {},
   "outputs": [
    {
     "data": {
      "text/plain": [
       "array([[ 6,  7,  8,  9],\n",
       "       [16, 17, 18, 19],\n",
       "       [26, 27, 28, 29],\n",
       "       [36, 37, 38, 39],\n",
       "       [80, 81, 82, 83],\n",
       "       [84, 85, 86, 87],\n",
       "       [90, 91, 92, 93],\n",
       "       [94, 95, 96, 97]])"
      ]
     },
     "execution_count": 165,
     "metadata": {},
     "output_type": "execute_result"
    }
   ],
   "source": [
    "y = np.concatenate([x[:4, -4:], x[-2:, :8].reshape(4,4)])\n",
    "y"
   ]
  },
  {
   "cell_type": "markdown",
   "metadata": {},
   "source": [
    "d. 给y的每个值都apply这个function: $$f(x) = 3 \\cdot x + 7$$ (Score:1/2)"
   ]
  },
  {
   "cell_type": "code",
   "execution_count": 166,
   "metadata": {},
   "outputs": [
    {
     "data": {
      "text/plain": [
       "array([[ 21,  24,  27,  30],\n",
       "       [ 51,  54,  57,  60],\n",
       "       [ 81,  84,  87,  90],\n",
       "       [111, 114, 117, 120],\n",
       "       [243, 246, 249, 252],\n",
       "       [255, 258, 261, 264],\n",
       "       [273, 276, 279, 282],\n",
       "       [285, 288, 291, 294]])"
      ]
     },
     "execution_count": 166,
     "metadata": {},
     "output_type": "execute_result"
    }
   ],
   "source": [
    "y = np.multiply(y, 3)\n",
    "y = np.add(y, 3)   # Minor mistake\n",
    "y"
   ]
  },
  {
   "cell_type": "markdown",
   "metadata": {},
   "source": [
    "e. 创建一个和array x的shape相同的boolean mask, 每个位置的值为array x对应位置的值是否即使3的倍数又是5的倍数。把这个array称作z. (use one of / % //) (Score:2/2)"
   ]
  },
  {
   "cell_type": "code",
   "execution_count": 167,
   "metadata": {},
   "outputs": [],
   "source": [
    "z = (x%3==0) & (x%5==0)"
   ]
  },
  {
   "cell_type": "code",
   "execution_count": 168,
   "metadata": {},
   "outputs": [
    {
     "data": {
      "text/plain": [
       "(10, 10)"
      ]
     },
     "execution_count": 168,
     "metadata": {},
     "output_type": "execute_result"
    }
   ],
   "source": [
    "z.shape"
   ]
  },
  {
   "cell_type": "markdown",
   "metadata": {},
   "source": [
    "f. 通过z来选中x中符合这些条件的数。(Score:2/2)"
   ]
  },
  {
   "cell_type": "code",
   "execution_count": 169,
   "metadata": {},
   "outputs": [
    {
     "data": {
      "text/plain": [
       "array([ 0, 15, 30, 45, 60, 75, 90])"
      ]
     },
     "execution_count": 169,
     "metadata": {},
     "output_type": "execute_result"
    }
   ],
   "source": [
    "x[z == True]"
   ]
  },
  {
   "cell_type": "markdown",
   "metadata": {},
   "source": [
    "# 2. Pandas Basics"
   ]
  },
  {
   "cell_type": "markdown",
   "metadata": {},
   "source": [
    "a. 请一句话说明concat与 merge的区别 (Score:2/2)"
   ]
  },
  {
   "cell_type": "markdown",
   "metadata": {},
   "source": [
    "答：concat是把两个拼接到一起，merge是根据index和信息融合dataframe"
   ]
  },
  {
   "cell_type": "markdown",
   "metadata": {},
   "source": [
    "b. 用pandas导入 Data Science Handbook notebooks/data/中的 state-population.csv 文件，把它命名为df (Score:2/2)"
   ]
  },
  {
   "cell_type": "code",
   "execution_count": 170,
   "metadata": {},
   "outputs": [],
   "source": [
    "CSV_FILE_PATH = \"./state-population.csv\"\n",
    "df = pd.read_csv(CSV_FILE_PATH)"
   ]
  },
  {
   "cell_type": "markdown",
   "metadata": {},
   "source": [
    "c. 展示df的shape，它有哪些column，每个column的data type是什么？(Score:2/2)"
   ]
  },
  {
   "cell_type": "code",
   "execution_count": 171,
   "metadata": {},
   "outputs": [
    {
     "data": {
      "text/plain": [
       "(2544, 4)"
      ]
     },
     "execution_count": 171,
     "metadata": {},
     "output_type": "execute_result"
    }
   ],
   "source": [
    "df.shape"
   ]
  },
  {
   "cell_type": "code",
   "execution_count": 172,
   "metadata": {},
   "outputs": [
    {
     "data": {
      "text/plain": [
       "Index(['state/region', 'ages', 'year', 'population'], dtype='object')"
      ]
     },
     "execution_count": 172,
     "metadata": {},
     "output_type": "execute_result"
    }
   ],
   "source": [
    "df.columns"
   ]
  },
  {
   "cell_type": "code",
   "execution_count": 173,
   "metadata": {},
   "outputs": [
    {
     "name": "stdout",
     "output_type": "stream",
     "text": [
      "<class 'pandas.core.frame.DataFrame'>\n",
      "RangeIndex: 2544 entries, 0 to 2543\n",
      "Data columns (total 4 columns):\n",
      "state/region    2544 non-null object\n",
      "ages            2544 non-null object\n",
      "year            2544 non-null int64\n",
      "population      2524 non-null float64\n",
      "dtypes: float64(1), int64(1), object(2)\n",
      "memory usage: 79.6+ KB\n"
     ]
    }
   ],
   "source": [
    "df.info()"
   ]
  },
  {
   "cell_type": "markdown",
   "metadata": {},
   "source": [
    "d. 展示第2301行（注意index是从0开始的）(Score:2/2)"
   ]
  },
  {
   "cell_type": "code",
   "execution_count": 174,
   "metadata": {
    "scrolled": true
   },
   "outputs": [
    {
     "data": {
      "text/html": [
       "<div>\n",
       "<style scoped>\n",
       "    .dataframe tbody tr th:only-of-type {\n",
       "        vertical-align: middle;\n",
       "    }\n",
       "\n",
       "    .dataframe tbody tr th {\n",
       "        vertical-align: top;\n",
       "    }\n",
       "\n",
       "    .dataframe thead th {\n",
       "        text-align: right;\n",
       "    }\n",
       "</style>\n",
       "<table border=\"1\" class=\"dataframe\">\n",
       "  <thead>\n",
       "    <tr style=\"text-align: right;\">\n",
       "      <th></th>\n",
       "      <th>state/region</th>\n",
       "      <th>ages</th>\n",
       "      <th>year</th>\n",
       "      <th>population</th>\n",
       "    </tr>\n",
       "  </thead>\n",
       "  <tbody>\n",
       "    <tr>\n",
       "      <th>2300</th>\n",
       "      <td>WA</td>\n",
       "      <td>under18</td>\n",
       "      <td>2011</td>\n",
       "      <td>1584709.0</td>\n",
       "    </tr>\n",
       "  </tbody>\n",
       "</table>\n",
       "</div>"
      ],
      "text/plain": [
       "     state/region     ages  year  population\n",
       "2300           WA  under18  2011   1584709.0"
      ]
     },
     "execution_count": 174,
     "metadata": {},
     "output_type": "execute_result"
    }
   ],
   "source": [
    "df[2300:2301]"
   ]
  },
  {
   "cell_type": "markdown",
   "metadata": {},
   "source": [
    "e. 找到2002年伊利诺伊(code: IL)的总人口 (Score:2/2)"
   ]
  },
  {
   "cell_type": "code",
   "execution_count": 175,
   "metadata": {},
   "outputs": [
    {
     "name": "stdout",
     "output_type": "stream",
     "text": [
      "state/region             IL\n",
      "ages                  total\n",
      "year                   2002\n",
      "population      1.25256e+07\n",
      "Name: 646, dtype: object\n"
     ]
    }
   ],
   "source": [
    "for i in range(len(df)):\n",
    "    if df.loc[i, \"state/region\"] == \"IL\" and df.loc[i, \"year\"] == 2002 and df.loc[i, \"ages\"] == \"total\":\n",
    "        print(df.iloc[i])"
   ]
  },
  {
   "cell_type": "markdown",
   "metadata": {},
   "source": [
    "f. 使用groupby等方法，计算2008年以及以后每个州18岁以下人口的平均值，输出前五个人口最多的（不包括USA，可以使用 df.sort_values()等函数 ）。(Score:2/2)"
   ]
  },
  {
   "cell_type": "code",
   "execution_count": 176,
   "metadata": {},
   "outputs": [
    {
     "data": {
      "text/html": [
       "<div>\n",
       "<style scoped>\n",
       "    .dataframe tbody tr th:only-of-type {\n",
       "        vertical-align: middle;\n",
       "    }\n",
       "\n",
       "    .dataframe tbody tr th {\n",
       "        vertical-align: top;\n",
       "    }\n",
       "\n",
       "    .dataframe thead th {\n",
       "        text-align: right;\n",
       "    }\n",
       "</style>\n",
       "<table border=\"1\" class=\"dataframe\">\n",
       "  <thead>\n",
       "    <tr style=\"text-align: right;\">\n",
       "      <th></th>\n",
       "      <th>year</th>\n",
       "      <th>population</th>\n",
       "    </tr>\n",
       "    <tr>\n",
       "      <th>state/region</th>\n",
       "      <th></th>\n",
       "      <th></th>\n",
       "    </tr>\n",
       "  </thead>\n",
       "  <tbody>\n",
       "    <tr>\n",
       "      <th>IL</th>\n",
       "      <td>2010.5</td>\n",
       "      <td>7.964491e+06</td>\n",
       "    </tr>\n",
       "    <tr>\n",
       "      <th>FL</th>\n",
       "      <td>2010.5</td>\n",
       "      <td>1.150333e+07</td>\n",
       "    </tr>\n",
       "    <tr>\n",
       "      <th>NY</th>\n",
       "      <td>2010.5</td>\n",
       "      <td>1.187334e+07</td>\n",
       "    </tr>\n",
       "    <tr>\n",
       "      <th>TX</th>\n",
       "      <td>2010.5</td>\n",
       "      <td>1.615111e+07</td>\n",
       "    </tr>\n",
       "    <tr>\n",
       "      <th>CA</th>\n",
       "      <td>2010.5</td>\n",
       "      <td>2.336972e+07</td>\n",
       "    </tr>\n",
       "    <tr>\n",
       "      <th>USA</th>\n",
       "      <td>2010.5</td>\n",
       "      <td>1.921110e+08</td>\n",
       "    </tr>\n",
       "  </tbody>\n",
       "</table>\n",
       "</div>"
      ],
      "text/plain": [
       "                year    population\n",
       "state/region                      \n",
       "IL            2010.5  7.964491e+06\n",
       "FL            2010.5  1.150333e+07\n",
       "NY            2010.5  1.187334e+07\n",
       "TX            2010.5  1.615111e+07\n",
       "CA            2010.5  2.336972e+07\n",
       "USA           2010.5  1.921110e+08"
      ]
     },
     "execution_count": 176,
     "metadata": {},
     "output_type": "execute_result"
    }
   ],
   "source": [
    "df[df[\"year\"] >= 2008].groupby(\"state/region\").agg(\"mean\").sort_values(\"population\")[-6:]"
   ]
  },
  {
   "cell_type": "markdown",
   "metadata": {},
   "source": [
    "g. 找到每年总人口的maximum，minimum，以及median (用aggreagate)(Score:1/2)"
   ]
  },
  {
   "cell_type": "code",
   "execution_count": 177,
   "metadata": {},
   "outputs": [
    {
     "data": {
      "text/html": [
       "<div>\n",
       "<style scoped>\n",
       "    .dataframe tbody tr th:only-of-type {\n",
       "        vertical-align: middle;\n",
       "    }\n",
       "\n",
       "    .dataframe tbody tr th {\n",
       "        vertical-align: top;\n",
       "    }\n",
       "\n",
       "    .dataframe thead th {\n",
       "        text-align: right;\n",
       "    }\n",
       "</style>\n",
       "<table border=\"1\" class=\"dataframe\">\n",
       "  <thead>\n",
       "    <tr style=\"text-align: right;\">\n",
       "      <th></th>\n",
       "      <th>min</th>\n",
       "      <th>median</th>\n",
       "      <th>max</th>\n",
       "    </tr>\n",
       "    <tr>\n",
       "      <th>year</th>\n",
       "      <th></th>\n",
       "      <th></th>\n",
       "      <th></th>\n",
       "    </tr>\n",
       "  </thead>\n",
       "  <tbody>\n",
       "    <tr>\n",
       "      <th>1990</th>\n",
       "      <td>112632.0</td>\n",
       "      <td>1395507.5</td>\n",
       "      <td>249622814.0</td>\n",
       "    </tr>\n",
       "    <tr>\n",
       "      <th>1991</th>\n",
       "      <td>116825.0</td>\n",
       "      <td>1412934.5</td>\n",
       "      <td>252980942.0</td>\n",
       "    </tr>\n",
       "    <tr>\n",
       "      <th>1992</th>\n",
       "      <td>118636.0</td>\n",
       "      <td>1425919.0</td>\n",
       "      <td>256514231.0</td>\n",
       "    </tr>\n",
       "    <tr>\n",
       "      <th>1993</th>\n",
       "      <td>120471.0</td>\n",
       "      <td>1444365.5</td>\n",
       "      <td>259918595.0</td>\n",
       "    </tr>\n",
       "    <tr>\n",
       "      <th>1994</th>\n",
       "      <td>122170.0</td>\n",
       "      <td>1495550.0</td>\n",
       "      <td>263125826.0</td>\n",
       "    </tr>\n",
       "    <tr>\n",
       "      <th>1995</th>\n",
       "      <td>123620.0</td>\n",
       "      <td>1544747.0</td>\n",
       "      <td>266278403.0</td>\n",
       "    </tr>\n",
       "    <tr>\n",
       "      <th>1996</th>\n",
       "      <td>121210.0</td>\n",
       "      <td>1591054.0</td>\n",
       "      <td>269394291.0</td>\n",
       "    </tr>\n",
       "    <tr>\n",
       "      <th>1997</th>\n",
       "      <td>119531.0</td>\n",
       "      <td>1611518.0</td>\n",
       "      <td>272646932.0</td>\n",
       "    </tr>\n",
       "    <tr>\n",
       "      <th>1998</th>\n",
       "      <td>113839.0</td>\n",
       "      <td>1623888.5</td>\n",
       "      <td>275854116.0</td>\n",
       "    </tr>\n",
       "    <tr>\n",
       "      <th>1999</th>\n",
       "      <td>115003.0</td>\n",
       "      <td>1635421.5</td>\n",
       "      <td>279040181.0</td>\n",
       "    </tr>\n",
       "    <tr>\n",
       "      <th>2000</th>\n",
       "      <td>114503.0</td>\n",
       "      <td>1644404.5</td>\n",
       "      <td>282162411.0</td>\n",
       "    </tr>\n",
       "    <tr>\n",
       "      <th>2001</th>\n",
       "      <td>114625.0</td>\n",
       "      <td>1649681.5</td>\n",
       "      <td>284968955.0</td>\n",
       "    </tr>\n",
       "    <tr>\n",
       "      <th>2002</th>\n",
       "      <td>113822.0</td>\n",
       "      <td>1654553.0</td>\n",
       "      <td>287625193.0</td>\n",
       "    </tr>\n",
       "    <tr>\n",
       "      <th>2003</th>\n",
       "      <td>111403.0</td>\n",
       "      <td>1660601.5</td>\n",
       "      <td>290107933.0</td>\n",
       "    </tr>\n",
       "    <tr>\n",
       "      <th>2004</th>\n",
       "      <td>109756.0</td>\n",
       "      <td>1667825.5</td>\n",
       "      <td>292805298.0</td>\n",
       "    </tr>\n",
       "    <tr>\n",
       "      <th>2005</th>\n",
       "      <td>107187.0</td>\n",
       "      <td>1677697.5</td>\n",
       "      <td>295516599.0</td>\n",
       "    </tr>\n",
       "    <tr>\n",
       "      <th>2006</th>\n",
       "      <td>105651.0</td>\n",
       "      <td>1687900.0</td>\n",
       "      <td>298379912.0</td>\n",
       "    </tr>\n",
       "    <tr>\n",
       "      <th>2007</th>\n",
       "      <td>104126.0</td>\n",
       "      <td>1696467.0</td>\n",
       "      <td>301231207.0</td>\n",
       "    </tr>\n",
       "    <tr>\n",
       "      <th>2008</th>\n",
       "      <td>102257.0</td>\n",
       "      <td>1712514.5</td>\n",
       "      <td>304093966.0</td>\n",
       "    </tr>\n",
       "    <tr>\n",
       "      <th>2009</th>\n",
       "      <td>102098.0</td>\n",
       "      <td>1720013.0</td>\n",
       "      <td>306771529.0</td>\n",
       "    </tr>\n",
       "    <tr>\n",
       "      <th>2010</th>\n",
       "      <td>101309.0</td>\n",
       "      <td>1729200.5</td>\n",
       "      <td>309326295.0</td>\n",
       "    </tr>\n",
       "    <tr>\n",
       "      <th>2011</th>\n",
       "      <td>103906.0</td>\n",
       "      <td>1729051.0</td>\n",
       "      <td>311582564.0</td>\n",
       "    </tr>\n",
       "    <tr>\n",
       "      <th>2012</th>\n",
       "      <td>107642.0</td>\n",
       "      <td>1736249.5</td>\n",
       "      <td>313873685.0</td>\n",
       "    </tr>\n",
       "    <tr>\n",
       "      <th>2013</th>\n",
       "      <td>111474.0</td>\n",
       "      <td>1735559.0</td>\n",
       "      <td>316128839.0</td>\n",
       "    </tr>\n",
       "  </tbody>\n",
       "</table>\n",
       "</div>"
      ],
      "text/plain": [
       "           min     median          max\n",
       "year                                  \n",
       "1990  112632.0  1395507.5  249622814.0\n",
       "1991  116825.0  1412934.5  252980942.0\n",
       "1992  118636.0  1425919.0  256514231.0\n",
       "1993  120471.0  1444365.5  259918595.0\n",
       "1994  122170.0  1495550.0  263125826.0\n",
       "1995  123620.0  1544747.0  266278403.0\n",
       "1996  121210.0  1591054.0  269394291.0\n",
       "1997  119531.0  1611518.0  272646932.0\n",
       "1998  113839.0  1623888.5  275854116.0\n",
       "1999  115003.0  1635421.5  279040181.0\n",
       "2000  114503.0  1644404.5  282162411.0\n",
       "2001  114625.0  1649681.5  284968955.0\n",
       "2002  113822.0  1654553.0  287625193.0\n",
       "2003  111403.0  1660601.5  290107933.0\n",
       "2004  109756.0  1667825.5  292805298.0\n",
       "2005  107187.0  1677697.5  295516599.0\n",
       "2006  105651.0  1687900.0  298379912.0\n",
       "2007  104126.0  1696467.0  301231207.0\n",
       "2008  102257.0  1712514.5  304093966.0\n",
       "2009  102098.0  1720013.0  306771529.0\n",
       "2010  101309.0  1729200.5  309326295.0\n",
       "2011  103906.0  1729051.0  311582564.0\n",
       "2012  107642.0  1736249.5  313873685.0\n",
       "2013  111474.0  1735559.0  316128839.0"
      ]
     },
     "execution_count": 177,
     "metadata": {},
     "output_type": "execute_result"
    }
   ],
   "source": [
    "df_new = df.groupby(\"year\").agg({\"population\":\"min\"})\n",
    "df_new[\"median\"] = df.groupby(\"year\").agg({\"population\":\"median\"})\n",
    "df_new[\"max\"] = df.groupby(\"year\").agg({\"population\":\"max\"})\n",
    "df_new.columns = [\"min\",\"median\",\"max\"]\n",
    "df_new\n",
    "\n",
    "# Incorrect rows selected. "
   ]
  },
  {
   "cell_type": "markdown",
   "metadata": {},
   "source": [
    "h. 把df state/region  下的 IL 改成 Illinois (可以自己define一个function，也可以查询Python lambda function的使用)(Score:2/2)"
   ]
  },
  {
   "cell_type": "code",
   "execution_count": 161,
   "metadata": {},
   "outputs": [
    {
     "data": {
      "text/html": [
       "<div>\n",
       "<style scoped>\n",
       "    .dataframe tbody tr th:only-of-type {\n",
       "        vertical-align: middle;\n",
       "    }\n",
       "\n",
       "    .dataframe tbody tr th {\n",
       "        vertical-align: top;\n",
       "    }\n",
       "\n",
       "    .dataframe thead th {\n",
       "        text-align: right;\n",
       "    }\n",
       "</style>\n",
       "<table border=\"1\" class=\"dataframe\">\n",
       "  <thead>\n",
       "    <tr style=\"text-align: right;\">\n",
       "      <th></th>\n",
       "      <th>state/region</th>\n",
       "      <th>ages</th>\n",
       "      <th>year</th>\n",
       "      <th>population</th>\n",
       "    </tr>\n",
       "  </thead>\n",
       "  <tbody>\n",
       "    <tr>\n",
       "      <th>624</th>\n",
       "      <td>Illinois</td>\n",
       "      <td>under18</td>\n",
       "      <td>1990</td>\n",
       "      <td>2940837.0</td>\n",
       "    </tr>\n",
       "    <tr>\n",
       "      <th>625</th>\n",
       "      <td>Illinois</td>\n",
       "      <td>total</td>\n",
       "      <td>1990</td>\n",
       "      <td>11453316.0</td>\n",
       "    </tr>\n",
       "    <tr>\n",
       "      <th>626</th>\n",
       "      <td>Illinois</td>\n",
       "      <td>total</td>\n",
       "      <td>1991</td>\n",
       "      <td>11568964.0</td>\n",
       "    </tr>\n",
       "    <tr>\n",
       "      <th>627</th>\n",
       "      <td>Illinois</td>\n",
       "      <td>under18</td>\n",
       "      <td>1991</td>\n",
       "      <td>2988715.0</td>\n",
       "    </tr>\n",
       "    <tr>\n",
       "      <th>628</th>\n",
       "      <td>Illinois</td>\n",
       "      <td>under18</td>\n",
       "      <td>1994</td>\n",
       "      <td>3110938.0</td>\n",
       "    </tr>\n",
       "    <tr>\n",
       "      <th>629</th>\n",
       "      <td>Illinois</td>\n",
       "      <td>total</td>\n",
       "      <td>1994</td>\n",
       "      <td>11912585.0</td>\n",
       "    </tr>\n",
       "    <tr>\n",
       "      <th>630</th>\n",
       "      <td>Illinois</td>\n",
       "      <td>total</td>\n",
       "      <td>1993</td>\n",
       "      <td>11809579.0</td>\n",
       "    </tr>\n",
       "    <tr>\n",
       "      <th>631</th>\n",
       "      <td>Illinois</td>\n",
       "      <td>under18</td>\n",
       "      <td>1993</td>\n",
       "      <td>3066541.0</td>\n",
       "    </tr>\n",
       "    <tr>\n",
       "      <th>632</th>\n",
       "      <td>Illinois</td>\n",
       "      <td>under18</td>\n",
       "      <td>1992</td>\n",
       "      <td>3033427.0</td>\n",
       "    </tr>\n",
       "    <tr>\n",
       "      <th>633</th>\n",
       "      <td>Illinois</td>\n",
       "      <td>total</td>\n",
       "      <td>1992</td>\n",
       "      <td>11694184.0</td>\n",
       "    </tr>\n",
       "    <tr>\n",
       "      <th>634</th>\n",
       "      <td>Illinois</td>\n",
       "      <td>total</td>\n",
       "      <td>1995</td>\n",
       "      <td>12008437.0</td>\n",
       "    </tr>\n",
       "    <tr>\n",
       "      <th>635</th>\n",
       "      <td>Illinois</td>\n",
       "      <td>under18</td>\n",
       "      <td>1995</td>\n",
       "      <td>3152984.0</td>\n",
       "    </tr>\n",
       "    <tr>\n",
       "      <th>636</th>\n",
       "      <td>Illinois</td>\n",
       "      <td>under18</td>\n",
       "      <td>1996</td>\n",
       "      <td>3192916.0</td>\n",
       "    </tr>\n",
       "    <tr>\n",
       "      <th>637</th>\n",
       "      <td>Illinois</td>\n",
       "      <td>total</td>\n",
       "      <td>1996</td>\n",
       "      <td>12101997.0</td>\n",
       "    </tr>\n",
       "    <tr>\n",
       "      <th>638</th>\n",
       "      <td>Illinois</td>\n",
       "      <td>under18</td>\n",
       "      <td>1998</td>\n",
       "      <td>3225252.0</td>\n",
       "    </tr>\n",
       "    <tr>\n",
       "      <th>639</th>\n",
       "      <td>Illinois</td>\n",
       "      <td>total</td>\n",
       "      <td>1998</td>\n",
       "      <td>12271847.0</td>\n",
       "    </tr>\n",
       "    <tr>\n",
       "      <th>640</th>\n",
       "      <td>Illinois</td>\n",
       "      <td>total</td>\n",
       "      <td>1997</td>\n",
       "      <td>12185715.0</td>\n",
       "    </tr>\n",
       "    <tr>\n",
       "      <th>641</th>\n",
       "      <td>Illinois</td>\n",
       "      <td>under18</td>\n",
       "      <td>1997</td>\n",
       "      <td>3222114.0</td>\n",
       "    </tr>\n",
       "    <tr>\n",
       "      <th>642</th>\n",
       "      <td>Illinois</td>\n",
       "      <td>total</td>\n",
       "      <td>2000</td>\n",
       "      <td>12434161.0</td>\n",
       "    </tr>\n",
       "    <tr>\n",
       "      <th>643</th>\n",
       "      <td>Illinois</td>\n",
       "      <td>under18</td>\n",
       "      <td>2000</td>\n",
       "      <td>3244944.0</td>\n",
       "    </tr>\n",
       "    <tr>\n",
       "      <th>644</th>\n",
       "      <td>Illinois</td>\n",
       "      <td>total</td>\n",
       "      <td>1999</td>\n",
       "      <td>12359020.0</td>\n",
       "    </tr>\n",
       "    <tr>\n",
       "      <th>645</th>\n",
       "      <td>Illinois</td>\n",
       "      <td>under18</td>\n",
       "      <td>1999</td>\n",
       "      <td>3240034.0</td>\n",
       "    </tr>\n",
       "    <tr>\n",
       "      <th>646</th>\n",
       "      <td>Illinois</td>\n",
       "      <td>total</td>\n",
       "      <td>2002</td>\n",
       "      <td>12525556.0</td>\n",
       "    </tr>\n",
       "    <tr>\n",
       "      <th>647</th>\n",
       "      <td>Illinois</td>\n",
       "      <td>under18</td>\n",
       "      <td>2002</td>\n",
       "      <td>3238362.0</td>\n",
       "    </tr>\n",
       "    <tr>\n",
       "      <th>648</th>\n",
       "      <td>Illinois</td>\n",
       "      <td>total</td>\n",
       "      <td>2001</td>\n",
       "      <td>12488445.0</td>\n",
       "    </tr>\n",
       "    <tr>\n",
       "      <th>649</th>\n",
       "      <td>Illinois</td>\n",
       "      <td>under18</td>\n",
       "      <td>2001</td>\n",
       "      <td>3243617.0</td>\n",
       "    </tr>\n",
       "    <tr>\n",
       "      <th>650</th>\n",
       "      <td>Illinois</td>\n",
       "      <td>total</td>\n",
       "      <td>2004</td>\n",
       "      <td>12589773.0</td>\n",
       "    </tr>\n",
       "    <tr>\n",
       "      <th>651</th>\n",
       "      <td>Illinois</td>\n",
       "      <td>under18</td>\n",
       "      <td>2004</td>\n",
       "      <td>3211599.0</td>\n",
       "    </tr>\n",
       "    <tr>\n",
       "      <th>652</th>\n",
       "      <td>Illinois</td>\n",
       "      <td>total</td>\n",
       "      <td>2003</td>\n",
       "      <td>12556006.0</td>\n",
       "    </tr>\n",
       "    <tr>\n",
       "      <th>653</th>\n",
       "      <td>Illinois</td>\n",
       "      <td>under18</td>\n",
       "      <td>2003</td>\n",
       "      <td>3225547.0</td>\n",
       "    </tr>\n",
       "    <tr>\n",
       "      <th>654</th>\n",
       "      <td>Illinois</td>\n",
       "      <td>total</td>\n",
       "      <td>2006</td>\n",
       "      <td>12643955.0</td>\n",
       "    </tr>\n",
       "    <tr>\n",
       "      <th>655</th>\n",
       "      <td>Illinois</td>\n",
       "      <td>under18</td>\n",
       "      <td>2006</td>\n",
       "      <td>3181246.0</td>\n",
       "    </tr>\n",
       "    <tr>\n",
       "      <th>656</th>\n",
       "      <td>Illinois</td>\n",
       "      <td>total</td>\n",
       "      <td>2005</td>\n",
       "      <td>12609903.0</td>\n",
       "    </tr>\n",
       "    <tr>\n",
       "      <th>657</th>\n",
       "      <td>Illinois</td>\n",
       "      <td>under18</td>\n",
       "      <td>2005</td>\n",
       "      <td>3197318.0</td>\n",
       "    </tr>\n",
       "    <tr>\n",
       "      <th>658</th>\n",
       "      <td>Illinois</td>\n",
       "      <td>total</td>\n",
       "      <td>2008</td>\n",
       "      <td>12747038.0</td>\n",
       "    </tr>\n",
       "    <tr>\n",
       "      <th>659</th>\n",
       "      <td>Illinois</td>\n",
       "      <td>under18</td>\n",
       "      <td>2008</td>\n",
       "      <td>3153401.0</td>\n",
       "    </tr>\n",
       "    <tr>\n",
       "      <th>660</th>\n",
       "      <td>Illinois</td>\n",
       "      <td>total</td>\n",
       "      <td>2007</td>\n",
       "      <td>12695866.0</td>\n",
       "    </tr>\n",
       "    <tr>\n",
       "      <th>661</th>\n",
       "      <td>Illinois</td>\n",
       "      <td>under18</td>\n",
       "      <td>2007</td>\n",
       "      <td>3170134.0</td>\n",
       "    </tr>\n",
       "    <tr>\n",
       "      <th>662</th>\n",
       "      <td>Illinois</td>\n",
       "      <td>under18</td>\n",
       "      <td>2013</td>\n",
       "      <td>3023307.0</td>\n",
       "    </tr>\n",
       "    <tr>\n",
       "      <th>663</th>\n",
       "      <td>Illinois</td>\n",
       "      <td>total</td>\n",
       "      <td>2009</td>\n",
       "      <td>12796778.0</td>\n",
       "    </tr>\n",
       "    <tr>\n",
       "      <th>664</th>\n",
       "      <td>Illinois</td>\n",
       "      <td>under18</td>\n",
       "      <td>2009</td>\n",
       "      <td>3138406.0</td>\n",
       "    </tr>\n",
       "    <tr>\n",
       "      <th>665</th>\n",
       "      <td>Illinois</td>\n",
       "      <td>total</td>\n",
       "      <td>2013</td>\n",
       "      <td>12882135.0</td>\n",
       "    </tr>\n",
       "    <tr>\n",
       "      <th>666</th>\n",
       "      <td>Illinois</td>\n",
       "      <td>total</td>\n",
       "      <td>2010</td>\n",
       "      <td>12839695.0</td>\n",
       "    </tr>\n",
       "    <tr>\n",
       "      <th>667</th>\n",
       "      <td>Illinois</td>\n",
       "      <td>under18</td>\n",
       "      <td>2010</td>\n",
       "      <td>3122092.0</td>\n",
       "    </tr>\n",
       "    <tr>\n",
       "      <th>668</th>\n",
       "      <td>Illinois</td>\n",
       "      <td>total</td>\n",
       "      <td>2011</td>\n",
       "      <td>12855970.0</td>\n",
       "    </tr>\n",
       "    <tr>\n",
       "      <th>669</th>\n",
       "      <td>Illinois</td>\n",
       "      <td>under18</td>\n",
       "      <td>2011</td>\n",
       "      <td>3089833.0</td>\n",
       "    </tr>\n",
       "    <tr>\n",
       "      <th>670</th>\n",
       "      <td>Illinois</td>\n",
       "      <td>under18</td>\n",
       "      <td>2012</td>\n",
       "      <td>3057042.0</td>\n",
       "    </tr>\n",
       "    <tr>\n",
       "      <th>671</th>\n",
       "      <td>Illinois</td>\n",
       "      <td>total</td>\n",
       "      <td>2012</td>\n",
       "      <td>12868192.0</td>\n",
       "    </tr>\n",
       "  </tbody>\n",
       "</table>\n",
       "</div>"
      ],
      "text/plain": [
       "    state/region     ages  year  population\n",
       "624     Illinois  under18  1990   2940837.0\n",
       "625     Illinois    total  1990  11453316.0\n",
       "626     Illinois    total  1991  11568964.0\n",
       "627     Illinois  under18  1991   2988715.0\n",
       "628     Illinois  under18  1994   3110938.0\n",
       "629     Illinois    total  1994  11912585.0\n",
       "630     Illinois    total  1993  11809579.0\n",
       "631     Illinois  under18  1993   3066541.0\n",
       "632     Illinois  under18  1992   3033427.0\n",
       "633     Illinois    total  1992  11694184.0\n",
       "634     Illinois    total  1995  12008437.0\n",
       "635     Illinois  under18  1995   3152984.0\n",
       "636     Illinois  under18  1996   3192916.0\n",
       "637     Illinois    total  1996  12101997.0\n",
       "638     Illinois  under18  1998   3225252.0\n",
       "639     Illinois    total  1998  12271847.0\n",
       "640     Illinois    total  1997  12185715.0\n",
       "641     Illinois  under18  1997   3222114.0\n",
       "642     Illinois    total  2000  12434161.0\n",
       "643     Illinois  under18  2000   3244944.0\n",
       "644     Illinois    total  1999  12359020.0\n",
       "645     Illinois  under18  1999   3240034.0\n",
       "646     Illinois    total  2002  12525556.0\n",
       "647     Illinois  under18  2002   3238362.0\n",
       "648     Illinois    total  2001  12488445.0\n",
       "649     Illinois  under18  2001   3243617.0\n",
       "650     Illinois    total  2004  12589773.0\n",
       "651     Illinois  under18  2004   3211599.0\n",
       "652     Illinois    total  2003  12556006.0\n",
       "653     Illinois  under18  2003   3225547.0\n",
       "654     Illinois    total  2006  12643955.0\n",
       "655     Illinois  under18  2006   3181246.0\n",
       "656     Illinois    total  2005  12609903.0\n",
       "657     Illinois  under18  2005   3197318.0\n",
       "658     Illinois    total  2008  12747038.0\n",
       "659     Illinois  under18  2008   3153401.0\n",
       "660     Illinois    total  2007  12695866.0\n",
       "661     Illinois  under18  2007   3170134.0\n",
       "662     Illinois  under18  2013   3023307.0\n",
       "663     Illinois    total  2009  12796778.0\n",
       "664     Illinois  under18  2009   3138406.0\n",
       "665     Illinois    total  2013  12882135.0\n",
       "666     Illinois    total  2010  12839695.0\n",
       "667     Illinois  under18  2010   3122092.0\n",
       "668     Illinois    total  2011  12855970.0\n",
       "669     Illinois  under18  2011   3089833.0\n",
       "670     Illinois  under18  2012   3057042.0\n",
       "671     Illinois    total  2012  12868192.0"
      ]
     },
     "execution_count": 161,
     "metadata": {},
     "output_type": "execute_result"
    }
   ],
   "source": [
    "for i in range(len(df)):\n",
    "    if df.loc[i, \"state/region\"] == \"IL\":\n",
    "        df.loc[i, \"state/region\"] = \"Illinois\"\n",
    "df[df[\"state/region\"] == \"Illinois\"]"
   ]
  },
  {
   "cell_type": "markdown",
   "metadata": {},
   "source": [
    "j. Do a brief but meaningful analysis to the US population data with the tools you learned. Remember to briefly explain it with comments.(Score:2/2)"
   ]
  },
  {
   "cell_type": "code",
   "execution_count": null,
   "metadata": {},
   "outputs": [],
   "source": [
    "df_under_18 = df[df[\"ages\"]==\"under18\"].groupby(\"year\").agg({\"population\":\"mean\"})\n",
    "df_total = df[df[\"ages\"]==\"total\"].groupby(\"year\").agg({\"population\":\"mean\"})\n",
    "df_ratio = df_total/df_under_18\n",
    "df_ratio#from the diagram below, the ratio of population under 18 years old proportion to the total population is increasing over years\n",
    "#this suggest the ratio of working population is annually increase in the country."
   ]
  },
  {
   "cell_type": "markdown",
   "metadata": {},
   "source": [
    "# 反馈\n",
    "如果你对这个quiz的难度，预习的进度，以及课程目前以来的任何方面有任何建议或者问题都欢迎写在下面！"
   ]
  },
  {
   "cell_type": "code",
   "execution_count": null,
   "metadata": {},
   "outputs": [],
   "source": [
    "预习进度有一些紧张，我才看到3.06"
   ]
  }
 ],
 "metadata": {
  "kernelspec": {
   "display_name": "Python 3",
   "language": "python",
   "name": "python3"
  },
  "language_info": {
   "codemirror_mode": {
    "name": "ipython",
    "version": 3
   },
   "file_extension": ".py",
   "mimetype": "text/x-python",
   "name": "python",
   "nbconvert_exporter": "python",
   "pygments_lexer": "ipython3",
   "version": "3.7.3"
  }
 },
 "nbformat": 4,
 "nbformat_minor": 4
}
