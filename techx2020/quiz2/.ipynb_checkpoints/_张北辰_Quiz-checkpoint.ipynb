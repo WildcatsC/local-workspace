{
 "cells": [
  {
   "cell_type": "markdown",
   "metadata": {},
   "source": [
    "# TechX 2020 计算社科预习 Quiz 2 V1.0  (Score: 30/30)"
   ]
  },
  {
   "cell_type": "markdown",
   "metadata": {},
   "source": [
    "这个测试的目的不是为了难倒大家，而是为了检验预习成果，方便我们调整接下来的预习和课程安排。同时，我们也希望你们能通过这几个练习学到的知识，并学到的coding技巧。因此，我们有如下要求：\n",
    "1. 虽然我们不允许大家向别人请教 quiz 中的问题，但是你们可以在互联网上搜索已有的资源：这也是在TechX的学习过程中大家会一直做的。（PS 请别直接抄代码！请理解之后自己实现）\n",
    "2. 有些题目里会给出一些变量/数据，但是我们批改的时候可能会改动它们以检测你程序的可拓展性。\n",
    "3. 请在北京时间7.26 24:00之前在教学立方提交，如有事无法按时请私信自己的对应AL（在预习文档里 https://shimo.im/docs/eIy4MXRYkLoZvE2Z ）。\n",
    "4. 如果感觉题目有问题或表述不清请直接在群里提出。我们有可能根据大家的提问发布V2.0 的 Quiz。\n",
    "\n",
    "PS 问题保留了答案，但大家可以通过多种方式得到它们。"
   ]
  },
  {
   "cell_type": "markdown",
   "metadata": {},
   "source": [
    "## 0. Setup"
   ]
  },
  {
   "cell_type": "markdown",
   "metadata": {},
   "source": [
    "请在下面导入numpy(用np代替)，以及pandas（用pd代替）"
   ]
  },
  {
   "cell_type": "code",
   "execution_count": 2,
   "metadata": {},
   "outputs": [],
   "source": [
    "import numpy as np\n",
    "import pandas as pd"
   ]
  },
  {
   "cell_type": "markdown",
   "metadata": {},
   "source": [
    "## 1. Array Basics\n",
    "a. 创建一个shape为(10,10), 值为0~99的2D array，命名为x (应该和下图一样)(Score:2/2)"
   ]
  },
  {
   "cell_type": "code",
   "execution_count": 3,
   "metadata": {
    "jupyter": {
     "outputs_hidden": false
    }
   },
   "outputs": [
    {
     "name": "stdout",
     "output_type": "stream",
     "text": [
      "[[ 0  1  2  3  4  5  6  7  8  9]\n",
      " [10 11 12 13 14 15 16 17 18 19]\n",
      " [20 21 22 23 24 25 26 27 28 29]\n",
      " [30 31 32 33 34 35 36 37 38 39]\n",
      " [40 41 42 43 44 45 46 47 48 49]\n",
      " [50 51 52 53 54 55 56 57 58 59]\n",
      " [60 61 62 63 64 65 66 67 68 69]\n",
      " [70 71 72 73 74 75 76 77 78 79]\n",
      " [80 81 82 83 84 85 86 87 88 89]\n",
      " [90 91 92 93 94 95 96 97 98 99]]\n"
     ]
    }
   ],
   "source": [
    "x = np.arange(100).reshape((10,10))\n",
    "print(x)"
   ]
  },
  {
   "cell_type": "markdown",
   "metadata": {},
   "source": [
    "b. 用array slicing找出x中所有5的倍数，并输出为一维array(Score:2/2)"
   ]
  },
  {
   "cell_type": "code",
   "execution_count": 4,
   "metadata": {},
   "outputs": [
    {
     "name": "stdout",
     "output_type": "stream",
     "text": [
      "[ 0  5 10 15 20 25 30 35 40 45 50 55 60 65 70 75 80 85 90 95]\n"
     ]
    }
   ],
   "source": [
    "print(x[:,[0,5]].flatten())"
   ]
  },
  {
   "cell_type": "markdown",
   "metadata": {},
   "source": [
    "c. 找出array x 右上角 shape = (4, 4) 的方块和左下角shape = (2,8)的长方形，把 vertically 他们拼接成一个 shape = (4, 8)的矩阵。把这个矩阵赋值为 y。(Score:2/2)"
   ]
  },
  {
   "cell_type": "code",
   "execution_count": 5,
   "metadata": {},
   "outputs": [
    {
     "name": "stdout",
     "output_type": "stream",
     "text": [
      "[[ 6  7  8  9]\n",
      " [16 17 18 19]\n",
      " [26 27 28 29]\n",
      " [36 37 38 39]\n",
      " [80 81 82 83]\n",
      " [84 85 86 87]\n",
      " [90 91 92 93]\n",
      " [94 95 96 97]]\n"
     ]
    }
   ],
   "source": [
    "square = x[:4,6:]\n",
    "rectangle = x[-2:,:-2]\n",
    "y = np.vstack([square, rectangle.reshape(4,4)])\n",
    "print(y)"
   ]
  },
  {
   "cell_type": "markdown",
   "metadata": {},
   "source": [
    "d. 给y的每个值都apply这个function: $$f(x) = 3 \\cdot x + 7$$(Score:2/2)"
   ]
  },
  {
   "cell_type": "code",
   "execution_count": 6,
   "metadata": {},
   "outputs": [
    {
     "name": "stdout",
     "output_type": "stream",
     "text": [
      "[[ 25  28  31  34]\n",
      " [ 55  58  61  64]\n",
      " [ 85  88  91  94]\n",
      " [115 118 121 124]\n",
      " [247 250 253 256]\n",
      " [259 262 265 268]\n",
      " [277 280 283 286]\n",
      " [289 292 295 298]]\n"
     ]
    }
   ],
   "source": [
    "y = y*3 + 7\n",
    "print(y)"
   ]
  },
  {
   "cell_type": "markdown",
   "metadata": {},
   "source": [
    "e. 创建一个和array x的shape相同的boolean mask, 每个位置的值为array x对应位置的值是否即使3的倍数又是5的倍数。把这个array称作z. (use one of / % //)(Score:2/2)"
   ]
  },
  {
   "cell_type": "code",
   "execution_count": 7,
   "metadata": {},
   "outputs": [
    {
     "name": "stdout",
     "output_type": "stream",
     "text": [
      "[[ True False False False False False False False False False]\n",
      " [False False False False False  True False False False False]\n",
      " [False False False False False False False False False False]\n",
      " [ True False False False False False False False False False]\n",
      " [False False False False False  True False False False False]\n",
      " [False False False False False False False False False False]\n",
      " [ True False False False False False False False False False]\n",
      " [False False False False False  True False False False False]\n",
      " [False False False False False False False False False False]\n",
      " [ True False False False False False False False False False]]\n"
     ]
    }
   ],
   "source": [
    "z = x % 15 ==0\n",
    "print(z)"
   ]
  },
  {
   "cell_type": "code",
   "execution_count": 8,
   "metadata": {},
   "outputs": [
    {
     "data": {
      "text/plain": [
       "(10, 10)"
      ]
     },
     "execution_count": 8,
     "metadata": {},
     "output_type": "execute_result"
    }
   ],
   "source": [
    "z.shape"
   ]
  },
  {
   "cell_type": "markdown",
   "metadata": {},
   "source": [
    "f. 通过z来选中x中符合这些条件的数。"
   ]
  },
  {
   "cell_type": "code",
   "execution_count": 9,
   "metadata": {},
   "outputs": [
    {
     "data": {
      "text/plain": [
       "array([ 0, 15, 30, 45, 60, 75, 90])"
      ]
     },
     "execution_count": 9,
     "metadata": {},
     "output_type": "execute_result"
    }
   ],
   "source": [
    "x[z]"
   ]
  },
  {
   "cell_type": "markdown",
   "metadata": {},
   "source": [
    "# 2. Pandas Basics"
   ]
  },
  {
   "cell_type": "markdown",
   "metadata": {},
   "source": [
    "a. 请一句话说明concat与 merge的区别(Score:2/2)"
   ]
  },
  {
   "cell_type": "markdown",
   "metadata": {},
   "source": [
    "答：concat是把两个拼接到一起，merge是根据index和信息融合dataframe"
   ]
  },
  {
   "cell_type": "markdown",
   "metadata": {},
   "source": [
    "b. 用pandas导入 Data Science Handbook notebooks/data/中的 state-population.csv 文件，把它命名为df(Score:2/2)"
   ]
  },
  {
   "cell_type": "code",
   "execution_count": 13,
   "metadata": {},
   "outputs": [],
   "source": [
    "df = pd.read_csv(r'C:\\Users\\Bertrand\\Desktop\\TechX预习材料\\PythonDataScienceHandbook-master\\PythonDataScienceHandbook-master\\notebooks\\data\\state-population.csv')"
   ]
  },
  {
   "cell_type": "markdown",
   "metadata": {},
   "source": [
    "c. 展示df的shape，它有哪些column，每个column的data type是什么？(Score:2/2)"
   ]
  },
  {
   "cell_type": "code",
   "execution_count": 14,
   "metadata": {},
   "outputs": [
    {
     "data": {
      "text/plain": [
       "(2544, 4)"
      ]
     },
     "execution_count": 14,
     "metadata": {},
     "output_type": "execute_result"
    }
   ],
   "source": [
    "df.shape"
   ]
  },
  {
   "cell_type": "code",
   "execution_count": 190,
   "metadata": {},
   "outputs": [
    {
     "data": {
      "text/plain": [
       "Index(['state/region', 'ages', 'year', 'population'], dtype='object')"
      ]
     },
     "execution_count": 190,
     "metadata": {},
     "output_type": "execute_result"
    }
   ],
   "source": [
    "df.columns"
   ]
  },
  {
   "cell_type": "code",
   "execution_count": 191,
   "metadata": {},
   "outputs": [
    {
     "data": {
      "text/plain": [
       "state/region     object\n",
       "ages             object\n",
       "year              int64\n",
       "population      float64\n",
       "dtype: object"
      ]
     },
     "execution_count": 191,
     "metadata": {},
     "output_type": "execute_result"
    }
   ],
   "source": [
    "df.dtypes"
   ]
  },
  {
   "cell_type": "markdown",
   "metadata": {},
   "source": [
    "d. 展示第2301行（注意index是从0开始的）(Score:2/2)"
   ]
  },
  {
   "cell_type": "code",
   "execution_count": 192,
   "metadata": {},
   "outputs": [
    {
     "data": {
      "text/plain": [
       "state/region             WA\n",
       "ages                under18\n",
       "year                   2011\n",
       "population      1.58471e+06\n",
       "Name: 2300, dtype: object"
      ]
     },
     "execution_count": 192,
     "metadata": {},
     "output_type": "execute_result"
    }
   ],
   "source": [
    "df.iloc[2300,:]"
   ]
  },
  {
   "cell_type": "markdown",
   "metadata": {},
   "source": [
    "e. 找到2002年伊利诺伊(code: IL)的总人口(Score:2/2)"
   ]
  },
  {
   "cell_type": "code",
   "execution_count": 193,
   "metadata": {},
   "outputs": [
    {
     "data": {
      "text/html": [
       "<div>\n",
       "<style scoped>\n",
       "    .dataframe tbody tr th:only-of-type {\n",
       "        vertical-align: middle;\n",
       "    }\n",
       "\n",
       "    .dataframe tbody tr th {\n",
       "        vertical-align: top;\n",
       "    }\n",
       "\n",
       "    .dataframe thead th {\n",
       "        text-align: right;\n",
       "    }\n",
       "</style>\n",
       "<table border=\"1\" class=\"dataframe\">\n",
       "  <thead>\n",
       "    <tr style=\"text-align: right;\">\n",
       "      <th></th>\n",
       "      <th>state/region</th>\n",
       "      <th>ages</th>\n",
       "      <th>year</th>\n",
       "      <th>population</th>\n",
       "    </tr>\n",
       "  </thead>\n",
       "  <tbody>\n",
       "    <tr>\n",
       "      <th>646</th>\n",
       "      <td>IL</td>\n",
       "      <td>total</td>\n",
       "      <td>2002</td>\n",
       "      <td>12525556.0</td>\n",
       "    </tr>\n",
       "  </tbody>\n",
       "</table>\n",
       "</div>"
      ],
      "text/plain": [
       "    state/region   ages  year  population\n",
       "646           IL  total  2002  12525556.0"
      ]
     },
     "execution_count": 193,
     "metadata": {},
     "output_type": "execute_result"
    }
   ],
   "source": [
    "df1 = df[(df['state/region']=='IL') & (df.year==2002) & (df1.ages=='total')]\n",
    "df1"
   ]
  },
  {
   "cell_type": "markdown",
   "metadata": {},
   "source": [
    "f. 使用groupby等方法，计算2008年以及以后每个州18岁以下人口的平均值，输出前五个人口最多的（不包括USA，可以使用 df.sort_values()等函数 ）。(Score:2/2)"
   ]
  },
  {
   "cell_type": "code",
   "execution_count": 161,
   "metadata": {},
   "outputs": [
    {
     "data": {
      "text/html": [
       "<div>\n",
       "<style scoped>\n",
       "    .dataframe tbody tr th:only-of-type {\n",
       "        vertical-align: middle;\n",
       "    }\n",
       "\n",
       "    .dataframe tbody tr th {\n",
       "        vertical-align: top;\n",
       "    }\n",
       "\n",
       "    .dataframe thead th {\n",
       "        text-align: right;\n",
       "    }\n",
       "</style>\n",
       "<table border=\"1\" class=\"dataframe\">\n",
       "  <thead>\n",
       "    <tr style=\"text-align: right;\">\n",
       "      <th></th>\n",
       "      <th>year</th>\n",
       "      <th>population</th>\n",
       "    </tr>\n",
       "    <tr>\n",
       "      <th>state/region</th>\n",
       "      <th></th>\n",
       "      <th></th>\n",
       "    </tr>\n",
       "  </thead>\n",
       "  <tbody>\n",
       "    <tr>\n",
       "      <th>CA</th>\n",
       "      <td>2010.5</td>\n",
       "      <td>9.256073e+06</td>\n",
       "    </tr>\n",
       "    <tr>\n",
       "      <th>TX</th>\n",
       "      <td>2010.5</td>\n",
       "      <td>6.884565e+06</td>\n",
       "    </tr>\n",
       "    <tr>\n",
       "      <th>NY</th>\n",
       "      <td>2010.5</td>\n",
       "      <td>4.305392e+06</td>\n",
       "    </tr>\n",
       "    <tr>\n",
       "      <th>FL</th>\n",
       "      <td>2010.5</td>\n",
       "      <td>4.009472e+06</td>\n",
       "    </tr>\n",
       "    <tr>\n",
       "      <th>IL</th>\n",
       "      <td>2010.5</td>\n",
       "      <td>3.097347e+06</td>\n",
       "    </tr>\n",
       "  </tbody>\n",
       "</table>\n",
       "</div>"
      ],
      "text/plain": [
       "                year    population\n",
       "state/region                      \n",
       "CA            2010.5  9.256073e+06\n",
       "TX            2010.5  6.884565e+06\n",
       "NY            2010.5  4.305392e+06\n",
       "FL            2010.5  4.009472e+06\n",
       "IL            2010.5  3.097347e+06"
      ]
     },
     "execution_count": 161,
     "metadata": {},
     "output_type": "execute_result"
    }
   ],
   "source": [
    "mean_by_states = df[(df.ages == 'under18') & (df.year >= 2008) & (df['state/region']!='USA')].groupby('state/region').mean()\n",
    "top_5_df = mean_by_states.sort_values(by='population', ascending=0).head(5)\n",
    "top_5_df"
   ]
  },
  {
   "cell_type": "markdown",
   "metadata": {},
   "source": [
    "g. 找到每年总人口的maximum，minimum，以及median (用aggreagate)(Score:2/2)"
   ]
  },
  {
   "cell_type": "code",
   "execution_count": 124,
   "metadata": {},
   "outputs": [
    {
     "data": {
      "text/html": [
       "<div>\n",
       "<style scoped>\n",
       "    .dataframe tbody tr th:only-of-type {\n",
       "        vertical-align: middle;\n",
       "    }\n",
       "\n",
       "    .dataframe tbody tr th {\n",
       "        vertical-align: top;\n",
       "    }\n",
       "\n",
       "    .dataframe thead tr th {\n",
       "        text-align: left;\n",
       "    }\n",
       "\n",
       "    .dataframe thead tr:last-of-type th {\n",
       "        text-align: right;\n",
       "    }\n",
       "</style>\n",
       "<table border=\"1\" class=\"dataframe\">\n",
       "  <thead>\n",
       "    <tr>\n",
       "      <th></th>\n",
       "      <th colspan=\"3\" halign=\"left\">population</th>\n",
       "    </tr>\n",
       "    <tr>\n",
       "      <th></th>\n",
       "      <th>min</th>\n",
       "      <th>max</th>\n",
       "      <th>median</th>\n",
       "    </tr>\n",
       "    <tr>\n",
       "      <th>year</th>\n",
       "      <th></th>\n",
       "      <th></th>\n",
       "      <th></th>\n",
       "    </tr>\n",
       "  </thead>\n",
       "  <tbody>\n",
       "    <tr>\n",
       "      <th>1990</th>\n",
       "      <td>453690.0</td>\n",
       "      <td>249622814.0</td>\n",
       "      <td>3404386.5</td>\n",
       "    </tr>\n",
       "    <tr>\n",
       "      <th>1991</th>\n",
       "      <td>459260.0</td>\n",
       "      <td>252980942.0</td>\n",
       "      <td>3478761.5</td>\n",
       "    </tr>\n",
       "    <tr>\n",
       "      <th>1992</th>\n",
       "      <td>466251.0</td>\n",
       "      <td>256514231.0</td>\n",
       "      <td>3558201.5</td>\n",
       "    </tr>\n",
       "    <tr>\n",
       "      <th>1993</th>\n",
       "      <td>473081.0</td>\n",
       "      <td>259918595.0</td>\n",
       "      <td>3638524.0</td>\n",
       "    </tr>\n",
       "    <tr>\n",
       "      <th>1994</th>\n",
       "      <td>480283.0</td>\n",
       "      <td>263125826.0</td>\n",
       "      <td>3714782.5</td>\n",
       "    </tr>\n",
       "    <tr>\n",
       "      <th>1995</th>\n",
       "      <td>485160.0</td>\n",
       "      <td>266278403.0</td>\n",
       "      <td>3787617.5</td>\n",
       "    </tr>\n",
       "    <tr>\n",
       "      <th>1996</th>\n",
       "      <td>488167.0</td>\n",
       "      <td>269394291.0</td>\n",
       "      <td>3857868.0</td>\n",
       "    </tr>\n",
       "    <tr>\n",
       "      <th>1997</th>\n",
       "      <td>489452.0</td>\n",
       "      <td>272646932.0</td>\n",
       "      <td>3906221.5</td>\n",
       "    </tr>\n",
       "    <tr>\n",
       "      <th>1998</th>\n",
       "      <td>490787.0</td>\n",
       "      <td>275854116.0</td>\n",
       "      <td>3952313.0</td>\n",
       "    </tr>\n",
       "    <tr>\n",
       "      <th>1999</th>\n",
       "      <td>491780.0</td>\n",
       "      <td>279040181.0</td>\n",
       "      <td>3996367.5</td>\n",
       "    </tr>\n",
       "    <tr>\n",
       "      <th>2000</th>\n",
       "      <td>494300.0</td>\n",
       "      <td>282162411.0</td>\n",
       "      <td>4024223.0</td>\n",
       "    </tr>\n",
       "    <tr>\n",
       "      <th>2001</th>\n",
       "      <td>494657.0</td>\n",
       "      <td>284968955.0</td>\n",
       "      <td>4064995.0</td>\n",
       "    </tr>\n",
       "    <tr>\n",
       "      <th>2002</th>\n",
       "      <td>500017.0</td>\n",
       "      <td>287625193.0</td>\n",
       "      <td>4089875.0</td>\n",
       "    </tr>\n",
       "    <tr>\n",
       "      <th>2003</th>\n",
       "      <td>503453.0</td>\n",
       "      <td>290107933.0</td>\n",
       "      <td>4117170.0</td>\n",
       "    </tr>\n",
       "    <tr>\n",
       "      <th>2004</th>\n",
       "      <td>509106.0</td>\n",
       "      <td>292805298.0</td>\n",
       "      <td>4146101.0</td>\n",
       "    </tr>\n",
       "    <tr>\n",
       "      <th>2005</th>\n",
       "      <td>514157.0</td>\n",
       "      <td>295516599.0</td>\n",
       "      <td>4182742.0</td>\n",
       "    </tr>\n",
       "    <tr>\n",
       "      <th>2006</th>\n",
       "      <td>522667.0</td>\n",
       "      <td>298379912.0</td>\n",
       "      <td>4219239.0</td>\n",
       "    </tr>\n",
       "    <tr>\n",
       "      <th>2007</th>\n",
       "      <td>534876.0</td>\n",
       "      <td>301231207.0</td>\n",
       "      <td>4256672.0</td>\n",
       "    </tr>\n",
       "    <tr>\n",
       "      <th>2008</th>\n",
       "      <td>546043.0</td>\n",
       "      <td>304093966.0</td>\n",
       "      <td>4289878.0</td>\n",
       "    </tr>\n",
       "    <tr>\n",
       "      <th>2009</th>\n",
       "      <td>559851.0</td>\n",
       "      <td>306771529.0</td>\n",
       "      <td>4317074.0</td>\n",
       "    </tr>\n",
       "    <tr>\n",
       "      <th>2010</th>\n",
       "      <td>564222.0</td>\n",
       "      <td>309326295.0</td>\n",
       "      <td>4347698.0</td>\n",
       "    </tr>\n",
       "    <tr>\n",
       "      <th>2011</th>\n",
       "      <td>567329.0</td>\n",
       "      <td>311582564.0</td>\n",
       "      <td>4366869.0</td>\n",
       "    </tr>\n",
       "    <tr>\n",
       "      <th>2012</th>\n",
       "      <td>576626.0</td>\n",
       "      <td>313873685.0</td>\n",
       "      <td>4379730.0</td>\n",
       "    </tr>\n",
       "    <tr>\n",
       "      <th>2013</th>\n",
       "      <td>582658.0</td>\n",
       "      <td>316128839.0</td>\n",
       "      <td>4395295.0</td>\n",
       "    </tr>\n",
       "  </tbody>\n",
       "</table>\n",
       "</div>"
      ],
      "text/plain": [
       "     population                        \n",
       "            min          max     median\n",
       "year                                   \n",
       "1990   453690.0  249622814.0  3404386.5\n",
       "1991   459260.0  252980942.0  3478761.5\n",
       "1992   466251.0  256514231.0  3558201.5\n",
       "1993   473081.0  259918595.0  3638524.0\n",
       "1994   480283.0  263125826.0  3714782.5\n",
       "1995   485160.0  266278403.0  3787617.5\n",
       "1996   488167.0  269394291.0  3857868.0\n",
       "1997   489452.0  272646932.0  3906221.5\n",
       "1998   490787.0  275854116.0  3952313.0\n",
       "1999   491780.0  279040181.0  3996367.5\n",
       "2000   494300.0  282162411.0  4024223.0\n",
       "2001   494657.0  284968955.0  4064995.0\n",
       "2002   500017.0  287625193.0  4089875.0\n",
       "2003   503453.0  290107933.0  4117170.0\n",
       "2004   509106.0  292805298.0  4146101.0\n",
       "2005   514157.0  295516599.0  4182742.0\n",
       "2006   522667.0  298379912.0  4219239.0\n",
       "2007   534876.0  301231207.0  4256672.0\n",
       "2008   546043.0  304093966.0  4289878.0\n",
       "2009   559851.0  306771529.0  4317074.0\n",
       "2010   564222.0  309326295.0  4347698.0\n",
       "2011   567329.0  311582564.0  4366869.0\n",
       "2012   576626.0  313873685.0  4379730.0\n",
       "2013   582658.0  316128839.0  4395295.0"
      ]
     },
     "execution_count": 124,
     "metadata": {},
     "output_type": "execute_result"
    }
   ],
   "source": [
    "tot = df[df.ages == 'total']\n",
    "tot.groupby('year').aggregate([min, max, np.median])"
   ]
  },
  {
   "cell_type": "markdown",
   "metadata": {},
   "source": [
    "h. 把df state/region  下的 IL 改成 Illinois (可以自己define一个function，也可以查询Python lambda function的使用)(Score:2/2)"
   ]
  },
  {
   "cell_type": "code",
   "execution_count": 169,
   "metadata": {},
   "outputs": [
    {
     "data": {
      "text/plain": [
       "state/region       Illinois\n",
       "ages                  total\n",
       "year                   1990\n",
       "population      1.14533e+07\n",
       "Name: 625, dtype: object"
      ]
     },
     "execution_count": 169,
     "metadata": {},
     "output_type": "execute_result"
    }
   ],
   "source": [
    "df['state/region'] = df['state/region'].apply(lambda i: 'Illinois' if i == 'IL' else i )\n",
    "df.iloc[625,:]"
   ]
  },
  {
   "cell_type": "markdown",
   "metadata": {},
   "source": [
    "j. Do a brief but meaningful analysis to the US population data with the tools you learned. Remember to briefly explain it with comments.(Score:2/2)"
   ]
  },
  {
   "cell_type": "code",
   "execution_count": 179,
   "metadata": {},
   "outputs": [
    {
     "data": {
      "text/plain": [
       "year\n",
       "1990    0.259266\n",
       "1991    0.258784\n",
       "1992    0.258274\n",
       "1993    0.257607\n",
       "1994    0.257540\n",
       "1995    0.258460\n",
       "1996    0.256769\n",
       "1997    0.257076\n",
       "1998    0.253877\n",
       "1999    0.253104\n",
       "2000    0.252073\n",
       "2001    0.250784\n",
       "2002    0.249234\n",
       "2003    0.247160\n",
       "2004    0.245802\n",
       "2005    0.244481\n",
       "2006    0.243422\n",
       "2007    0.242314\n",
       "2008    0.240542\n",
       "2009    0.238379\n",
       "2010    0.236328\n",
       "2011    0.234454\n",
       "2012    0.231963\n",
       "2013    0.229943\n",
       "Name: youth_ratio, dtype: float64"
      ]
     },
     "execution_count": 179,
     "metadata": {},
     "output_type": "execute_result"
    }
   ],
   "source": [
    "def get_youth_ratio_of_state(state_name):\n",
    "    \n",
    "    state = df[df['state/region'] == state_name]\n",
    "    state_population_by_ages = state.pivot(index='year',values='population',columns='ages')\n",
    "    state_population_by_ages['youth_ratio'] = state_population_by_ages['under18'] / state_population_by_ages['total']\n",
    "    return state_population_by_ages['youth_ratio']\n",
    "\n",
    "get_youth_ratio_of_state('AL')\n",
    "\n",
    "#This function gets the ratio of under18 population against the total population of a state/region\n",
    "#In the example demonstated, we can see that the YOUTH RATIO of ALABAMA is decreasing from 1990 to 2013"
   ]
  },
  {
   "cell_type": "markdown",
   "metadata": {},
   "source": [
    "# 反馈\n",
    "如果你对这个quiz的难度，预习的进度，以及课程目前以来的任何方面有任何建议或者问题都欢迎写在下面！"
   ]
  },
  {
   "cell_type": "code",
   "execution_count": null,
   "metadata": {},
   "outputs": [],
   "source": []
  }
 ],
 "metadata": {
  "kernelspec": {
   "display_name": "Python 3",
   "language": "python",
   "name": "python3"
  },
  "language_info": {
   "codemirror_mode": {
    "name": "ipython",
    "version": 3
   },
   "file_extension": ".py",
   "mimetype": "text/x-python",
   "name": "python",
   "nbconvert_exporter": "python",
   "pygments_lexer": "ipython3",
   "version": "3.7.3"
  }
 },
 "nbformat": 4,
 "nbformat_minor": 4
}
