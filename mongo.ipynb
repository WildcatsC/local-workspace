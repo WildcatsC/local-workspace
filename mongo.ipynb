{
  "cells": [
    {
      "cell_type": "code",
      "metadata": {},
      "source": [
        "# Mongo authentication Ex\n",
        "\n",
        "from pymongo import MongoClient \n",
        "import urllib.parse\n",
        "import pprint\n",
        "\n",
        "\n",
        "username = urllib.parse.quote_plus('metaplugRead')\n",
        "password = urllib.parse.quote_plus('metaplugRead!@#')\n",
        "client = MongoClient('mongodb://%s:%s@13.52.82.150:27017' % (username, password))\n",
        "\n",
        "client_temp = MongoClient('localhost', 27017)\n",
        "db = client_temp.test_database\n",
        "#client.admin.command('copydb', fromdb='InstaDB',todb='db',fromhost='13.52.82.150:27017')\n",
        "\n",
        "# try first \n",
        "\n",
        "post = {\"a\" : \"A\", \"b\" : \"B\", \"z\" : \"Z\"}\n",
        "posts = db.posts\n",
        "posts_id = posts.insert_one(post)\n",
        "\n",
        "print(\" === \")\n",
        "print(\"print posts.find_one()\")\n",
        "pprint.pprint(posts.find_one())\n",
        "print(\" \\n\")\n",
        "print(\"print db.list_collection_names)\")\n",
        "print(db.list_collection_names)\n",
        "\n"
      ],
      "outputs": [],
      "execution_count": null
    }
  ],
  "metadata": {
    "anaconda-cloud": {},
    "kernelspec": {
      "display_name": "Python 3",
      "language": "python",
      "name": "python3"
    },
    "language_info": {
      "codemirror_mode": {
        "name": "ipython",
        "version": 3
      },
      "file_extension": ".py",
      "mimetype": "text/x-python",
      "name": "python",
      "nbconvert_exporter": "python",
      "pygments_lexer": "ipython3",
      "version": "3.6.1"
    }
  },
  "nbformat": 4,
  "nbformat_minor": 1
}